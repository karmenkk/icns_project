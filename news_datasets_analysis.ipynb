{
 "cells": [
  {
   "cell_type": "code",
   "execution_count": 25,
   "metadata": {},
   "outputs": [],
   "source": [
    "from sklearn.datasets import fetch_rcv1\n",
    "from sklearn.datasets import fetch_20newsgroups\n",
    "\n",
    "import pandas as pd\n",
    "import io\n",
    "import requests\n",
    "import re"
   ]
  },
  {
   "cell_type": "markdown",
   "metadata": {},
   "source": [
    "# Reuters Corpus Volume I  Dataset (vectorized)\n",
    "\n",
    "##### https://scikit-learn.org/0.18/modules/generated/sklearn.datasets.fetch_rcv1.html#sklearn.datasets.fetch_rcv1"
   ]
  },
  {
   "cell_type": "code",
   "execution_count": 2,
   "metadata": {},
   "outputs": [],
   "source": [
    "# Reuters Corpus Volume I (RCV1) is an archive of over 800,000 manually categorized newswire stories \n",
    "# made available by Reuters, Ltd. \n",
    "rcv1 = fetch_rcv1()"
   ]
  },
  {
   "cell_type": "code",
   "execution_count": 76,
   "metadata": {},
   "outputs": [
    {
     "name": "stdout",
     "output_type": "stream",
     "text": [
      "Data shape:  (804414, 47236)\n",
      "Data example: \n",
      "   (0, 863)\t0.0497399253756197\n",
      "  (0, 1522)\t0.044664135988103\n",
      "  (0, 1680)\t0.0673871572152868\n",
      "  (0, 2292)\t0.0718104827746566\n",
      "  (0, 2844)\t0.0657133637266077\n",
      "  (0, 2866)\t0.0653401708076665\n",
      "  (0, 3239)\t0.0795167845321379\n",
      "  (0, 4124)\t0.0423215276156812\n",
      "  (0, 4270)\t0.0691368598826452\n",
      "  (0, 4664)\t0.0500863047167235\n",
      "  (0, 5215)\t0.252185352537681\n",
      "  (0, 5572)\t0.0672561839956375\n",
      "  (0, 5698)\t0.0594998147298331\n",
      "  (0, 5793)\t0.0737821454910533\n",
      "  (0, 6221)\t0.12450060912141\n",
      "  (0, 6591)\t0.101431159576997\n",
      "  (0, 7226)\t0.194090655513477\n",
      "  (0, 7974)\t0.0766400848671463\n",
      "  (0, 8144)\t0.0295331356836656\n",
      "  (0, 8758)\t0.0595662280181838\n",
      "  (0, 8770)\t0.130789753977649\n",
      "  (0, 8900)\t0.052116236521377\n",
      "  (0, 8926)\t0.0367838394252549\n",
      "  (0, 8939)\t0.0479419428634425\n",
      "  (0, 9106)\t0.0533192746608269\n",
      "  :\t:\n",
      "  (804413, 40027)\t0.134992384776206\n",
      "  (804413, 40123)\t0.064727254144766\n",
      "  (804413, 40253)\t0.122924999057456\n",
      "  (804413, 40404)\t0.0830129833067653\n",
      "  (804413, 40424)\t0.0756633647305509\n",
      "  (804413, 40474)\t0.122924999057456\n",
      "  (804413, 40630)\t0.0467888582516604\n",
      "  (804413, 40858)\t0.171888707990866\n",
      "  (804413, 40863)\t0.113782913882023\n",
      "  (804413, 41356)\t0.100026361441092\n",
      "  (804413, 42113)\t0.0940559819550991\n",
      "  (804413, 42247)\t0.223061432129454\n",
      "  (804413, 42276)\t0.0355994513805629\n",
      "  (804413, 42374)\t0.129920652750751\n",
      "  (804413, 42485)\t0.0954356784503608\n",
      "  (804413, 42605)\t0.0731951166611467\n",
      "  (804413, 42840)\t0.0559201972348143\n",
      "  (804413, 42935)\t0.0527833409828069\n",
      "  (804413, 43048)\t0.298015352515672\n",
      "  (804413, 44380)\t0.0692703101269842\n",
      "  (804413, 45469)\t0.0687588061080658\n",
      "  (804413, 45914)\t0.169541558153828\n",
      "  (804413, 45944)\t0.239075662762676\n",
      "  (804413, 46096)\t0.0801046456087101\n",
      "  (804413, 46158)\t0.0387758981260741\n"
     ]
    }
   ],
   "source": [
    "print('Data shape: ', rcv1.data.shape)\n",
    "print('Data example: \\n', rcv1.data)\n"
   ]
  },
  {
   "cell_type": "markdown",
   "metadata": {},
   "source": [
    "# 20 Newsgroups Dataset (textual)\n",
    "\n",
    "##### https://scikit-learn.org/stable/modules/generated/sklearn.datasets.fetch_20newsgroups.html"
   ]
  },
  {
   "cell_type": "code",
   "execution_count": 64,
   "metadata": {},
   "outputs": [],
   "source": [
    "newsgroups = fetch_20newsgroups(remove=['headers', 'footers', 'quotes'])\n"
   ]
  },
  {
   "cell_type": "code",
   "execution_count": 75,
   "metadata": {},
   "outputs": [
    {
     "name": "stdout",
     "output_type": "stream",
     "text": [
      "\n",
      " -- Data Example -- \n",
      " \n",
      "  I was wondering if anyone out there could enlighten me on this car I saw\n",
      "the other day. It was a 2-door sports car, looked to be from the late 60s/\n",
      "early 70s. It was called a Bricklin. The doors were really small. In addition,\n",
      "the front bumper was separate from the rest of the body. This is \n",
      "all I know. If anyone can tellme a model name, engine specs, years\n",
      "of production, where this car is made, history, or whatever info you\n",
      "have on this funky looking car, please e-mail.\n",
      "\n",
      " -- Data Example -- \n",
      " \n",
      "  \n",
      "The front covers should be available from Sony.  Check with a local car\n",
      "stereo shop.  You will probably (definitely) have to provide the units \n",
      "serial number and hopefully you had registered the warranty card.  I \n",
      "don't know the cost, but replacements have to be available to people\n",
      "who damage the face cover, so it stands to reason that it can be replaced.\n",
      "\n",
      "As to deterring theft:\n",
      "\n",
      "When I worked for a stereo shop, we referred the customer to a Sony 800\n",
      "number.  We would not sell the face, nor did we have them available.  Most\n",
      "people who came in asking for the face cover (or a pullout sleave for that\n",
      "matter) would look very disheartened to find that they acquired a deck\n",
      "they couldn't use.  If theft occurs with these decks, notify Sony.  Serial\n",
      "numbers do catch theives.\n",
      "\n",
      " -- Data Example -- \n",
      " \n",
      "  1.  Software publishing SuperBase 4 windows v.1.3           --->$80\n",
      "\n",
      "2.  OCR System ReadRight v.3.1 for Windows                  --->$65\n",
      "\n",
      "3.  OCR System ReadRight  v.2.01 for DOS                    --->$65\n",
      "\n",
      "4.  Unregistered Zortech 32 bit C++ Compiler v.3.1          --->$ 250\n",
      "     with Multiscope windows Debugger,\n",
      "     WhiteWater Resource Toolkit, Library Source Code\n",
      "\n",
      "5.  Glockenspiel/ImageSoft Commonview 2 Windows\n",
      "     Applications Framework for Borland C++                 --->$70\n",
      "\n",
      "6.  Spontaneous Assembly Library With Source Code           --->$50\n",
      "\n",
      "7.  Microsoft Macro Assembly 6.0                            --->$50\n",
      "\n",
      "8.  Microsoft Windows v.3.1 SDK Documentation               --->$125\n",
      "\n",
      "9.  Microsoft FoxPro V.2.0                                  --->$75\n",
      "\n",
      "10.  WordPerfect 5.0 Developer's Toolkit                    --->$20\n",
      "\n",
      "11.  Kedwell Software DataBoss v.3.5 C Code Generator       --->$100\n",
      "\n",
      "12.  Kedwell InstallBoss v.2.0 Installation Generator       --->$35\n",
      "\n",
      "13.  Liant Software C++/Views v.2.1\n",
      "       Windows Application Framework with Source Code       --->$195\n",
      "\n",
      "14.  IBM OS/2 2.0 & Developer's Toolkit                     --->$95\n",
      "\n",
      "15.  CBTree DOS/Windows Library with Source Code            --->$120\n",
      "\n",
      "16.  Symantec TimeLine for Windows                          --->$90\n",
      "\n",
      "17.  TimeSlip TimeSheet Professional for Windows            --->$30\n"
     ]
    }
   ],
   "source": [
    "print('\\n -- Data Example -- \\n \\n ', newsgroups.data[0])\n",
    "print('\\n -- Data Example -- \\n \\n ', newsgroups.data[30])\n",
    "print('\\n -- Data Example -- \\n \\n ', newsgroups.data[100])\n"
   ]
  },
  {
   "cell_type": "markdown",
   "metadata": {},
   "source": [
    "# News Datset (textual)\n",
    "##### https://github.com/dcorvasce/news-dataset"
   ]
  },
  {
   "cell_type": "code",
   "execution_count": 87,
   "metadata": {},
   "outputs": [],
   "source": [
    "url=\"https://raw.githubusercontent.com/dcorvasce/news-dataset/master/dataset.csv\"\n",
    "url_content=requests.get(url).content\n",
    "data=pd.read_csv(io.StringIO(url_content.decode('utf-8')))\n"
   ]
  },
  {
   "cell_type": "code",
   "execution_count": 103,
   "metadata": {},
   "outputs": [
    {
     "name": "stdout",
     "output_type": "stream",
     "text": [
      "\n",
      " Data Example: \n",
      "                                                 news category\n",
      "0   b'Longevity Increase Seen Around the World: WHO'   health\n",
      "1  b'Chikungunya spreading, mosquito-borne virus ...   health\n",
      "2  b'Family rejects plan to solve medical custody...   health\n",
      "3  b'FDA proposes program for faster approval of ...   health\n",
      "4  b'Red wine, chocolate, grapes may not improve ...   health\n",
      "\n",
      " Data Example: \n",
      " b'Family rejects plan to solve medical custody dispute'\n",
      "\n",
      " Data Example: \n",
      " b'Four Loko Manufacturer Agrees to Stop Sale of Alcohol Energy Drinks'\n",
      "\n",
      " Data Example: \n",
      " b\"Endocyte's Vynfinit Drug Successful in Treating Ovarian and Lung Cancer\"\n",
      "\n",
      " Data Example: \n",
      " b'Scientists Transplanted Laboratory-Grown Vaginas Into Women Born Without  ...'\n",
      "\n",
      " Data Example: \n",
      " b'Low back pain the number one cause of job disability'\n",
      "\n",
      " Data Example: \n",
      " b'New Study to Target Cancer Stem Cell Drug Resistance Pathway'\n",
      "\n",
      " Data Example: \n",
      " b'Michael Schumacher:Determined IP address of the medical records-seller  ...'\n",
      "\n",
      " Data Example: \n",
      " b'Smoking cannabis damages your heart'\n"
     ]
    }
   ],
   "source": [
    "print('\\n Data Example: \\n', data.head())\n",
    "print('\\n Data Example: \\n', data['news'][2])\n",
    "print('\\n Data Example: \\n', data['news'][478])\n",
    "print('\\n Data Example: \\n', data['news'][867])\n",
    "print('\\n Data Example: \\n', data['news'][2693])\n",
    "print('\\n Data Example: \\n', data['news'][3456])\n",
    "print('\\n Data Example: \\n', data['news'][10569])\n",
    "print('\\n Data Example: \\n', data['news'][23890])\n",
    "print('\\n Data Example: \\n', data['news'][39786])\n"
   ]
  },
  {
   "cell_type": "markdown",
   "metadata": {},
   "source": [
    "# BBC News Dataset (textual)\n",
    "\n",
    "##### https://www.kaggle.com/c/learn-ai-bbc/data"
   ]
  },
  {
   "cell_type": "code",
   "execution_count": 105,
   "metadata": {},
   "outputs": [],
   "source": [
    "bbc_news = pd.read_csv('../BBC_news/BBC_News_Train.csv')"
   ]
  },
  {
   "cell_type": "code",
   "execution_count": 117,
   "metadata": {},
   "outputs": [
    {
     "name": "stdout",
     "output_type": "stream",
     "text": [
      "\n",
      " Data Example: \n",
      "    ArticleId                                               Text  Category\n",
      "0       1833  worldcom ex-boss launches defence lawyers defe...  business\n",
      "1        154  german business confidence slides german busin...  business\n",
      "2       1101  bbc poll indicates economic gloom citizens in ...  business\n",
      "3       1976  lifestyle  governs mobile choice  faster  bett...      tech\n",
      "4        917  enron bosses in $168m payout eighteen former e...  business\n",
      "\n",
      " Data Shape: \n",
      " (1490, 3)\n",
      "\n",
      " Data Example: \n",
      " worldcom ex-boss launches defence lawyers defending former worldcom chief bernie ebbers against a battery of fraud charges have called a company whistleblower as their first witness.  cynthia cooper  worldcom s ex-head of internal accounting  alerted directors to irregular accounting practices at the us telecoms giant in 2002. her warnings led to the collapse of the firm following the discovery of an $11bn (£5.7bn) accounting fraud. mr ebbers has pleaded not guilty to charges of fraud and conspiracy.  prosecution lawyers have argued that mr ebbers orchestrated a series of accounting tricks at worldcom  ordering employees to hide expenses and inflate revenues to meet wall street earnings estimates. but ms cooper  who now runs her own consulting business  told a jury in new york on wednesday that external auditors arthur andersen had approved worldcom s accounting in early 2001 and 2002. she said andersen had given a  green light  to the procedures and practices used by worldcom. mr ebber s lawyers have said he was unaware of the fraud  arguing that auditors did not alert him to any problems.  ms cooper also said that during shareholder meetings mr ebbers often passed over technical questions to the company s finance chief  giving only  brief  answers himself. the prosecution s star witness  former worldcom financial chief scott sullivan  has said that mr ebbers ordered accounting adjustments at the firm  telling him to  hit our books . however  ms cooper said mr sullivan had not mentioned  anything uncomfortable  about worldcom s accounting during a 2001 audit committee meeting. mr ebbers could face a jail sentence of 85 years if convicted of all the charges he is facing. worldcom emerged from bankruptcy protection in 2004  and is now known as mci. last week  mci agreed to a buyout by verizon communications in a deal valued at $6.75bn.\n",
      "\n",
      " Data Example: \n",
      " lifestyle  governs mobile choice  faster  better or funkier hardware alone is not going to help phone firms sell more handsets  research suggests.  instead  phone firms keen to get more out of their customers should not just be pushing the technology for its own sake. consumers are far more interested in how handsets fit in with their lifestyle than they are in screen size  onboard memory or the chip inside  shows an in-depth study by handset maker ericsson.  historically in the industry there has been too much focus on using technology   said dr michael bjorn  senior advisor on mobile media at ericsson s consumer and enterprise lab.  we have to stop saying that these technologies will change their lives   he said.  we should try to speak to consumers in their own language and help them see how it fits in with what they are doing   he told the bbc news website.  for the study  ericsson interviewed 14 000 mobile phone owners on the ways they use their phone.  people s habits remain the same   said dr bjorn.  they just move the activity into the mobile phone as it s a much more convenient way to do it.   one good example of this was diary-writing among younger people  he said. while diaries have always been popular  a mobile phone -- especially one equipped with a camera -- helps them keep it in a different form. youngsters  use of text messages also reflects their desire to chat and keep in contact with friends and again just lets them do it in a slightly changed way. dr bjorn said that although consumers do what they always did but use a phone to do it  the sheer variety of what the new handset technologies make possible does gradually drive new habits and lifestyles. ericsson s research has shown that consumers divide into different  tribes  that use phones in different ways. dr bjorn said groups dubbed  pioneers  and  materialists  were most interested in trying new things and were behind the start of many trends in phone use.  for instance   he said   older people are using sms much more than they did five years ago.  this was because younger users  often the children of ageing mobile owners  encouraged older people to try it so they could keep in touch.  another factor governing the speed of change in mobile phone use was the simple speed with which new devices are bought by pioneers and materialists. only when about 25% of people have handsets with new innovations on them  such as cameras  can consumers stop worrying that if they send a picture message the person at the other end will be able to see it.  once this significant number of users is passed  use of new innovations tends to take off. dr bjorn said that early reports of camera phone usage in japan seemed to imply that the innovation was going to be a flop. however  he said  now 45% of the japanese people ericsson questioned use their camera phone at least once a month. in 2003 the figure was 29%. similarly  across europe the numbers of people taking snaps with cameras is starting to rise. in 2003 only 4% of the people in the uk took a phonecam snap at least once a month. now the figure is 14%. similar rises have been seen in many other european nations. dr bjorn said that people also used their camera phones in very different ways to film and even digital cameras.  usage patterns for digital cameras are almost exactly replacing usage patterns for analogue cameras   he said. digital cameras tend to be used on significant events such as weddings  holidays and birthdays. by contrast  he said  camera phones were being used much more to capture a moment and were being woven into everyday life.\n",
      "\n",
      " Data Example: \n",
      " santy worm makes unwelcome visit thousands of website bulletin boards have been defaced by a virus that used google to spread across the net.  the santy worm first appeared on 20 december and within 24 hours had successfully hit more than 40 000 websites. the malicious program exploits a vulnerability in the widely used phpbb software. santy s spread has now been stopped after google began blocking infected sites searching for new victims.  the worm replaces chat forums with a webpage announcing that the site had been defaced by the malicious program. soon after being infected  sites hit by the worm started randomly searching for other websites running the vulnerable phpbb software. once google started blocking these search queries the rate of infection tailed off sharply. a message sent to finnish security firm f-secure by google s security team said:  while a seven hour response for something like this is not outrageous  we think we can and should do better.   we will be reviewing our procedures to improve our response time in the future to similar problems   the google team said. security firms estimate that about 1m websites run their discussion groups and forums with the open source phpbb program. the worst of the attack now seems to be over as a search conducted on the morning of the 22 december produced only 1 440 hits for sites showing the text used in the defacement message. people using the sites hit by santy will not be affected by the worm. santy is not the first malicious program to use google to help it spread. in july a variant of the mydoom virus slowed down searches on google as the program flooded the search site with queries looking for new e-mail addresses to send itself to.\n"
     ]
    }
   ],
   "source": [
    "print('\\n Data Example: \\n', bbc_news.head())\n",
    "\n",
    "print('\\n Data Shape: \\n', bbc_news.shape)\n",
    "print('\\n Data Example: \\n', bbc_news['Text'][0])\n",
    "print('\\n Data Example: \\n', bbc_news['Text'][3])\n",
    "print('\\n Data Example: \\n', bbc_news['Text'][1489])"
   ]
  },
  {
   "cell_type": "markdown",
   "metadata": {},
   "source": [
    "# Adjust BBC News Dataset \n",
    "- Shorten each aricle to only contain 2 sentences  \n",
    "- Write adjusted data into .csv file"
   ]
  },
  {
   "cell_type": "code",
   "execution_count": 14,
   "metadata": {},
   "outputs": [
    {
     "name": "stdout",
     "output_type": "stream",
     "text": [
      "                                                   Text       Category\n",
      "0     worldcom ex-boss launches defence lawyers defe...       business\n",
      "1     german business confidence slides german busin...       business\n",
      "2     bbc poll indicates economic gloom citizens in ...       business\n",
      "3     lifestyle  governs mobile choice  faster  bett...           tech\n",
      "4     enron bosses in $168m payout eighteen former e...       business\n",
      "...                                                 ...            ...\n",
      "1485  double eviction from big brother model caprice...  entertainment\n",
      "1486  dj double act revamp chart show dj duo jk and ...  entertainment\n",
      "1487  weak dollar hits reuters revenues at media gro...       business\n",
      "1488  apple ipod family expands market apple has exp...           tech\n",
      "1489  santy worm makes unwelcome visit thousands of ...           tech\n",
      "\n",
      "[1490 rows x 2 columns]\n"
     ]
    }
   ],
   "source": [
    "bbc_news = pd.read_csv('../BBC_news/BBC_News_Train.csv')\n",
    "\n",
    "news = bbc_news[['Text', 'Category']]\n",
    "print(news)"
   ]
  },
  {
   "cell_type": "code",
   "execution_count": 59,
   "metadata": {},
   "outputs": [
    {
     "name": "stdout",
     "output_type": "stream",
     "text": [
      "\n",
      " The whole: \n",
      " worldcom ex-boss launches defence lawyers defending former worldcom chief bernie ebbers against a battery of fraud charges have called a company whistleblower as their first witness.  cynthia cooper  worldcom s ex-head of internal accounting  alerted directors to irregular accounting practices at the us telecoms giant in 2002. her warnings led to the collapse of the firm following the discovery of an $11bn (£5.7bn) accounting fraud. mr ebbers has pleaded not guilty to charges of fraud and conspiracy.  prosecution lawyers have argued that mr ebbers orchestrated a series of accounting tricks at worldcom  ordering employees to hide expenses and inflate revenues to meet wall street earnings estimates. but ms cooper  who now runs her own consulting business  told a jury in new york on wednesday that external auditors arthur andersen had approved worldcom s accounting in early 2001 and 2002. she said andersen had given a  green light  to the procedures and practices used by worldcom. mr ebber s lawyers have said he was unaware of the fraud  arguing that auditors did not alert him to any problems.  ms cooper also said that during shareholder meetings mr ebbers often passed over technical questions to the company s finance chief  giving only  brief  answers himself. the prosecution s star witness  former worldcom financial chief scott sullivan  has said that mr ebbers ordered accounting adjustments at the firm  telling him to  hit our books . however  ms cooper said mr sullivan had not mentioned  anything uncomfortable  about worldcom s accounting during a 2001 audit committee meeting. mr ebbers could face a jail sentence of 85 years if convicted of all the charges he is facing. worldcom emerged from bankruptcy protection in 2004  and is now known as mci. last week  mci agreed to a buyout by verizon communications in a deal valued at $6.75bn.\n",
      "\n",
      " AdjustedText: \n",
      " worldcom ex-boss launches defence lawyers defending former worldcom chief bernie ebbers against a battery of fraud charges have called a company whistleblower as their first witness. cynthia cooper  worldcom s ex-head of internal accounting  alerted directors to irregular accounting practices at the us telecoms giant in 2002.\n",
      "\n",
      " AdjustedText: \n",
      " german business confidence slides german business confidence fell in february knocking hopes of a speedy recovery in europe s largest economy. munich-based research institute ifo said that its confidence index fell to 95.5 in february from 97.5 in january  its first decline in three months.\n",
      "\n",
      " AdjustedText: \n",
      " bbc poll indicates economic gloom citizens in a majority of nations surveyed in a bbc world service poll believe the world economy is worsening. most respondents also said their national economy was getting worse.\n"
     ]
    }
   ],
   "source": [
    "for i, text in enumerate(bbc_news['Text']):\n",
    "    \n",
    "    # Select only 2 sentences:\n",
    "    adjustedText = ' '.join(re.split(r'(?<=[.;])\\s{1,2}(?=[a-z])', text)[:2])\n",
    "    #adjustedText = ' '.join(re.split(r'(?<=[.:;])\\s', text)[:2])\n",
    "    \n",
    "    news['Text'][i] = adjustedText\n",
    "    \n",
    "\n",
    "print('\\n The whole: \\n', bbc_news['Text'][0])\n",
    "print('\\n AdjustedText: \\n', news['Text'][0])\n",
    "print('\\n AdjustedText: \\n', news['Text'][1])\n",
    "print('\\n AdjustedText: \\n', news['Text'][2])"
   ]
  },
  {
   "cell_type": "code",
   "execution_count": 58,
   "metadata": {},
   "outputs": [
    {
     "name": "stdout",
     "output_type": "stream",
     "text": [
      "(1490, 2)\n"
     ]
    }
   ],
   "source": [
    "print(news.shape)\n",
    "news.to_csv('data/BBC_news_adjusted.csv', index=False, encoding='utf-8')"
   ]
  },
  {
   "cell_type": "code",
   "execution_count": null,
   "metadata": {},
   "outputs": [],
   "source": []
  }
 ],
 "metadata": {
  "kernelspec": {
   "display_name": "Python 3",
   "language": "python",
   "name": "python3"
  },
  "language_info": {
   "codemirror_mode": {
    "name": "ipython",
    "version": 3
   },
   "file_extension": ".py",
   "mimetype": "text/x-python",
   "name": "python",
   "nbconvert_exporter": "python",
   "pygments_lexer": "ipython3",
   "version": "3.8.0"
  }
 },
 "nbformat": 4,
 "nbformat_minor": 4
}
