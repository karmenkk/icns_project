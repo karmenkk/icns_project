{
 "cells": [
  {
   "cell_type": "code",
   "execution_count": 73,
   "metadata": {},
   "outputs": [],
   "source": [
    "import json\n",
    "import pandas as pd\n",
    "import re\n",
    "from pathlib import Path\n",
    "import io\n",
    "import requests"
   ]
  },
  {
   "cell_type": "code",
   "execution_count": 74,
   "metadata": {},
   "outputs": [],
   "source": [
    "pd.set_option('max_colwidth', 800)"
   ]
  },
  {
   "cell_type": "code",
   "execution_count": 75,
   "metadata": {},
   "outputs": [],
   "source": [
    "def standardize_characters(text):\n",
    "    \"\"\"\n",
    "    Standardizes characters\n",
    "    \"\"\"\n",
    "    text = re.sub('[\\n\\t\\r]|(&nbsp;)', ' ', text)\n",
    "    text = re.sub('[˗‐‑‒–—―─ー−]', '-', text)\n",
    "    text = re.sub('[«»”“„″ˮ]', '\"', text)\n",
    "    text = re.sub('[`´ʻ‘’′]', \"'\", text)\n",
    "    text = re.sub('[¸‚]', ',', text)\n",
    "    text = re.sub('…', '...', text)\n",
    "    text = re.sub('\\.{3,}\\s?\\.{1,}', '... ', text)\n",
    "    return text"
   ]
  },
  {
   "cell_type": "markdown",
   "metadata": {},
   "source": [
    "## Stupid dataset\n",
    "##### https://github.com/taivop/joke-dataset"
   ]
  },
  {
   "cell_type": "code",
   "execution_count": 76,
   "metadata": {},
   "outputs": [],
   "source": [
    "url = \"https://raw.githubusercontent.com/taivop/joke-dataset/master/stupidstuff.json\"\n",
    "url_content = requests.get(url).content\n",
    "stupid = pd.read_json(url_content, orient='records')"
   ]
  },
  {
   "cell_type": "code",
   "execution_count": 77,
   "metadata": {},
   "outputs": [
    {
     "data": {
      "text/html": [
       "<div>\n",
       "<style scoped>\n",
       "    .dataframe tbody tr th:only-of-type {\n",
       "        vertical-align: middle;\n",
       "    }\n",
       "\n",
       "    .dataframe tbody tr th {\n",
       "        vertical-align: top;\n",
       "    }\n",
       "\n",
       "    .dataframe thead th {\n",
       "        text-align: right;\n",
       "    }\n",
       "</style>\n",
       "<table border=\"1\" class=\"dataframe\">\n",
       "  <thead>\n",
       "    <tr style=\"text-align: right;\">\n",
       "      <th></th>\n",
       "      <th>body</th>\n",
       "      <th>category</th>\n",
       "      <th>id</th>\n",
       "      <th>rating</th>\n",
       "    </tr>\n",
       "  </thead>\n",
       "  <tbody>\n",
       "    <tr>\n",
       "      <th>0</th>\n",
       "      <td>A blackjack dealer and a player with a thirteen count in his hand\\nwere arguing about whether or not it was appropriate to tip the\\ndealer.\\n\\nThe player said, \"When I get bad cards, it's not the dealer's fault.\\nAccordingly, when I get good cards, the dealer obviously had nothing\\nto do with it so, why should I tip him?\"\\n\\nThe dealer said, \"When you eat out do you tip the waiter?\"\\n\\n\"Yes.\"\\n\\n\"Well then, he serves you food, I'm serving you cards, so you should\\ntip me.\"\\n\\n\"Okay, but, the waiter gives me what I ask for. I'll take an eight.\"</td>\n",
       "      <td>Children</td>\n",
       "      <td>1</td>\n",
       "      <td>2.63</td>\n",
       "    </tr>\n",
       "    <tr>\n",
       "      <th>1</th>\n",
       "      <td>At a dinner party, several of the guests were arguing whether men or women were more trustworthy. 'No woman,' said one man, scornfully, 'can keep a secret.' 'I don't know about that,' answered a blonde woman guest. 'I have kept my age a secret since I was twenty-one.' 'You'll let it out some day,' the man insisted. 'I hardly think so!' responded the blonde lady. 'When a woman has kept a secret for twenty-seven years, she can keep it forever.'</td>\n",
       "      <td>Blonde Jokes</td>\n",
       "      <td>2</td>\n",
       "      <td>2.57</td>\n",
       "    </tr>\n",
       "    <tr>\n",
       "      <th>2</th>\n",
       "      <td>One day this cop pulls over a blonde for speeding. The cop gets out of his car and asks the blonde for her license.''You cops should get it together. One day you take away my license and the next day you ask me to show it.''</td>\n",
       "      <td>Blonde Jokes</td>\n",
       "      <td>3</td>\n",
       "      <td>3.09</td>\n",
       "    </tr>\n",
       "  </tbody>\n",
       "</table>\n",
       "</div>"
      ],
      "text/plain": [
       "                                                                                                                                                                                                                                                                                                                                                                                                                                                                                                                                                                    body  \\\n",
       "0  A blackjack dealer and a player with a thirteen count in his hand\\nwere arguing about whether or not it was appropriate to tip the\\ndealer.\\n\\nThe player said, \"When I get bad cards, it's not the dealer's fault.\\nAccordingly, when I get good cards, the dealer obviously had nothing\\nto do with it so, why should I tip him?\"\\n\\nThe dealer said, \"When you eat out do you tip the waiter?\"\\n\\n\"Yes.\"\\n\\n\"Well then, he serves you food, I'm serving you cards, so you should\\ntip me.\"\\n\\n\"Okay, but, the waiter gives me what I ask for. I'll take an eight.\"   \n",
       "1                                                                                                         At a dinner party, several of the guests were arguing whether men or women were more trustworthy. 'No woman,' said one man, scornfully, 'can keep a secret.' 'I don't know about that,' answered a blonde woman guest. 'I have kept my age a secret since I was twenty-one.' 'You'll let it out some day,' the man insisted. 'I hardly think so!' responded the blonde lady. 'When a woman has kept a secret for twenty-seven years, she can keep it forever.'   \n",
       "2                                                                                                                                                                                                                                                                                                                                       One day this cop pulls over a blonde for speeding. The cop gets out of his car and asks the blonde for her license.''You cops should get it together. One day you take away my license and the next day you ask me to show it.''   \n",
       "\n",
       "       category  id  rating  \n",
       "0      Children   1    2.63  \n",
       "1  Blonde Jokes   2    2.57  \n",
       "2  Blonde Jokes   3    3.09  "
      ]
     },
     "execution_count": 77,
     "metadata": {},
     "output_type": "execute_result"
    }
   ],
   "source": [
    "stupid.head(3)"
   ]
  },
  {
   "cell_type": "code",
   "execution_count": 78,
   "metadata": {},
   "outputs": [
    {
     "data": {
      "text/plain": [
       "(3773, 4)"
      ]
     },
     "execution_count": 78,
     "metadata": {},
     "output_type": "execute_result"
    }
   ],
   "source": [
    "stupid.shape"
   ]
  },
  {
   "cell_type": "code",
   "execution_count": 79,
   "metadata": {},
   "outputs": [],
   "source": [
    "dup = stupid[stupid.duplicated(subset='body')]"
   ]
  },
  {
   "cell_type": "code",
   "execution_count": 80,
   "metadata": {},
   "outputs": [
    {
     "data": {
      "text/plain": [
       "(650, 4)"
      ]
     },
     "execution_count": 80,
     "metadata": {},
     "output_type": "execute_result"
    }
   ],
   "source": [
    "dup.shape"
   ]
  },
  {
   "cell_type": "code",
   "execution_count": 81,
   "metadata": {},
   "outputs": [],
   "source": [
    "stupid = stupid.drop(dup.index)"
   ]
  },
  {
   "cell_type": "code",
   "execution_count": 82,
   "metadata": {},
   "outputs": [
    {
     "data": {
      "text/html": [
       "<div>\n",
       "<style scoped>\n",
       "    .dataframe tbody tr th:only-of-type {\n",
       "        vertical-align: middle;\n",
       "    }\n",
       "\n",
       "    .dataframe tbody tr th {\n",
       "        vertical-align: top;\n",
       "    }\n",
       "\n",
       "    .dataframe thead th {\n",
       "        text-align: right;\n",
       "    }\n",
       "</style>\n",
       "<table border=\"1\" class=\"dataframe\">\n",
       "  <thead>\n",
       "    <tr style=\"text-align: right;\">\n",
       "      <th></th>\n",
       "      <th>body</th>\n",
       "      <th>category</th>\n",
       "      <th>id</th>\n",
       "      <th>rating</th>\n",
       "    </tr>\n",
       "  </thead>\n",
       "  <tbody>\n",
       "    <tr>\n",
       "      <th>1728</th>\n",
       "      <td></td>\n",
       "      <td>Science</td>\n",
       "      <td>1729</td>\n",
       "      <td>4.5</td>\n",
       "    </tr>\n",
       "  </tbody>\n",
       "</table>\n",
       "</div>"
      ],
      "text/plain": [
       "     body category    id  rating\n",
       "1728       Science  1729     4.5"
      ]
     },
     "execution_count": 82,
     "metadata": {},
     "output_type": "execute_result"
    }
   ],
   "source": [
    "stupid[stupid['body'] == '']"
   ]
  },
  {
   "cell_type": "code",
   "execution_count": 83,
   "metadata": {},
   "outputs": [],
   "source": [
    "stupid = stupid.drop(1728)"
   ]
  },
  {
   "cell_type": "code",
   "execution_count": 108,
   "metadata": {},
   "outputs": [
    {
     "data": {
      "text/plain": [
       "(3122, 4)"
      ]
     },
     "execution_count": 108,
     "metadata": {},
     "output_type": "execute_result"
    }
   ],
   "source": [
    "stupid.shape"
   ]
  },
  {
   "cell_type": "code",
   "execution_count": 85,
   "metadata": {},
   "outputs": [
    {
     "name": "stdout",
     "output_type": "stream",
     "text": [
      "CPU times: user 166 ms, sys: 2.54 ms, total: 168 ms\n",
      "Wall time: 167 ms\n"
     ]
    }
   ],
   "source": [
    "%%time\n",
    "stupid['text'] = stupid.body.apply(standardize_characters)"
   ]
  },
  {
   "cell_type": "code",
   "execution_count": 86,
   "metadata": {},
   "outputs": [
    {
     "data": {
      "text/html": [
       "<div>\n",
       "<style scoped>\n",
       "    .dataframe tbody tr th:only-of-type {\n",
       "        vertical-align: middle;\n",
       "    }\n",
       "\n",
       "    .dataframe tbody tr th {\n",
       "        vertical-align: top;\n",
       "    }\n",
       "\n",
       "    .dataframe thead th {\n",
       "        text-align: right;\n",
       "    }\n",
       "</style>\n",
       "<table border=\"1\" class=\"dataframe\">\n",
       "  <thead>\n",
       "    <tr style=\"text-align: right;\">\n",
       "      <th></th>\n",
       "      <th>body</th>\n",
       "      <th>category</th>\n",
       "      <th>id</th>\n",
       "      <th>rating</th>\n",
       "      <th>text</th>\n",
       "    </tr>\n",
       "  </thead>\n",
       "  <tbody>\n",
       "    <tr>\n",
       "      <th>2154</th>\n",
       "      <td>Some American fishing enthusiasts decided to go an a fishing trip to a really remote lake in northen Canada. A bush pilot flew them in with all their supplies saying he would be back in a week to pick them up. While the fishing was good, after a few days, the men started to itch for female companionship. In fact Bill was so horny he decided to visit a primitive native indian camp down the lake and find a squaw.His friends advised against it as the indians were on their reservation and were protected by the Canadian government. He could risk being arrested by the RCMP, the Royal Canadian Mounted Police.Bill was determined however and set out that evening. Two hours later he came back in terrible shape, all bloody and beaten. \"What happened\" his freinds asked.\"FBI got me\" Bill mumbled. \"...</td>\n",
       "      <td>Police Jokes</td>\n",
       "      <td>2155</td>\n",
       "      <td>1.0</td>\n",
       "      <td>Some American fishing enthusiasts decided to go an a fishing trip to a really remote lake in northen Canada. A bush pilot flew them in with all their supplies saying he would be back in a week to pick them up. While the fishing was good, after a few days, the men started to itch for female companionship. In fact Bill was so horny he decided to visit a primitive native indian camp down the lake and find a squaw.His friends advised against it as the indians were on their reservation and were protected by the Canadian government. He could risk being arrested by the RCMP, the Royal Canadian Mounted Police.Bill was determined however and set out that evening. Two hours later he came back in terrible shape, all bloody and beaten. \"What happened\" his freinds asked.\"FBI got me\" Bill mumbled. \"...</td>\n",
       "    </tr>\n",
       "    <tr>\n",
       "      <th>1117</th>\n",
       "      <td>One day long ago. There was a king who gathered all the people of the land. He said if anyone could swim across the lake (with crocodiles) would have their choice of : a castle, money, or his daughters hand in marriage.\\nOne man jumped up and yelled \"I can do it!\" He tried and failed. Another man said \"I can do better than that.\" So he jumped in and didn't make it either. Next the crowd heard a splash. A man swam all the way across the lake. The king asked him \"Which one would you like? A castle, money, or my daughters' hand in marriage.\" The man replied \"I want the idiot that pushed me in!\"</td>\n",
       "      <td>Money</td>\n",
       "      <td>1118</td>\n",
       "      <td>1.0</td>\n",
       "      <td>One day long ago. There was a king who gathered all the people of the land. He said if anyone could swim across the lake (with crocodiles) would have their choice of : a castle, money, or his daughters hand in marriage. One man jumped up and yelled \"I can do it!\" He tried and failed. Another man said \"I can do better than that.\" So he jumped in and didn't make it either. Next the crowd heard a splash. A man swam all the way across the lake. The king asked him \"Which one would you like? A castle, money, or my daughters' hand in marriage.\" The man replied \"I want the idiot that pushed me in!\"</td>\n",
       "    </tr>\n",
       "  </tbody>\n",
       "</table>\n",
       "</div>"
      ],
      "text/plain": [
       "                                                                                                                                                                                                                                                                                                                                                                                                                                                                                                                                                                                                                                                                                                                                                                                                                                 body  \\\n",
       "2154  Some American fishing enthusiasts decided to go an a fishing trip to a really remote lake in northen Canada. A bush pilot flew them in with all their supplies saying he would be back in a week to pick them up. While the fishing was good, after a few days, the men started to itch for female companionship. In fact Bill was so horny he decided to visit a primitive native indian camp down the lake and find a squaw.His friends advised against it as the indians were on their reservation and were protected by the Canadian government. He could risk being arrested by the RCMP, the Royal Canadian Mounted Police.Bill was determined however and set out that evening. Two hours later he came back in terrible shape, all bloody and beaten. \"What happened\" his freinds asked.\"FBI got me\" Bill mumbled. \"...   \n",
       "1117                                                                                                                                                                                                           One day long ago. There was a king who gathered all the people of the land. He said if anyone could swim across the lake (with crocodiles) would have their choice of : a castle, money, or his daughters hand in marriage.\\nOne man jumped up and yelled \"I can do it!\" He tried and failed. Another man said \"I can do better than that.\" So he jumped in and didn't make it either. Next the crowd heard a splash. A man swam all the way across the lake. The king asked him \"Which one would you like? A castle, money, or my daughters' hand in marriage.\" The man replied \"I want the idiot that pushed me in!\"   \n",
       "\n",
       "          category    id  rating  \\\n",
       "2154  Police Jokes  2155     1.0   \n",
       "1117         Money  1118     1.0   \n",
       "\n",
       "                                                                                                                                                                                                                                                                                                                                                                                                                                                                                                                                                                                                                                                                                                                                                                                                                                 text  \n",
       "2154  Some American fishing enthusiasts decided to go an a fishing trip to a really remote lake in northen Canada. A bush pilot flew them in with all their supplies saying he would be back in a week to pick them up. While the fishing was good, after a few days, the men started to itch for female companionship. In fact Bill was so horny he decided to visit a primitive native indian camp down the lake and find a squaw.His friends advised against it as the indians were on their reservation and were protected by the Canadian government. He could risk being arrested by the RCMP, the Royal Canadian Mounted Police.Bill was determined however and set out that evening. Two hours later he came back in terrible shape, all bloody and beaten. \"What happened\" his freinds asked.\"FBI got me\" Bill mumbled. \"...  \n",
       "1117                                                                                                                                                                                                            One day long ago. There was a king who gathered all the people of the land. He said if anyone could swim across the lake (with crocodiles) would have their choice of : a castle, money, or his daughters hand in marriage. One man jumped up and yelled \"I can do it!\" He tried and failed. Another man said \"I can do better than that.\" So he jumped in and didn't make it either. Next the crowd heard a splash. A man swam all the way across the lake. The king asked him \"Which one would you like? A castle, money, or my daughters' hand in marriage.\" The man replied \"I want the idiot that pushed me in!\"  "
      ]
     },
     "execution_count": 86,
     "metadata": {},
     "output_type": "execute_result"
    }
   ],
   "source": [
    "stupid.query('rating < 2').sample(2)"
   ]
  },
  {
   "cell_type": "code",
   "execution_count": 87,
   "metadata": {},
   "outputs": [],
   "source": [
    "stupid = stupid.rename({'rating': 'score'}, axis=1)"
   ]
  },
  {
   "cell_type": "code",
   "execution_count": 88,
   "metadata": {},
   "outputs": [
    {
     "data": {
      "text/plain": [
       "Miscellaneous      701\n",
       "Men                190\n",
       "Insults            186\n",
       "Women              143\n",
       "Yo Mama            141\n",
       "Light Bulbs        119\n",
       "Religious          115\n",
       "Political          112\n",
       "Blonde Jokes       111\n",
       "Heaven and Hell     85\n",
       "Family, Parents     80\n",
       "Medical             77\n",
       "Money               77\n",
       "Animals             74\n",
       "Bar Jokes           66\n",
       "Children            65\n",
       "Computers           64\n",
       "Police Jokes        55\n",
       "Sex                 54\n",
       "Lawyers             50\n",
       "Love & Romance      48\n",
       "Military            47\n",
       "Crazy Jokes         43\n",
       "Business            41\n",
       "Sports              37\n",
       "Marriage            37\n",
       "Aviation            35\n",
       "Holidays            32\n",
       "Idiots              31\n",
       "Redneck             27\n",
       "Farmers             27\n",
       "School              26\n",
       "Old Age             22\n",
       "Office Jokes        18\n",
       "Science             17\n",
       "Deep Thoughts       14\n",
       "Food Jokes          13\n",
       "Blind Jokes         11\n",
       "State Jokes          9\n",
       "Ethnic Jokes         8\n",
       "Music                7\n",
       "One Liners           6\n",
       "English              1\n",
       "Name: category, dtype: int64"
      ]
     },
     "execution_count": 88,
     "metadata": {},
     "output_type": "execute_result"
    }
   ],
   "source": [
    "stupid.category.value_counts()"
   ]
  },
  {
   "cell_type": "code",
   "execution_count": 89,
   "metadata": {},
   "outputs": [],
   "source": [
    "stupid['source'] = 'stupidstuff'"
   ]
  },
  {
   "cell_type": "markdown",
   "metadata": {},
   "source": [
    "## Wocka dataset\n",
    "##### https://github.com/taivop/joke-dataset"
   ]
  },
  {
   "cell_type": "code",
   "execution_count": 90,
   "metadata": {},
   "outputs": [],
   "source": [
    "url = \"https://raw.githubusercontent.com/taivop/joke-dataset/master/wocka.json\"\n",
    "url_content = requests.get(url).content\n",
    "\n",
    "wocka = pd.read_json(url_content, orient='records')"
   ]
  },
  {
   "cell_type": "code",
   "execution_count": 91,
   "metadata": {},
   "outputs": [
    {
     "data": {
      "text/html": [
       "<div>\n",
       "<style scoped>\n",
       "    .dataframe tbody tr th:only-of-type {\n",
       "        vertical-align: middle;\n",
       "    }\n",
       "\n",
       "    .dataframe tbody tr th {\n",
       "        vertical-align: top;\n",
       "    }\n",
       "\n",
       "    .dataframe thead th {\n",
       "        text-align: right;\n",
       "    }\n",
       "</style>\n",
       "<table border=\"1\" class=\"dataframe\">\n",
       "  <thead>\n",
       "    <tr style=\"text-align: right;\">\n",
       "      <th></th>\n",
       "      <th>body</th>\n",
       "      <th>category</th>\n",
       "      <th>id</th>\n",
       "      <th>title</th>\n",
       "    </tr>\n",
       "  </thead>\n",
       "  <tbody>\n",
       "    <tr>\n",
       "      <th>0</th>\n",
       "      <td>What do you call a cow with no legs?\\r\\n\\r\\nGround Beef!</td>\n",
       "      <td>Animal</td>\n",
       "      <td>1</td>\n",
       "      <td>Cow With No Legs</td>\n",
       "    </tr>\n",
       "    <tr>\n",
       "      <th>1</th>\n",
       "      <td>What do you call a cow jumping over a barbed wire fence?\\r\\n\\r\\nUtter destruction.</td>\n",
       "      <td>Animal</td>\n",
       "      <td>2</td>\n",
       "      <td>Jumping Cow</td>\n",
       "    </tr>\n",
       "    <tr>\n",
       "      <th>2</th>\n",
       "      <td>What's black and white and red all over?\\r\\n\\r\\nA newspaper.</td>\n",
       "      <td>Other / Misc</td>\n",
       "      <td>4</td>\n",
       "      <td>Black, White and Red</td>\n",
       "    </tr>\n",
       "    <tr>\n",
       "      <th>3</th>\n",
       "      <td>So, this guy walks into a bar.\\r\\n\\r\\nAnd says, \"ouch\".</td>\n",
       "      <td>Bar</td>\n",
       "      <td>5</td>\n",
       "      <td>Guy in a Bar</td>\n",
       "    </tr>\n",
       "    <tr>\n",
       "      <th>4</th>\n",
       "      <td>If the opposite of pro is con, isn't the opposite of progress, congress?</td>\n",
       "      <td>One Liners</td>\n",
       "      <td>6</td>\n",
       "      <td>Progress</td>\n",
       "    </tr>\n",
       "  </tbody>\n",
       "</table>\n",
       "</div>"
      ],
      "text/plain": [
       "                                                                                 body  \\\n",
       "0                            What do you call a cow with no legs?\\r\\n\\r\\nGround Beef!   \n",
       "1  What do you call a cow jumping over a barbed wire fence?\\r\\n\\r\\nUtter destruction.   \n",
       "2                        What's black and white and red all over?\\r\\n\\r\\nA newspaper.   \n",
       "3                             So, this guy walks into a bar.\\r\\n\\r\\nAnd says, \"ouch\".   \n",
       "4            If the opposite of pro is con, isn't the opposite of progress, congress?   \n",
       "\n",
       "       category  id                 title  \n",
       "0        Animal   1      Cow With No Legs  \n",
       "1        Animal   2           Jumping Cow  \n",
       "2  Other / Misc   4  Black, White and Red  \n",
       "3           Bar   5          Guy in a Bar  \n",
       "4    One Liners   6              Progress  "
      ]
     },
     "execution_count": 91,
     "metadata": {},
     "output_type": "execute_result"
    }
   ],
   "source": [
    "wocka.head()"
   ]
  },
  {
   "cell_type": "code",
   "execution_count": 92,
   "metadata": {},
   "outputs": [
    {
     "data": {
      "text/plain": [
       "(10019, 4)"
      ]
     },
     "execution_count": 92,
     "metadata": {},
     "output_type": "execute_result"
    }
   ],
   "source": [
    "wocka.shape"
   ]
  },
  {
   "cell_type": "code",
   "execution_count": 93,
   "metadata": {},
   "outputs": [],
   "source": [
    "dup = wocka[wocka.duplicated(subset='body')]"
   ]
  },
  {
   "cell_type": "code",
   "execution_count": 94,
   "metadata": {},
   "outputs": [
    {
     "data": {
      "text/plain": [
       "(8, 4)"
      ]
     },
     "execution_count": 94,
     "metadata": {},
     "output_type": "execute_result"
    }
   ],
   "source": [
    "dup.shape"
   ]
  },
  {
   "cell_type": "code",
   "execution_count": 95,
   "metadata": {},
   "outputs": [],
   "source": [
    "wocka = wocka.drop(dup.index)"
   ]
  },
  {
   "cell_type": "code",
   "execution_count": 96,
   "metadata": {},
   "outputs": [
    {
     "name": "stdout",
     "output_type": "stream",
     "text": [
      "CPU times: user 444 ms, sys: 2.71 ms, total: 447 ms\n",
      "Wall time: 446 ms\n"
     ]
    }
   ],
   "source": [
    "%%time\n",
    "wocka['text'] = wocka.body.apply(standardize_characters)"
   ]
  },
  {
   "cell_type": "code",
   "execution_count": 97,
   "metadata": {},
   "outputs": [
    {
     "data": {
      "text/plain": [
       "(10011, 5)"
      ]
     },
     "execution_count": 97,
     "metadata": {},
     "output_type": "execute_result"
    }
   ],
   "source": [
    "wocka.shape"
   ]
  },
  {
   "cell_type": "code",
   "execution_count": 98,
   "metadata": {},
   "outputs": [
    {
     "data": {
      "text/html": [
       "<div>\n",
       "<style scoped>\n",
       "    .dataframe tbody tr th:only-of-type {\n",
       "        vertical-align: middle;\n",
       "    }\n",
       "\n",
       "    .dataframe tbody tr th {\n",
       "        vertical-align: top;\n",
       "    }\n",
       "\n",
       "    .dataframe thead th {\n",
       "        text-align: right;\n",
       "    }\n",
       "</style>\n",
       "<table border=\"1\" class=\"dataframe\">\n",
       "  <thead>\n",
       "    <tr style=\"text-align: right;\">\n",
       "      <th></th>\n",
       "      <th>body</th>\n",
       "      <th>category</th>\n",
       "      <th>id</th>\n",
       "      <th>title</th>\n",
       "      <th>text</th>\n",
       "    </tr>\n",
       "  </thead>\n",
       "  <tbody>\n",
       "    <tr>\n",
       "      <th>6882</th>\n",
       "      <td>Once upon a time, long, long ago there were two unique lions in the jungles of Africa. Both, it seems, had human-like qualities that allowed them to claim territory, daring the other to cross over the line. Strange as it seems, the boundary between their turf became a well traveled trail through the jungle. \\r\\n\\r\\nAll day, every day, both lions lay in the brush staring across the trail at their compatriot, daring him to cross into their territory. \\r\\n\\r\\nThe local natives knew of this animal feud, but all this was unbeknown to African Jack, a well-known and very publicized guide who did not speak Lionese and was unfamiliar with the territory. \\r\\n\\r\\nWhile he was leading a safari through the jungle, the travelers had to walk and cut vines with their machetes, and all this constant ha...</td>\n",
       "      <td>Puns</td>\n",
       "      <td>13071</td>\n",
       "      <td>Two Lions</td>\n",
       "      <td>Once upon a time, long, long ago there were two unique lions in the jungles of Africa. Both, it seems, had human-like qualities that allowed them to claim territory, daring the other to cross over the line. Strange as it seems, the boundary between their turf became a well traveled trail through the jungle.     All day, every day, both lions lay in the brush staring across the trail at their compatriot, daring him to cross into their territory.     The local natives knew of this animal feud, but all this was unbeknown to African Jack, a well-known and very publicized guide who did not speak Lionese and was unfamiliar with the territory.     While he was leading a safari through the jungle, the travelers had to walk and cut vines with their machetes, and all this constant hacking brush ...</td>\n",
       "    </tr>\n",
       "    <tr>\n",
       "      <th>7980</th>\n",
       "      <td>A woman calls her boss one morning and tells him that she is staying home because she's not feeling well.\\r\\n\\r\\n\"What's the matter?\" he asks.\\r\\n\\r\\n\"I have a case of anal glaucoma,\" she says in a weak voice.\\r\\n\\r\\n\"What in the hell is anal glaucoma?\" he inquires.\\r\\n\\r\\n\"Well, I just can't see my ass coming to work today.\"</td>\n",
       "      <td>At Work</td>\n",
       "      <td>15038</td>\n",
       "      <td>Calling In Sick</td>\n",
       "      <td>A woman calls her boss one morning and tells him that she is staying home because she's not feeling well.    \"What's the matter?\" he asks.    \"I have a case of anal glaucoma,\" she says in a weak voice.    \"What in the hell is anal glaucoma?\" he inquires.    \"Well, I just can't see my ass coming to work today.\"</td>\n",
       "    </tr>\n",
       "  </tbody>\n",
       "</table>\n",
       "</div>"
      ],
      "text/plain": [
       "                                                                                                                                                                                                                                                                                                                                                                                                                                                                                                                                                                                                                                                                                                                                                                                                                                 body  \\\n",
       "6882  Once upon a time, long, long ago there were two unique lions in the jungles of Africa. Both, it seems, had human-like qualities that allowed them to claim territory, daring the other to cross over the line. Strange as it seems, the boundary between their turf became a well traveled trail through the jungle. \\r\\n\\r\\nAll day, every day, both lions lay in the brush staring across the trail at their compatriot, daring him to cross into their territory. \\r\\n\\r\\nThe local natives knew of this animal feud, but all this was unbeknown to African Jack, a well-known and very publicized guide who did not speak Lionese and was unfamiliar with the territory. \\r\\n\\r\\nWhile he was leading a safari through the jungle, the travelers had to walk and cut vines with their machetes, and all this constant ha...   \n",
       "7980                                                                                                                                                                                                                                                                                                                                                                                                                                                                                          A woman calls her boss one morning and tells him that she is staying home because she's not feeling well.\\r\\n\\r\\n\"What's the matter?\" he asks.\\r\\n\\r\\n\"I have a case of anal glaucoma,\" she says in a weak voice.\\r\\n\\r\\n\"What in the hell is anal glaucoma?\" he inquires.\\r\\n\\r\\n\"Well, I just can't see my ass coming to work today.\"   \n",
       "\n",
       "     category     id            title  \\\n",
       "6882     Puns  13071        Two Lions   \n",
       "7980  At Work  15038  Calling In Sick   \n",
       "\n",
       "                                                                                                                                                                                                                                                                                                                                                                                                                                                                                                                                                                                                                                                                                                                                                                                                                                 text  \n",
       "6882  Once upon a time, long, long ago there were two unique lions in the jungles of Africa. Both, it seems, had human-like qualities that allowed them to claim territory, daring the other to cross over the line. Strange as it seems, the boundary between their turf became a well traveled trail through the jungle.     All day, every day, both lions lay in the brush staring across the trail at their compatriot, daring him to cross into their territory.     The local natives knew of this animal feud, but all this was unbeknown to African Jack, a well-known and very publicized guide who did not speak Lionese and was unfamiliar with the territory.     While he was leading a safari through the jungle, the travelers had to walk and cut vines with their machetes, and all this constant hacking brush ...  \n",
       "7980                                                                                                                                                                                                                                                                                                                                                                                                                                                                                                          A woman calls her boss one morning and tells him that she is staying home because she's not feeling well.    \"What's the matter?\" he asks.    \"I have a case of anal glaucoma,\" she says in a weak voice.    \"What in the hell is anal glaucoma?\" he inquires.    \"Well, I just can't see my ass coming to work today.\"  "
      ]
     },
     "execution_count": 98,
     "metadata": {},
     "output_type": "execute_result"
    }
   ],
   "source": [
    "wocka.sample(2)"
   ]
  },
  {
   "cell_type": "code",
   "execution_count": 99,
   "metadata": {},
   "outputs": [
    {
     "data": {
      "text/plain": [
       "Other / Misc       2302\n",
       "Men / Women         924\n",
       "One Liners          917\n",
       "Animal              656\n",
       "Children            605\n",
       "Yo Momma            600\n",
       "Blond               598\n",
       "Puns                457\n",
       "Religious           401\n",
       "At Work             288\n",
       "News / Politics     279\n",
       "Insults             276\n",
       "Gross               253\n",
       "Redneck             240\n",
       "Medical             207\n",
       "Knock-Knock         167\n",
       "Lawyer              157\n",
       "Bar                 154\n",
       "Tech                151\n",
       "Sports              134\n",
       "College             131\n",
       "Lightbulb           110\n",
       "Yo Mama               3\n",
       "Blonde                1\n",
       "Name: category, dtype: int64"
      ]
     },
     "execution_count": 99,
     "metadata": {},
     "output_type": "execute_result"
    }
   ],
   "source": [
    "wocka.category.value_counts()"
   ]
  },
  {
   "cell_type": "code",
   "execution_count": 100,
   "metadata": {},
   "outputs": [],
   "source": [
    "wocka['source'] = 'wocka'"
   ]
  },
  {
   "cell_type": "code",
   "execution_count": 101,
   "metadata": {},
   "outputs": [],
   "source": [
    "# reorder columns\n",
    "stupid = stupid[['text', 'category', 'source', 'score']]\n",
    "wocka = wocka[['text', 'category', 'source']]"
   ]
  },
  {
   "cell_type": "code",
   "execution_count": 102,
   "metadata": {},
   "outputs": [],
   "source": [
    "# combine df-s\n",
    "combined = pd.concat([stupid, wocka])"
   ]
  },
  {
   "cell_type": "code",
   "execution_count": 103,
   "metadata": {},
   "outputs": [
    {
     "data": {
      "text/plain": [
       "(13133, 4)"
      ]
     },
     "execution_count": 103,
     "metadata": {},
     "output_type": "execute_result"
    }
   ],
   "source": [
    "combined.shape"
   ]
  },
  {
   "cell_type": "code",
   "execution_count": 104,
   "metadata": {},
   "outputs": [
    {
     "data": {
      "text/html": [
       "<div>\n",
       "<style scoped>\n",
       "    .dataframe tbody tr th:only-of-type {\n",
       "        vertical-align: middle;\n",
       "    }\n",
       "\n",
       "    .dataframe tbody tr th {\n",
       "        vertical-align: top;\n",
       "    }\n",
       "\n",
       "    .dataframe thead th {\n",
       "        text-align: right;\n",
       "    }\n",
       "</style>\n",
       "<table border=\"1\" class=\"dataframe\">\n",
       "  <thead>\n",
       "    <tr style=\"text-align: right;\">\n",
       "      <th></th>\n",
       "      <th>text</th>\n",
       "      <th>category</th>\n",
       "      <th>source</th>\n",
       "      <th>score</th>\n",
       "    </tr>\n",
       "  </thead>\n",
       "  <tbody>\n",
       "    <tr>\n",
       "      <th>0</th>\n",
       "      <td>A blackjack dealer and a player with a thirteen count in his hand were arguing about whether or not it was appropriate to tip the dealer.  The player said, \"When I get bad cards, it's not the dealer's fault. Accordingly, when I get good cards, the dealer obviously had nothing to do with it so, why should I tip him?\"  The dealer said, \"When you eat out do you tip the waiter?\"  \"Yes.\"  \"Well then, he serves you food, I'm serving you cards, so you should tip me.\"  \"Okay, but, the waiter gives me what I ask for. I'll take an eight.\"</td>\n",
       "      <td>Children</td>\n",
       "      <td>stupidstuff</td>\n",
       "      <td>2.63</td>\n",
       "    </tr>\n",
       "    <tr>\n",
       "      <th>1</th>\n",
       "      <td>At a dinner party, several of the guests were arguing whether men or women were more trustworthy. 'No woman,' said one man, scornfully, 'can keep a secret.' 'I don't know about that,' answered a blonde woman guest. 'I have kept my age a secret since I was twenty-one.' 'You'll let it out some day,' the man insisted. 'I hardly think so!' responded the blonde lady. 'When a woman has kept a secret for twenty-seven years, she can keep it forever.'</td>\n",
       "      <td>Blonde Jokes</td>\n",
       "      <td>stupidstuff</td>\n",
       "      <td>2.57</td>\n",
       "    </tr>\n",
       "    <tr>\n",
       "      <th>2</th>\n",
       "      <td>One day this cop pulls over a blonde for speeding. The cop gets out of his car and asks the blonde for her license.''You cops should get it together. One day you take away my license and the next day you ask me to show it.''</td>\n",
       "      <td>Blonde Jokes</td>\n",
       "      <td>stupidstuff</td>\n",
       "      <td>3.09</td>\n",
       "    </tr>\n",
       "  </tbody>\n",
       "</table>\n",
       "</div>"
      ],
      "text/plain": [
       "                                                                                                                                                                                                                                                                                                                                                                                                                                                                                                                                                     text  \\\n",
       "0  A blackjack dealer and a player with a thirteen count in his hand were arguing about whether or not it was appropriate to tip the dealer.  The player said, \"When I get bad cards, it's not the dealer's fault. Accordingly, when I get good cards, the dealer obviously had nothing to do with it so, why should I tip him?\"  The dealer said, \"When you eat out do you tip the waiter?\"  \"Yes.\"  \"Well then, he serves you food, I'm serving you cards, so you should tip me.\"  \"Okay, but, the waiter gives me what I ask for. I'll take an eight.\"   \n",
       "1                                                                                          At a dinner party, several of the guests were arguing whether men or women were more trustworthy. 'No woman,' said one man, scornfully, 'can keep a secret.' 'I don't know about that,' answered a blonde woman guest. 'I have kept my age a secret since I was twenty-one.' 'You'll let it out some day,' the man insisted. 'I hardly think so!' responded the blonde lady. 'When a woman has kept a secret for twenty-seven years, she can keep it forever.'   \n",
       "2                                                                                                                                                                                                                                                                                                                        One day this cop pulls over a blonde for speeding. The cop gets out of his car and asks the blonde for her license.''You cops should get it together. One day you take away my license and the next day you ask me to show it.''   \n",
       "\n",
       "       category       source  score  \n",
       "0      Children  stupidstuff   2.63  \n",
       "1  Blonde Jokes  stupidstuff   2.57  \n",
       "2  Blonde Jokes  stupidstuff   3.09  "
      ]
     },
     "execution_count": 104,
     "metadata": {},
     "output_type": "execute_result"
    }
   ],
   "source": [
    "combined.head(3)"
   ]
  },
  {
   "cell_type": "code",
   "execution_count": 106,
   "metadata": {},
   "outputs": [],
   "source": [
    "combined.to_csv('data/jokes_stupid_wocka.csv', index=False, encoding='utf-8')"
   ]
  },
  {
   "cell_type": "code",
   "execution_count": 114,
   "metadata": {},
   "outputs": [
    {
     "data": {
      "text/plain": [
       "['Children',\n",
       " 'Blonde Jokes',\n",
       " 'Military',\n",
       " 'Office Jokes',\n",
       " 'Aviation',\n",
       " 'Political',\n",
       " 'Deep Thoughts',\n",
       " 'Men',\n",
       " 'Crazy Jokes',\n",
       " 'Medical',\n",
       " 'Food Jokes',\n",
       " 'Bar Jokes',\n",
       " 'Science',\n",
       " 'Police Jokes',\n",
       " 'Miscellaneous',\n",
       " 'Sex',\n",
       " 'Idiots',\n",
       " 'Business',\n",
       " 'Women',\n",
       " 'Redneck',\n",
       " 'One Liners',\n",
       " 'Money',\n",
       " 'School',\n",
       " 'Family, Parents',\n",
       " 'Sports',\n",
       " 'Heaven and Hell',\n",
       " 'Religious',\n",
       " 'Farmers',\n",
       " 'Love & Romance',\n",
       " 'Blind Jokes',\n",
       " 'Marriage',\n",
       " 'Old Age',\n",
       " 'Animals',\n",
       " 'Holidays',\n",
       " 'Ethnic Jokes',\n",
       " 'State Jokes',\n",
       " 'English',\n",
       " 'Computers',\n",
       " 'Lawyers',\n",
       " 'Yo Mama',\n",
       " 'Insults',\n",
       " 'Light Bulbs',\n",
       " 'Music',\n",
       " 'Animal',\n",
       " 'Other / Misc',\n",
       " 'Bar',\n",
       " 'Puns',\n",
       " 'Lawyer',\n",
       " 'News / Politics',\n",
       " 'Men / Women',\n",
       " 'Gross',\n",
       " 'Blond',\n",
       " 'Yo Momma',\n",
       " 'At Work',\n",
       " 'College',\n",
       " 'Lightbulb',\n",
       " 'Knock-Knock',\n",
       " 'Tech',\n",
       " 'Blonde']"
      ]
     },
     "execution_count": 114,
     "metadata": {},
     "output_type": "execute_result"
    }
   ],
   "source": [
    "combined['category'].unique().tolist()"
   ]
  },
  {
   "cell_type": "code",
   "execution_count": 115,
   "metadata": {},
   "outputs": [
    {
     "data": {
      "text/plain": [
       "Other / Misc       2302\n",
       "Men / Women         924\n",
       "One Liners          923\n",
       "Miscellaneous       701\n",
       "Children            670\n",
       "Animal              656\n",
       "Yo Momma            600\n",
       "Blond               598\n",
       "Religious           516\n",
       "Insults             462\n",
       "Puns                457\n",
       "At Work             288\n",
       "Medical             284\n",
       "News / Politics     279\n",
       "Redneck             267\n",
       "Gross               253\n",
       "Men                 190\n",
       "Sports              171\n",
       "Knock-Knock         167\n",
       "Lawyer              157\n",
       "Bar                 154\n",
       "Tech                151\n",
       "Yo Mama             144\n",
       "Women               143\n",
       "College             131\n",
       "Light Bulbs         119\n",
       "Political           112\n",
       "Blonde Jokes        111\n",
       "Lightbulb           110\n",
       "Heaven and Hell      85\n",
       "Family, Parents      80\n",
       "Money                77\n",
       "Animals              74\n",
       "Bar Jokes            66\n",
       "Computers            64\n",
       "Police Jokes         55\n",
       "Sex                  54\n",
       "Lawyers              50\n",
       "Love & Romance       48\n",
       "Military             47\n",
       "Crazy Jokes          43\n",
       "Business             41\n",
       "Marriage             37\n",
       "Aviation             35\n",
       "Holidays             32\n",
       "Idiots               31\n",
       "Farmers              27\n",
       "School               26\n",
       "Old Age              22\n",
       "Office Jokes         18\n",
       "Science              17\n",
       "Deep Thoughts        14\n",
       "Food Jokes           13\n",
       "Blind Jokes          11\n",
       "State Jokes           9\n",
       "Ethnic Jokes          8\n",
       "Music                 7\n",
       "English               1\n",
       "Blonde                1\n",
       "Name: category, dtype: int64"
      ]
     },
     "execution_count": 115,
     "metadata": {},
     "output_type": "execute_result"
    }
   ],
   "source": [
    "combined.category.value_counts()"
   ]
  },
  {
   "cell_type": "code",
   "execution_count": null,
   "metadata": {},
   "outputs": [],
   "source": []
  }
 ],
 "metadata": {
  "kernelspec": {
   "display_name": "Python 3",
   "language": "python",
   "name": "python3"
  },
  "language_info": {
   "codemirror_mode": {
    "name": "ipython",
    "version": 3
   },
   "file_extension": ".py",
   "mimetype": "text/x-python",
   "name": "python",
   "nbconvert_exporter": "python",
   "pygments_lexer": "ipython3",
   "version": "3.8.0"
  }
 },
 "nbformat": 4,
 "nbformat_minor": 4
}
