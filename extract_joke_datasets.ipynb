{
 "cells": [
  {
   "cell_type": "code",
   "execution_count": 1,
   "metadata": {},
   "outputs": [],
   "source": [
    "import json\n",
    "import pandas as pd\n",
    "import re\n",
    "from pathlib import Path"
   ]
  },
  {
   "cell_type": "code",
   "execution_count": 2,
   "metadata": {},
   "outputs": [],
   "source": [
    "pd.set_option('max_colwidth', 800)"
   ]
  },
  {
   "cell_type": "code",
   "execution_count": 3,
   "metadata": {},
   "outputs": [],
   "source": [
    "def standardize_characters(text):\n",
    "    \"\"\"\n",
    "    Standardizes characters\n",
    "    \"\"\"\n",
    "    text = re.sub('[\\n\\t\\r]|(&nbsp;)', ' ', text)\n",
    "    text = re.sub('[˗‐‑‒–—―─ー−]', '-', text)\n",
    "    text = re.sub('[«»”“„″ˮ]', '\"', text)\n",
    "    text = re.sub('[`´ʻ‘’′]', \"'\", text)\n",
    "    text = re.sub('[¸‚]', ',', text)\n",
    "    text = re.sub('…', '...', text)\n",
    "    text = re.sub('\\.{3,}\\s?\\.{1,}', '... ', text)\n",
    "    return text"
   ]
  },
  {
   "cell_type": "code",
   "execution_count": 4,
   "metadata": {},
   "outputs": [],
   "source": [
    "stupid = pd.read_json('../data/stupidstuff.json', orient='records')"
   ]
  },
  {
   "cell_type": "code",
   "execution_count": 5,
   "metadata": {},
   "outputs": [
    {
     "data": {
      "text/html": [
       "<div>\n",
       "<style scoped>\n",
       "    .dataframe tbody tr th:only-of-type {\n",
       "        vertical-align: middle;\n",
       "    }\n",
       "\n",
       "    .dataframe tbody tr th {\n",
       "        vertical-align: top;\n",
       "    }\n",
       "\n",
       "    .dataframe thead th {\n",
       "        text-align: right;\n",
       "    }\n",
       "</style>\n",
       "<table border=\"1\" class=\"dataframe\">\n",
       "  <thead>\n",
       "    <tr style=\"text-align: right;\">\n",
       "      <th></th>\n",
       "      <th>body</th>\n",
       "      <th>category</th>\n",
       "      <th>id</th>\n",
       "      <th>rating</th>\n",
       "    </tr>\n",
       "  </thead>\n",
       "  <tbody>\n",
       "    <tr>\n",
       "      <th>0</th>\n",
       "      <td>A blackjack dealer and a player with a thirteen count in his hand\\nwere arguing about whether or not it was appropriate to tip the\\ndealer.\\n\\nThe player said, \"When I get bad cards, it's not the dealer's fault.\\nAccordingly, when I get good cards, the dealer obviously had nothing\\nto do with it so, why should I tip him?\"\\n\\nThe dealer said, \"When you eat out do you tip the waiter?\"\\n\\n\"Yes.\"\\n\\n\"Well then, he serves you food, I'm serving you cards, so you should\\ntip me.\"\\n\\n\"Okay, but, the waiter gives me what I ask for. I'll take an eight.\"</td>\n",
       "      <td>Children</td>\n",
       "      <td>1</td>\n",
       "      <td>2.63</td>\n",
       "    </tr>\n",
       "    <tr>\n",
       "      <th>1</th>\n",
       "      <td>At a dinner party, several of the guests were arguing whether men or women were more trustworthy. 'No woman,' said one man, scornfully, 'can keep a secret.' 'I don't know about that,' answered a blonde woman guest. 'I have kept my age a secret since I was twenty-one.' 'You'll let it out some day,' the man insisted. 'I hardly think so!' responded the blonde lady. 'When a woman has kept a secret for twenty-seven years, she can keep it forever.'</td>\n",
       "      <td>Blonde Jokes</td>\n",
       "      <td>2</td>\n",
       "      <td>2.57</td>\n",
       "    </tr>\n",
       "    <tr>\n",
       "      <th>2</th>\n",
       "      <td>One day this cop pulls over a blonde for speeding. The cop gets out of his car and asks the blonde for her license.''You cops should get it together. One day you take away my license and the next day you ask me to show it.''</td>\n",
       "      <td>Blonde Jokes</td>\n",
       "      <td>3</td>\n",
       "      <td>3.09</td>\n",
       "    </tr>\n",
       "  </tbody>\n",
       "</table>\n",
       "</div>"
      ],
      "text/plain": [
       "                                                                                                                                                                                                                                                                                                                                                                                                                                                                                                                                                                    body  \\\n",
       "0  A blackjack dealer and a player with a thirteen count in his hand\\nwere arguing about whether or not it was appropriate to tip the\\ndealer.\\n\\nThe player said, \"When I get bad cards, it's not the dealer's fault.\\nAccordingly, when I get good cards, the dealer obviously had nothing\\nto do with it so, why should I tip him?\"\\n\\nThe dealer said, \"When you eat out do you tip the waiter?\"\\n\\n\"Yes.\"\\n\\n\"Well then, he serves you food, I'm serving you cards, so you should\\ntip me.\"\\n\\n\"Okay, but, the waiter gives me what I ask for. I'll take an eight.\"   \n",
       "1                                                                                                         At a dinner party, several of the guests were arguing whether men or women were more trustworthy. 'No woman,' said one man, scornfully, 'can keep a secret.' 'I don't know about that,' answered a blonde woman guest. 'I have kept my age a secret since I was twenty-one.' 'You'll let it out some day,' the man insisted. 'I hardly think so!' responded the blonde lady. 'When a woman has kept a secret for twenty-seven years, she can keep it forever.'   \n",
       "2                                                                                                                                                                                                                                                                                                                                       One day this cop pulls over a blonde for speeding. The cop gets out of his car and asks the blonde for her license.''You cops should get it together. One day you take away my license and the next day you ask me to show it.''   \n",
       "\n",
       "       category  id  rating  \n",
       "0      Children   1    2.63  \n",
       "1  Blonde Jokes   2    2.57  \n",
       "2  Blonde Jokes   3    3.09  "
      ]
     },
     "execution_count": 5,
     "metadata": {},
     "output_type": "execute_result"
    }
   ],
   "source": [
    "stupid.head(3)"
   ]
  },
  {
   "cell_type": "code",
   "execution_count": 6,
   "metadata": {},
   "outputs": [],
   "source": [
    "dup = stupid[stupid.duplicated(subset='body')]"
   ]
  },
  {
   "cell_type": "code",
   "execution_count": 7,
   "metadata": {},
   "outputs": [
    {
     "data": {
      "text/plain": [
       "(650, 4)"
      ]
     },
     "execution_count": 7,
     "metadata": {},
     "output_type": "execute_result"
    }
   ],
   "source": [
    "dup.shape"
   ]
  },
  {
   "cell_type": "code",
   "execution_count": 8,
   "metadata": {},
   "outputs": [],
   "source": [
    "stupid = stupid.drop(dup.index)"
   ]
  },
  {
   "cell_type": "code",
   "execution_count": 9,
   "metadata": {},
   "outputs": [
    {
     "data": {
      "text/html": [
       "<div>\n",
       "<style scoped>\n",
       "    .dataframe tbody tr th:only-of-type {\n",
       "        vertical-align: middle;\n",
       "    }\n",
       "\n",
       "    .dataframe tbody tr th {\n",
       "        vertical-align: top;\n",
       "    }\n",
       "\n",
       "    .dataframe thead th {\n",
       "        text-align: right;\n",
       "    }\n",
       "</style>\n",
       "<table border=\"1\" class=\"dataframe\">\n",
       "  <thead>\n",
       "    <tr style=\"text-align: right;\">\n",
       "      <th></th>\n",
       "      <th>body</th>\n",
       "      <th>category</th>\n",
       "      <th>id</th>\n",
       "      <th>rating</th>\n",
       "    </tr>\n",
       "  </thead>\n",
       "  <tbody>\n",
       "    <tr>\n",
       "      <th>1728</th>\n",
       "      <td></td>\n",
       "      <td>Science</td>\n",
       "      <td>1729</td>\n",
       "      <td>4.5</td>\n",
       "    </tr>\n",
       "  </tbody>\n",
       "</table>\n",
       "</div>"
      ],
      "text/plain": [
       "     body category    id  rating\n",
       "1728       Science  1729     4.5"
      ]
     },
     "execution_count": 9,
     "metadata": {},
     "output_type": "execute_result"
    }
   ],
   "source": [
    "stupid[stupid['body'] == '']"
   ]
  },
  {
   "cell_type": "code",
   "execution_count": 10,
   "metadata": {},
   "outputs": [],
   "source": [
    "stupid = stupid.drop(1728)"
   ]
  },
  {
   "cell_type": "code",
   "execution_count": 11,
   "metadata": {},
   "outputs": [
    {
     "data": {
      "text/plain": [
       "(3122, 4)"
      ]
     },
     "execution_count": 11,
     "metadata": {},
     "output_type": "execute_result"
    }
   ],
   "source": [
    "stupid.shape"
   ]
  },
  {
   "cell_type": "code",
   "execution_count": 12,
   "metadata": {},
   "outputs": [
    {
     "name": "stdout",
     "output_type": "stream",
     "text": [
      "Wall time: 195 ms\n"
     ]
    }
   ],
   "source": [
    "%%time\n",
    "stupid['text'] = stupid.body.apply(standardize_characters)"
   ]
  },
  {
   "cell_type": "code",
   "execution_count": 13,
   "metadata": {},
   "outputs": [
    {
     "data": {
      "text/html": [
       "<div>\n",
       "<style scoped>\n",
       "    .dataframe tbody tr th:only-of-type {\n",
       "        vertical-align: middle;\n",
       "    }\n",
       "\n",
       "    .dataframe tbody tr th {\n",
       "        vertical-align: top;\n",
       "    }\n",
       "\n",
       "    .dataframe thead th {\n",
       "        text-align: right;\n",
       "    }\n",
       "</style>\n",
       "<table border=\"1\" class=\"dataframe\">\n",
       "  <thead>\n",
       "    <tr style=\"text-align: right;\">\n",
       "      <th></th>\n",
       "      <th>body</th>\n",
       "      <th>category</th>\n",
       "      <th>id</th>\n",
       "      <th>rating</th>\n",
       "      <th>text</th>\n",
       "    </tr>\n",
       "  </thead>\n",
       "  <tbody>\n",
       "    <tr>\n",
       "      <th>619</th>\n",
       "      <td>When I went to lunch today, I noticed an old lady sitting on a park bench sobbing her eyes out. I stopped and asked her what was wrong. She said, \"I have a 22 year old husband at home. He makes love to me every morning and then gets up and makes me pancakes, sausage, fresh fruit and freshly ground coffee.\" I said, \"Well, then why are you crying?\" She said, \"He makes me homemade soup for lunch and my favorite brownies and then makes love to me for half the afternoon\". I said, \"Well, why are you crying?\" She said, \"For dinner he makes me a gourmet meal with wine and my favorite dessert and then makes love to me until 2:00 a.m. I said, \"Well, why in the world would you be crying?\" She said, \"I can't remember where I live!\".</td>\n",
       "      <td>Women</td>\n",
       "      <td>620</td>\n",
       "      <td>1.33</td>\n",
       "      <td>When I went to lunch today, I noticed an old lady sitting on a park bench sobbing her eyes out. I stopped and asked her what was wrong. She said, \"I have a 22 year old husband at home. He makes love to me every morning and then gets up and makes me pancakes, sausage, fresh fruit and freshly ground coffee.\" I said, \"Well, then why are you crying?\" She said, \"He makes me homemade soup for lunch and my favorite brownies and then makes love to me for half the afternoon\". I said, \"Well, why are you crying?\" She said, \"For dinner he makes me a gourmet meal with wine and my favorite dessert and then makes love to me until 2:00 a.m. I said, \"Well, why in the world would you be crying?\" She said, \"I can't remember where I live!\".</td>\n",
       "    </tr>\n",
       "    <tr>\n",
       "      <th>2024</th>\n",
       "      <td>A man walks into a store and he saw a thermos. The clerk walks up to him and asks, \"May I help you with anything?\" \"Yea! What is that?\" \"Why that's a thermos!\"\"What's it do?\"\"It keeps things hot and it keeps things cold!\"\"I'll take it\" The next day the man goes to work carrying this thermos. his co-workers ask him \"What's that!\"\"It's a thermos\"\"What's it do?\"\"It keeps things hot and it keeps things cold!\"\"So whatcha got in it?\"\"Two ice creams and a cup of coffee.\"</td>\n",
       "      <td>Miscellaneous</td>\n",
       "      <td>2025</td>\n",
       "      <td>1.50</td>\n",
       "      <td>A man walks into a store and he saw a thermos. The clerk walks up to him and asks, \"May I help you with anything?\" \"Yea! What is that?\" \"Why that's a thermos!\"\"What's it do?\"\"It keeps things hot and it keeps things cold!\"\"I'll take it\" The next day the man goes to work carrying this thermos. his co-workers ask him \"What's that!\"\"It's a thermos\"\"What's it do?\"\"It keeps things hot and it keeps things cold!\"\"So whatcha got in it?\"\"Two ice creams and a cup of coffee.\"</td>\n",
       "    </tr>\n",
       "  </tbody>\n",
       "</table>\n",
       "</div>"
      ],
      "text/plain": [
       "                                                                                                                                                                                                                                                                                                                                                                                                                                                                                                                                                                                                                                                                                                                                                            body  \\\n",
       "619   When I went to lunch today, I noticed an old lady sitting on a park bench sobbing her eyes out. I stopped and asked her what was wrong. She said, \"I have a 22 year old husband at home. He makes love to me every morning and then gets up and makes me pancakes, sausage, fresh fruit and freshly ground coffee.\" I said, \"Well, then why are you crying?\" She said, \"He makes me homemade soup for lunch and my favorite brownies and then makes love to me for half the afternoon\". I said, \"Well, why are you crying?\" She said, \"For dinner he makes me a gourmet meal with wine and my favorite dessert and then makes love to me until 2:00 a.m. I said, \"Well, why in the world would you be crying?\" She said, \"I can't remember where I live!\".   \n",
       "2024                                                                                                                                                                                                                                                                        A man walks into a store and he saw a thermos. The clerk walks up to him and asks, \"May I help you with anything?\" \"Yea! What is that?\" \"Why that's a thermos!\"\"What's it do?\"\"It keeps things hot and it keeps things cold!\"\"I'll take it\" The next day the man goes to work carrying this thermos. his co-workers ask him \"What's that!\"\"It's a thermos\"\"What's it do?\"\"It keeps things hot and it keeps things cold!\"\"So whatcha got in it?\"\"Two ice creams and a cup of coffee.\"   \n",
       "\n",
       "           category    id  rating  \\\n",
       "619           Women   620    1.33   \n",
       "2024  Miscellaneous  2025    1.50   \n",
       "\n",
       "                                                                                                                                                                                                                                                                                                                                                                                                                                                                                                                                                                                                                                                                                                                                                            text  \n",
       "619   When I went to lunch today, I noticed an old lady sitting on a park bench sobbing her eyes out. I stopped and asked her what was wrong. She said, \"I have a 22 year old husband at home. He makes love to me every morning and then gets up and makes me pancakes, sausage, fresh fruit and freshly ground coffee.\" I said, \"Well, then why are you crying?\" She said, \"He makes me homemade soup for lunch and my favorite brownies and then makes love to me for half the afternoon\". I said, \"Well, why are you crying?\" She said, \"For dinner he makes me a gourmet meal with wine and my favorite dessert and then makes love to me until 2:00 a.m. I said, \"Well, why in the world would you be crying?\" She said, \"I can't remember where I live!\".  \n",
       "2024                                                                                                                                                                                                                                                                        A man walks into a store and he saw a thermos. The clerk walks up to him and asks, \"May I help you with anything?\" \"Yea! What is that?\" \"Why that's a thermos!\"\"What's it do?\"\"It keeps things hot and it keeps things cold!\"\"I'll take it\" The next day the man goes to work carrying this thermos. his co-workers ask him \"What's that!\"\"It's a thermos\"\"What's it do?\"\"It keeps things hot and it keeps things cold!\"\"So whatcha got in it?\"\"Two ice creams and a cup of coffee.\"  "
      ]
     },
     "execution_count": 13,
     "metadata": {},
     "output_type": "execute_result"
    }
   ],
   "source": [
    "stupid.query('rating < 2').sample(2)"
   ]
  },
  {
   "cell_type": "code",
   "execution_count": 14,
   "metadata": {},
   "outputs": [],
   "source": [
    "stupid = stupid.rename({'rating': 'score'}, axis=1)"
   ]
  },
  {
   "cell_type": "code",
   "execution_count": 15,
   "metadata": {},
   "outputs": [
    {
     "data": {
      "text/plain": [
       "Miscellaneous      701\n",
       "Men                190\n",
       "Insults            186\n",
       "Women              143\n",
       "Yo Mama            141\n",
       "Light Bulbs        119\n",
       "Religious          115\n",
       "Political          112\n",
       "Blonde Jokes       111\n",
       "Heaven and Hell     85\n",
       "Family, Parents     80\n",
       "Medical             77\n",
       "Money               77\n",
       "Animals             74\n",
       "Bar Jokes           66\n",
       "Children            65\n",
       "Computers           64\n",
       "Police Jokes        55\n",
       "Sex                 54\n",
       "Lawyers             50\n",
       "Love & Romance      48\n",
       "Military            47\n",
       "Crazy Jokes         43\n",
       "Business            41\n",
       "Marriage            37\n",
       "Sports              37\n",
       "Aviation            35\n",
       "Holidays            32\n",
       "Idiots              31\n",
       "Farmers             27\n",
       "Redneck             27\n",
       "School              26\n",
       "Old Age             22\n",
       "Office Jokes        18\n",
       "Science             17\n",
       "Deep Thoughts       14\n",
       "Food Jokes          13\n",
       "Blind Jokes         11\n",
       "State Jokes          9\n",
       "Ethnic Jokes         8\n",
       "Music                7\n",
       "One Liners           6\n",
       "English              1\n",
       "Name: category, dtype: int64"
      ]
     },
     "execution_count": 15,
     "metadata": {},
     "output_type": "execute_result"
    }
   ],
   "source": [
    "stupid.category.value_counts()"
   ]
  },
  {
   "cell_type": "code",
   "execution_count": 16,
   "metadata": {},
   "outputs": [],
   "source": [
    "stupid['source'] = 'stupidstuff'"
   ]
  },
  {
   "cell_type": "code",
   "execution_count": 18,
   "metadata": {},
   "outputs": [],
   "source": [
    "wocka = pd.read_json('../data/wocka.json', orient='records')"
   ]
  },
  {
   "cell_type": "code",
   "execution_count": 19,
   "metadata": {},
   "outputs": [
    {
     "data": {
      "text/html": [
       "<div>\n",
       "<style scoped>\n",
       "    .dataframe tbody tr th:only-of-type {\n",
       "        vertical-align: middle;\n",
       "    }\n",
       "\n",
       "    .dataframe tbody tr th {\n",
       "        vertical-align: top;\n",
       "    }\n",
       "\n",
       "    .dataframe thead th {\n",
       "        text-align: right;\n",
       "    }\n",
       "</style>\n",
       "<table border=\"1\" class=\"dataframe\">\n",
       "  <thead>\n",
       "    <tr style=\"text-align: right;\">\n",
       "      <th></th>\n",
       "      <th>body</th>\n",
       "      <th>category</th>\n",
       "      <th>id</th>\n",
       "      <th>title</th>\n",
       "    </tr>\n",
       "  </thead>\n",
       "  <tbody>\n",
       "    <tr>\n",
       "      <th>0</th>\n",
       "      <td>What do you call a cow with no legs?\\r\\n\\r\\nGround Beef!</td>\n",
       "      <td>Animal</td>\n",
       "      <td>1</td>\n",
       "      <td>Cow With No Legs</td>\n",
       "    </tr>\n",
       "    <tr>\n",
       "      <th>1</th>\n",
       "      <td>What do you call a cow jumping over a barbed wire fence?\\r\\n\\r\\nUtter destruction.</td>\n",
       "      <td>Animal</td>\n",
       "      <td>2</td>\n",
       "      <td>Jumping Cow</td>\n",
       "    </tr>\n",
       "    <tr>\n",
       "      <th>2</th>\n",
       "      <td>What's black and white and red all over?\\r\\n\\r\\nA newspaper.</td>\n",
       "      <td>Other / Misc</td>\n",
       "      <td>4</td>\n",
       "      <td>Black, White and Red</td>\n",
       "    </tr>\n",
       "    <tr>\n",
       "      <th>3</th>\n",
       "      <td>So, this guy walks into a bar.\\r\\n\\r\\nAnd says, \"ouch\".</td>\n",
       "      <td>Bar</td>\n",
       "      <td>5</td>\n",
       "      <td>Guy in a Bar</td>\n",
       "    </tr>\n",
       "    <tr>\n",
       "      <th>4</th>\n",
       "      <td>If the opposite of pro is con, isn't the opposite of progress, congress?</td>\n",
       "      <td>One Liners</td>\n",
       "      <td>6</td>\n",
       "      <td>Progress</td>\n",
       "    </tr>\n",
       "  </tbody>\n",
       "</table>\n",
       "</div>"
      ],
      "text/plain": [
       "                                                                                 body  \\\n",
       "0                            What do you call a cow with no legs?\\r\\n\\r\\nGround Beef!   \n",
       "1  What do you call a cow jumping over a barbed wire fence?\\r\\n\\r\\nUtter destruction.   \n",
       "2                        What's black and white and red all over?\\r\\n\\r\\nA newspaper.   \n",
       "3                             So, this guy walks into a bar.\\r\\n\\r\\nAnd says, \"ouch\".   \n",
       "4            If the opposite of pro is con, isn't the opposite of progress, congress?   \n",
       "\n",
       "       category  id                 title  \n",
       "0        Animal   1      Cow With No Legs  \n",
       "1        Animal   2           Jumping Cow  \n",
       "2  Other / Misc   4  Black, White and Red  \n",
       "3           Bar   5          Guy in a Bar  \n",
       "4    One Liners   6              Progress  "
      ]
     },
     "execution_count": 19,
     "metadata": {},
     "output_type": "execute_result"
    }
   ],
   "source": [
    "wocka.head()"
   ]
  },
  {
   "cell_type": "code",
   "execution_count": 20,
   "metadata": {},
   "outputs": [],
   "source": [
    "dup = wocka[wocka.duplicated(subset='body')]"
   ]
  },
  {
   "cell_type": "code",
   "execution_count": 21,
   "metadata": {},
   "outputs": [
    {
     "data": {
      "text/plain": [
       "(8, 4)"
      ]
     },
     "execution_count": 21,
     "metadata": {},
     "output_type": "execute_result"
    }
   ],
   "source": [
    "dup.shape"
   ]
  },
  {
   "cell_type": "code",
   "execution_count": 22,
   "metadata": {},
   "outputs": [],
   "source": [
    "wocka = wocka.drop(dup.index)"
   ]
  },
  {
   "cell_type": "code",
   "execution_count": 23,
   "metadata": {},
   "outputs": [
    {
     "name": "stdout",
     "output_type": "stream",
     "text": [
      "Wall time: 700 ms\n"
     ]
    }
   ],
   "source": [
    "%%time\n",
    "wocka['text'] = wocka.body.apply(standardize_characters)"
   ]
  },
  {
   "cell_type": "code",
   "execution_count": 24,
   "metadata": {},
   "outputs": [
    {
     "data": {
      "text/plain": [
       "(10011, 5)"
      ]
     },
     "execution_count": 24,
     "metadata": {},
     "output_type": "execute_result"
    }
   ],
   "source": [
    "wocka.shape"
   ]
  },
  {
   "cell_type": "code",
   "execution_count": 25,
   "metadata": {},
   "outputs": [
    {
     "data": {
      "text/html": [
       "<div>\n",
       "<style scoped>\n",
       "    .dataframe tbody tr th:only-of-type {\n",
       "        vertical-align: middle;\n",
       "    }\n",
       "\n",
       "    .dataframe tbody tr th {\n",
       "        vertical-align: top;\n",
       "    }\n",
       "\n",
       "    .dataframe thead th {\n",
       "        text-align: right;\n",
       "    }\n",
       "</style>\n",
       "<table border=\"1\" class=\"dataframe\">\n",
       "  <thead>\n",
       "    <tr style=\"text-align: right;\">\n",
       "      <th></th>\n",
       "      <th>body</th>\n",
       "      <th>category</th>\n",
       "      <th>id</th>\n",
       "      <th>title</th>\n",
       "      <th>text</th>\n",
       "    </tr>\n",
       "  </thead>\n",
       "  <tbody>\n",
       "    <tr>\n",
       "      <th>1228</th>\n",
       "      <td>A Mexican, an Asian, an African, and an American all somehow come across a genie at the same time.  They rub the lamp and the genie pops out and agrees to grant them all one wish each.  The genie turns to the Mexican and asks what he wished for.\\r\\n\\r\\n\"I wish that myself and all of my people could return to Mexico and live without poverty and wars.\" \\r\\n\\r\\nWith that, the Mexican disappeared.  The genie then turns to the Asian and asks what he wished for.\\r\\n\\r\\n\"I wish that myself and all my people could go return to our countries in Asia and live in peace and happiness.\"\\r\\n\\r\\nAnd the Asian disappears.  The genie next asked the African what he would like.\\r\\n\\r\\n\"I wish that myself and all of my African Brothers and Sisters could return to our homelands in Africa and live in wealth...</td>\n",
       "      <td>Other / Misc</td>\n",
       "      <td>1644</td>\n",
       "      <td>Thirsty?</td>\n",
       "      <td>A Mexican, an Asian, an African, and an American all somehow come across a genie at the same time.  They rub the lamp and the genie pops out and agrees to grant them all one wish each.  The genie turns to the Mexican and asks what he wished for.    \"I wish that myself and all of my people could return to Mexico and live without poverty and wars.\"     With that, the Mexican disappeared.  The genie then turns to the Asian and asks what he wished for.    \"I wish that myself and all my people could go return to our countries in Asia and live in peace and happiness.\"    And the Asian disappears.  The genie next asked the African what he would like.    \"I wish that myself and all of my African Brothers and Sisters could return to our homelands in Africa and live in wealth and be bothered no ...</td>\n",
       "    </tr>\n",
       "    <tr>\n",
       "      <th>2385</th>\n",
       "      <td>Somewhere in the deep South, Bubba called an attorney and asked, \"Is it true they're suing the cigarette companies for causing people to get cancer?\"\\r\\n\\r\\n\"Yes, Bubba, that is true.\"\\r\\n\\r\\n\"And people are suing the fast food restaurants for making them fat and clogging their arteries with all them burgers and fries ... is that true, mister lawyer?\"\\r\\n\\r\\n\"Sure is Bubba, but why do you ask?\"\\r\\n\\r\\n\"Cause I was thinkin' .... maybe I can sue Budweiser for all them ugly women I've been wakin' up with!\"</td>\n",
       "      <td>Redneck</td>\n",
       "      <td>3813</td>\n",
       "      <td>Somewhere in the Deep South...</td>\n",
       "      <td>Somewhere in the deep South, Bubba called an attorney and asked, \"Is it true they're suing the cigarette companies for causing people to get cancer?\"    \"Yes, Bubba, that is true.\"    \"And people are suing the fast food restaurants for making them fat and clogging their arteries with all them burgers and fries ... is that true, mister lawyer?\"    \"Sure is Bubba, but why do you ask?\"    \"Cause I was thinkin' ...  maybe I can sue Budweiser for all them ugly women I've been wakin' up with!\"</td>\n",
       "    </tr>\n",
       "  </tbody>\n",
       "</table>\n",
       "</div>"
      ],
      "text/plain": [
       "                                                                                                                                                                                                                                                                                                                                                                                                                                                                                                                                                                                                                                                                                                                                                                                                                                 body  \\\n",
       "1228  A Mexican, an Asian, an African, and an American all somehow come across a genie at the same time.  They rub the lamp and the genie pops out and agrees to grant them all one wish each.  The genie turns to the Mexican and asks what he wished for.\\r\\n\\r\\n\"I wish that myself and all of my people could return to Mexico and live without poverty and wars.\" \\r\\n\\r\\nWith that, the Mexican disappeared.  The genie then turns to the Asian and asks what he wished for.\\r\\n\\r\\n\"I wish that myself and all my people could go return to our countries in Asia and live in peace and happiness.\"\\r\\n\\r\\nAnd the Asian disappears.  The genie next asked the African what he would like.\\r\\n\\r\\n\"I wish that myself and all of my African Brothers and Sisters could return to our homelands in Africa and live in wealth...   \n",
       "2385                                                                                                                                                                                                                                                                                                     Somewhere in the deep South, Bubba called an attorney and asked, \"Is it true they're suing the cigarette companies for causing people to get cancer?\"\\r\\n\\r\\n\"Yes, Bubba, that is true.\"\\r\\n\\r\\n\"And people are suing the fast food restaurants for making them fat and clogging their arteries with all them burgers and fries ... is that true, mister lawyer?\"\\r\\n\\r\\n\"Sure is Bubba, but why do you ask?\"\\r\\n\\r\\n\"Cause I was thinkin' .... maybe I can sue Budweiser for all them ugly women I've been wakin' up with!\"   \n",
       "\n",
       "          category    id                           title  \\\n",
       "1228  Other / Misc  1644                        Thirsty?   \n",
       "2385       Redneck  3813  Somewhere in the Deep South...   \n",
       "\n",
       "                                                                                                                                                                                                                                                                                                                                                                                                                                                                                                                                                                                                                                                                                                                                                                                                                                 text  \n",
       "1228  A Mexican, an Asian, an African, and an American all somehow come across a genie at the same time.  They rub the lamp and the genie pops out and agrees to grant them all one wish each.  The genie turns to the Mexican and asks what he wished for.    \"I wish that myself and all of my people could return to Mexico and live without poverty and wars.\"     With that, the Mexican disappeared.  The genie then turns to the Asian and asks what he wished for.    \"I wish that myself and all my people could go return to our countries in Asia and live in peace and happiness.\"    And the Asian disappears.  The genie next asked the African what he would like.    \"I wish that myself and all of my African Brothers and Sisters could return to our homelands in Africa and live in wealth and be bothered no ...  \n",
       "2385                                                                                                                                                                                                                                                                                                                     Somewhere in the deep South, Bubba called an attorney and asked, \"Is it true they're suing the cigarette companies for causing people to get cancer?\"    \"Yes, Bubba, that is true.\"    \"And people are suing the fast food restaurants for making them fat and clogging their arteries with all them burgers and fries ... is that true, mister lawyer?\"    \"Sure is Bubba, but why do you ask?\"    \"Cause I was thinkin' ...  maybe I can sue Budweiser for all them ugly women I've been wakin' up with!\"  "
      ]
     },
     "execution_count": 25,
     "metadata": {},
     "output_type": "execute_result"
    }
   ],
   "source": [
    "wocka.sample(2)"
   ]
  },
  {
   "cell_type": "code",
   "execution_count": 26,
   "metadata": {},
   "outputs": [
    {
     "data": {
      "text/plain": [
       "Other / Misc       2302\n",
       "Men / Women         924\n",
       "One Liners          917\n",
       "Animal              656\n",
       "Children            605\n",
       "Yo Momma            600\n",
       "Blond               598\n",
       "Puns                457\n",
       "Religious           401\n",
       "At Work             288\n",
       "News / Politics     279\n",
       "Insults             276\n",
       "Gross               253\n",
       "Redneck             240\n",
       "Medical             207\n",
       "Knock-Knock         167\n",
       "Lawyer              157\n",
       "Bar                 154\n",
       "Tech                151\n",
       "Sports              134\n",
       "College             131\n",
       "Lightbulb           110\n",
       "Yo Mama               3\n",
       "Blonde                1\n",
       "Name: category, dtype: int64"
      ]
     },
     "execution_count": 26,
     "metadata": {},
     "output_type": "execute_result"
    }
   ],
   "source": [
    "wocka.category.value_counts()"
   ]
  },
  {
   "cell_type": "code",
   "execution_count": 27,
   "metadata": {},
   "outputs": [],
   "source": [
    "wocka['source'] = 'wocka'"
   ]
  },
  {
   "cell_type": "code",
   "execution_count": 28,
   "metadata": {},
   "outputs": [],
   "source": [
    "# reorder columns\n",
    "stupid = stupid[['text', 'category', 'source', 'score']]\n",
    "wocka = wocka[['text', 'category', 'source']]"
   ]
  },
  {
   "cell_type": "code",
   "execution_count": 29,
   "metadata": {},
   "outputs": [],
   "source": [
    "# combine df-s\n",
    "combined = pd.concat([stupid, wocka])"
   ]
  },
  {
   "cell_type": "code",
   "execution_count": 30,
   "metadata": {},
   "outputs": [
    {
     "data": {
      "text/plain": [
       "(13133, 4)"
      ]
     },
     "execution_count": 30,
     "metadata": {},
     "output_type": "execute_result"
    }
   ],
   "source": [
    "combined.shape"
   ]
  },
  {
   "cell_type": "code",
   "execution_count": 31,
   "metadata": {},
   "outputs": [
    {
     "data": {
      "text/html": [
       "<div>\n",
       "<style scoped>\n",
       "    .dataframe tbody tr th:only-of-type {\n",
       "        vertical-align: middle;\n",
       "    }\n",
       "\n",
       "    .dataframe tbody tr th {\n",
       "        vertical-align: top;\n",
       "    }\n",
       "\n",
       "    .dataframe thead th {\n",
       "        text-align: right;\n",
       "    }\n",
       "</style>\n",
       "<table border=\"1\" class=\"dataframe\">\n",
       "  <thead>\n",
       "    <tr style=\"text-align: right;\">\n",
       "      <th></th>\n",
       "      <th>text</th>\n",
       "      <th>category</th>\n",
       "      <th>source</th>\n",
       "      <th>score</th>\n",
       "    </tr>\n",
       "  </thead>\n",
       "  <tbody>\n",
       "    <tr>\n",
       "      <th>0</th>\n",
       "      <td>A blackjack dealer and a player with a thirteen count in his hand were arguing about whether or not it was appropriate to tip the dealer.  The player said, \"When I get bad cards, it's not the dealer's fault. Accordingly, when I get good cards, the dealer obviously had nothing to do with it so, why should I tip him?\"  The dealer said, \"When you eat out do you tip the waiter?\"  \"Yes.\"  \"Well then, he serves you food, I'm serving you cards, so you should tip me.\"  \"Okay, but, the waiter gives me what I ask for. I'll take an eight.\"</td>\n",
       "      <td>Children</td>\n",
       "      <td>stupidstuff</td>\n",
       "      <td>2.63</td>\n",
       "    </tr>\n",
       "    <tr>\n",
       "      <th>1</th>\n",
       "      <td>At a dinner party, several of the guests were arguing whether men or women were more trustworthy. 'No woman,' said one man, scornfully, 'can keep a secret.' 'I don't know about that,' answered a blonde woman guest. 'I have kept my age a secret since I was twenty-one.' 'You'll let it out some day,' the man insisted. 'I hardly think so!' responded the blonde lady. 'When a woman has kept a secret for twenty-seven years, she can keep it forever.'</td>\n",
       "      <td>Blonde Jokes</td>\n",
       "      <td>stupidstuff</td>\n",
       "      <td>2.57</td>\n",
       "    </tr>\n",
       "    <tr>\n",
       "      <th>2</th>\n",
       "      <td>One day this cop pulls over a blonde for speeding. The cop gets out of his car and asks the blonde for her license.''You cops should get it together. One day you take away my license and the next day you ask me to show it.''</td>\n",
       "      <td>Blonde Jokes</td>\n",
       "      <td>stupidstuff</td>\n",
       "      <td>3.09</td>\n",
       "    </tr>\n",
       "  </tbody>\n",
       "</table>\n",
       "</div>"
      ],
      "text/plain": [
       "                                                                                                                                                                                                                                                                                                                                                                                                                                                                                                                                                     text  \\\n",
       "0  A blackjack dealer and a player with a thirteen count in his hand were arguing about whether or not it was appropriate to tip the dealer.  The player said, \"When I get bad cards, it's not the dealer's fault. Accordingly, when I get good cards, the dealer obviously had nothing to do with it so, why should I tip him?\"  The dealer said, \"When you eat out do you tip the waiter?\"  \"Yes.\"  \"Well then, he serves you food, I'm serving you cards, so you should tip me.\"  \"Okay, but, the waiter gives me what I ask for. I'll take an eight.\"   \n",
       "1                                                                                          At a dinner party, several of the guests were arguing whether men or women were more trustworthy. 'No woman,' said one man, scornfully, 'can keep a secret.' 'I don't know about that,' answered a blonde woman guest. 'I have kept my age a secret since I was twenty-one.' 'You'll let it out some day,' the man insisted. 'I hardly think so!' responded the blonde lady. 'When a woman has kept a secret for twenty-seven years, she can keep it forever.'   \n",
       "2                                                                                                                                                                                                                                                                                                                        One day this cop pulls over a blonde for speeding. The cop gets out of his car and asks the blonde for her license.''You cops should get it together. One day you take away my license and the next day you ask me to show it.''   \n",
       "\n",
       "       category       source  score  \n",
       "0      Children  stupidstuff   2.63  \n",
       "1  Blonde Jokes  stupidstuff   2.57  \n",
       "2  Blonde Jokes  stupidstuff   3.09  "
      ]
     },
     "execution_count": 31,
     "metadata": {},
     "output_type": "execute_result"
    }
   ],
   "source": [
    "combined.head(3)"
   ]
  },
  {
   "cell_type": "code",
   "execution_count": 32,
   "metadata": {},
   "outputs": [],
   "source": [
    "combined.to_csv('../data/jokes_stupid_wocka.csv', index=False, encoding='utf-8')"
   ]
  },
  {
   "cell_type": "code",
   "execution_count": 35,
   "metadata": {},
   "outputs": [
    {
     "data": {
      "text/plain": [
       "['Children',\n",
       " 'Blonde Jokes',\n",
       " 'Military',\n",
       " 'Office Jokes',\n",
       " 'Aviation',\n",
       " 'Political',\n",
       " 'Deep Thoughts',\n",
       " 'Men',\n",
       " 'Crazy Jokes',\n",
       " 'Medical',\n",
       " 'Food Jokes',\n",
       " 'Bar Jokes',\n",
       " 'Science',\n",
       " 'Police Jokes',\n",
       " 'Miscellaneous',\n",
       " 'Sex',\n",
       " 'Idiots',\n",
       " 'Business',\n",
       " 'Women',\n",
       " 'Redneck',\n",
       " 'One Liners',\n",
       " 'Money',\n",
       " 'School',\n",
       " 'Family, Parents',\n",
       " 'Sports',\n",
       " 'Heaven and Hell',\n",
       " 'Religious',\n",
       " 'Farmers',\n",
       " 'Love & Romance',\n",
       " 'Blind Jokes',\n",
       " 'Marriage',\n",
       " 'Old Age',\n",
       " 'Animals',\n",
       " 'Holidays',\n",
       " 'Ethnic Jokes',\n",
       " 'State Jokes',\n",
       " 'English',\n",
       " 'Computers',\n",
       " 'Lawyers',\n",
       " 'Yo Mama',\n",
       " 'Insults',\n",
       " 'Light Bulbs',\n",
       " 'Music',\n",
       " 'Animal',\n",
       " 'Other / Misc',\n",
       " 'Bar',\n",
       " 'Puns',\n",
       " 'Lawyer',\n",
       " 'News / Politics',\n",
       " 'Men / Women',\n",
       " 'Gross',\n",
       " 'Blond',\n",
       " 'Yo Momma',\n",
       " 'At Work',\n",
       " 'College',\n",
       " 'Lightbulb',\n",
       " 'Knock-Knock',\n",
       " 'Tech',\n",
       " 'Blonde']"
      ]
     },
     "execution_count": 35,
     "metadata": {},
     "output_type": "execute_result"
    }
   ],
   "source": [
    "combined['category'].unique().tolist()"
   ]
  }
 ],
 "metadata": {
  "kernelspec": {
   "display_name": "Python 3",
   "language": "python",
   "name": "python3"
  },
  "language_info": {
   "codemirror_mode": {
    "name": "ipython",
    "version": 3
   },
   "file_extension": ".py",
   "mimetype": "text/x-python",
   "name": "python",
   "nbconvert_exporter": "python",
   "pygments_lexer": "ipython3",
   "version": "3.7.8"
  }
 },
 "nbformat": 4,
 "nbformat_minor": 4
}
