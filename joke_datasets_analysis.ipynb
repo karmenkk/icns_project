{
 "cells": [
  {
   "cell_type": "code",
   "execution_count": 1,
   "metadata": {},
   "outputs": [],
   "source": [
    "import json\n",
    "import pandas as pd\n",
    "import re\n",
    "from pathlib import Path"
   ]
  },
  {
   "cell_type": "code",
   "execution_count": 2,
   "metadata": {},
   "outputs": [],
   "source": [
    "pd.set_option('max_colwidth', 800)"
   ]
  },
  {
   "cell_type": "code",
   "execution_count": 3,
   "metadata": {},
   "outputs": [],
   "source": [
    "reddit = pd.read_json('../data/reddit_jokes.json', orient='records')"
   ]
  },
  {
   "cell_type": "code",
   "execution_count": 4,
   "metadata": {},
   "outputs": [
    {
     "data": {
      "text/plain": [
       "(194553, 4)"
      ]
     },
     "execution_count": 4,
     "metadata": {},
     "output_type": "execute_result"
    }
   ],
   "source": [
    "reddit.shape"
   ]
  },
  {
   "cell_type": "code",
   "execution_count": 5,
   "metadata": {},
   "outputs": [
    {
     "data": {
      "text/html": [
       "<div>\n",
       "<style scoped>\n",
       "    .dataframe tbody tr th:only-of-type {\n",
       "        vertical-align: middle;\n",
       "    }\n",
       "\n",
       "    .dataframe tbody tr th {\n",
       "        vertical-align: top;\n",
       "    }\n",
       "\n",
       "    .dataframe thead th {\n",
       "        text-align: right;\n",
       "    }\n",
       "</style>\n",
       "<table border=\"1\" class=\"dataframe\">\n",
       "  <thead>\n",
       "    <tr style=\"text-align: right;\">\n",
       "      <th></th>\n",
       "      <th>body</th>\n",
       "      <th>id</th>\n",
       "      <th>score</th>\n",
       "      <th>title</th>\n",
       "    </tr>\n",
       "  </thead>\n",
       "  <tbody>\n",
       "    <tr>\n",
       "      <th>0</th>\n",
       "      <td>Now I have to say \"Leroy can you please paint the fence?\"</td>\n",
       "      <td>5tz52q</td>\n",
       "      <td>1</td>\n",
       "      <td>I hate how you cant even say black paint anymore</td>\n",
       "    </tr>\n",
       "    <tr>\n",
       "      <th>1</th>\n",
       "      <td>Pizza doesn't scream when you put it in the oven .\\n\\nI'm so sorry.</td>\n",
       "      <td>5tz4dd</td>\n",
       "      <td>0</td>\n",
       "      <td>What's the difference between a Jew in Nazi Germany and pizza ?</td>\n",
       "    </tr>\n",
       "    <tr>\n",
       "      <th>2</th>\n",
       "      <td>...and being there really helped me learn about American culture. So I visited a shop and as I was leaving, the Shopkeeper said \"Have a nice day!\" But I didn't so I sued him.</td>\n",
       "      <td>5tz319</td>\n",
       "      <td>0</td>\n",
       "      <td>I recently went to America....</td>\n",
       "    </tr>\n",
       "    <tr>\n",
       "      <th>3</th>\n",
       "      <td>A Sunday school teacher is concerned that his students might be a little confused about Jesus, so he asks his class, “Where is Jesus today?”\\nBrian raises his hand and says, “He’s in Heaven.”\\n\\nSusan answers, “He’s in my heart.”\\n\\nLittle Johnny waves his hand furiously and blurts out, “He’s in our bathroom!”\\n\\nThe teacher is surprised by this answer and asks Little Johnny how he knows this.\\n\\n“Well,” Little Johnny says, “every morning, my Dad gets up, bangs on the bathroom door and yells ‘Jesus Christ, are you still in there?'”</td>\n",
       "      <td>5tz2wj</td>\n",
       "      <td>1</td>\n",
       "      <td>Brian raises his hand and says, “He’s in Heaven.”</td>\n",
       "    </tr>\n",
       "    <tr>\n",
       "      <th>4</th>\n",
       "      <td>He got caught trying to sell the two books to a freshman.</td>\n",
       "      <td>5tz1pc</td>\n",
       "      <td>0</td>\n",
       "      <td>You hear about the University book store worker who was charged for stealing $20,000 worth of books?</td>\n",
       "    </tr>\n",
       "  </tbody>\n",
       "</table>\n",
       "</div>"
      ],
      "text/plain": [
       "                                                                                                                                                                                                                                                                                                                                                                                                                                                                                                                                                        body  \\\n",
       "0                                                                                                                                                                                                                                                                                                                                                                                                                                                                                                  Now I have to say \"Leroy can you please paint the fence?\"   \n",
       "1                                                                                                                                                                                                                                                                                                                                                                                                                                                                                        Pizza doesn't scream when you put it in the oven .\\n\\nI'm so sorry.   \n",
       "2                                                                                                                                                                                                                                                                                                                                                                             ...and being there really helped me learn about American culture. So I visited a shop and as I was leaving, the Shopkeeper said \"Have a nice day!\" But I didn't so I sued him.   \n",
       "3  A Sunday school teacher is concerned that his students might be a little confused about Jesus, so he asks his class, “Where is Jesus today?”\\nBrian raises his hand and says, “He’s in Heaven.”\\n\\nSusan answers, “He’s in my heart.”\\n\\nLittle Johnny waves his hand furiously and blurts out, “He’s in our bathroom!”\\n\\nThe teacher is surprised by this answer and asks Little Johnny how he knows this.\\n\\n“Well,” Little Johnny says, “every morning, my Dad gets up, bangs on the bathroom door and yells ‘Jesus Christ, are you still in there?'”   \n",
       "4                                                                                                                                                                                                                                                                                                                                                                                                                                                                                                  He got caught trying to sell the two books to a freshman.   \n",
       "\n",
       "       id  score  \\\n",
       "0  5tz52q      1   \n",
       "1  5tz4dd      0   \n",
       "2  5tz319      0   \n",
       "3  5tz2wj      1   \n",
       "4  5tz1pc      0   \n",
       "\n",
       "                                                                                                  title  \n",
       "0                                                      I hate how you cant even say black paint anymore  \n",
       "1                                       What's the difference between a Jew in Nazi Germany and pizza ?  \n",
       "2                                                                        I recently went to America....  \n",
       "3                                                     Brian raises his hand and says, “He’s in Heaven.”  \n",
       "4  You hear about the University book store worker who was charged for stealing $20,000 worth of books?  "
      ]
     },
     "execution_count": 5,
     "metadata": {},
     "output_type": "execute_result"
    }
   ],
   "source": [
    "reddit.head()"
   ]
  },
  {
   "cell_type": "code",
   "execution_count": 6,
   "metadata": {},
   "outputs": [],
   "source": [
    "# maybe remove jokes with scores below some threshold?"
   ]
  },
  {
   "cell_type": "code",
   "execution_count": 7,
   "metadata": {},
   "outputs": [
    {
     "data": {
      "text/plain": [
       "(132992, 4)"
      ]
     },
     "execution_count": 7,
     "metadata": {},
     "output_type": "execute_result"
    }
   ],
   "source": [
    "reddit.query('score > 0').shape"
   ]
  },
  {
   "cell_type": "code",
   "execution_count": 8,
   "metadata": {},
   "outputs": [
    {
     "data": {
      "text/html": [
       "<div>\n",
       "<style scoped>\n",
       "    .dataframe tbody tr th:only-of-type {\n",
       "        vertical-align: middle;\n",
       "    }\n",
       "\n",
       "    .dataframe tbody tr th {\n",
       "        vertical-align: top;\n",
       "    }\n",
       "\n",
       "    .dataframe thead th {\n",
       "        text-align: right;\n",
       "    }\n",
       "</style>\n",
       "<table border=\"1\" class=\"dataframe\">\n",
       "  <thead>\n",
       "    <tr style=\"text-align: right;\">\n",
       "      <th></th>\n",
       "      <th>body</th>\n",
       "      <th>id</th>\n",
       "      <th>score</th>\n",
       "      <th>title</th>\n",
       "    </tr>\n",
       "  </thead>\n",
       "  <tbody>\n",
       "    <tr>\n",
       "      <th>167120</th>\n",
       "      <td>They're called Grapes of Wrath.</td>\n",
       "      <td>2eyhov</td>\n",
       "      <td>0</td>\n",
       "      <td>Did you guys hear about the new metal band playing at the winery this evening?</td>\n",
       "    </tr>\n",
       "    <tr>\n",
       "      <th>60918</th>\n",
       "      <td>What do the teenagers call the Asian red light district?\\nVachina Town</td>\n",
       "      <td>49uwnp</td>\n",
       "      <td>0</td>\n",
       "      <td>WHAT DO THE TEENAGERS CALL......</td>\n",
       "    </tr>\n",
       "    <tr>\n",
       "      <th>96382</th>\n",
       "      <td>Why do people throw coins into fountains? I don't know, doesn't make any cents.</td>\n",
       "      <td>3nbro0</td>\n",
       "      <td>0</td>\n",
       "      <td>Why do people throw coins into foutains?</td>\n",
       "    </tr>\n",
       "    <tr>\n",
       "      <th>180301</th>\n",
       "      <td>How to hide your important files from people without making Hidden folders\\n\\n1. Go to Desktop and create a new folder\\n\\n2. Name the folder Internet Explorer\\n\\n3. Change the folder icon to Internet Explorer\\n\\n4. Keep it in a corner of the desktop\\n\\nnow no one will open internet explorer.</td>\n",
       "      <td>1y2fdg</td>\n",
       "      <td>0</td>\n",
       "      <td>How to hide your important files from people without making Hidden folders.</td>\n",
       "    </tr>\n",
       "    <tr>\n",
       "      <th>169297</th>\n",
       "      <td>...because it was absolutely incredible.</td>\n",
       "      <td>2d88w0</td>\n",
       "      <td>0</td>\n",
       "      <td>I watched this documentary the other day but I didn't like it...</td>\n",
       "    </tr>\n",
       "  </tbody>\n",
       "</table>\n",
       "</div>"
      ],
      "text/plain": [
       "                                                                                                                                                                                                                                                                                                        body  \\\n",
       "167120                                                                                                                                                                                                                                                                       They're called Grapes of Wrath.   \n",
       "60918                                                                                                                                                                                                                                 What do the teenagers call the Asian red light district?\\nVachina Town   \n",
       "96382                                                                                                                                                                                                                        Why do people throw coins into fountains? I don't know, doesn't make any cents.   \n",
       "180301  How to hide your important files from people without making Hidden folders\\n\\n1. Go to Desktop and create a new folder\\n\\n2. Name the folder Internet Explorer\\n\\n3. Change the folder icon to Internet Explorer\\n\\n4. Keep it in a corner of the desktop\\n\\nnow no one will open internet explorer.   \n",
       "169297                                                                                                                                                                                                                                                             ...because it was absolutely incredible.    \n",
       "\n",
       "            id  score  \\\n",
       "167120  2eyhov      0   \n",
       "60918   49uwnp      0   \n",
       "96382   3nbro0      0   \n",
       "180301  1y2fdg      0   \n",
       "169297  2d88w0      0   \n",
       "\n",
       "                                                                                 title  \n",
       "167120  Did you guys hear about the new metal band playing at the winery this evening?  \n",
       "60918                                                 WHAT DO THE TEENAGERS CALL......  \n",
       "96382                                         Why do people throw coins into foutains?  \n",
       "180301     How to hide your important files from people without making Hidden folders.  \n",
       "169297                I watched this documentary the other day but I didn't like it...  "
      ]
     },
     "execution_count": 8,
     "metadata": {},
     "output_type": "execute_result"
    }
   ],
   "source": [
    "reddit.query('score == 0').sample(5)"
   ]
  },
  {
   "cell_type": "code",
   "execution_count": 9,
   "metadata": {},
   "outputs": [],
   "source": [
    "dup = reddit[reddit.duplicated(subset=['body', 'title'])]"
   ]
  },
  {
   "cell_type": "code",
   "execution_count": 10,
   "metadata": {},
   "outputs": [
    {
     "data": {
      "text/plain": [
       "(3144, 4)"
      ]
     },
     "execution_count": 10,
     "metadata": {},
     "output_type": "execute_result"
    }
   ],
   "source": [
    "dup.shape"
   ]
  },
  {
   "cell_type": "code",
   "execution_count": 11,
   "metadata": {},
   "outputs": [
    {
     "data": {
      "text/html": [
       "<div>\n",
       "<style scoped>\n",
       "    .dataframe tbody tr th:only-of-type {\n",
       "        vertical-align: middle;\n",
       "    }\n",
       "\n",
       "    .dataframe tbody tr th {\n",
       "        vertical-align: top;\n",
       "    }\n",
       "\n",
       "    .dataframe thead th {\n",
       "        text-align: right;\n",
       "    }\n",
       "</style>\n",
       "<table border=\"1\" class=\"dataframe\">\n",
       "  <thead>\n",
       "    <tr style=\"text-align: right;\">\n",
       "      <th></th>\n",
       "      <th>body</th>\n",
       "      <th>id</th>\n",
       "      <th>score</th>\n",
       "      <th>title</th>\n",
       "    </tr>\n",
       "  </thead>\n",
       "  <tbody>\n",
       "    <tr>\n",
       "      <th>1862</th>\n",
       "      <td>Keep the tip.</td>\n",
       "      <td>5swmk6</td>\n",
       "      <td>41</td>\n",
       "      <td>What did the leper say to the prostitute?</td>\n",
       "    </tr>\n",
       "    <tr>\n",
       "      <th>2826</th>\n",
       "      <td>The drug mule.</td>\n",
       "      <td>5se328</td>\n",
       "      <td>5</td>\n",
       "      <td>What is Mexico's National Animal?</td>\n",
       "    </tr>\n",
       "    <tr>\n",
       "      <th>3047</th>\n",
       "      <td>and a table... and a chair.</td>\n",
       "      <td>5s9dyp</td>\n",
       "      <td>36</td>\n",
       "      <td>A blind man walks into a bar...</td>\n",
       "    </tr>\n",
       "  </tbody>\n",
       "</table>\n",
       "</div>"
      ],
      "text/plain": [
       "                             body      id  score  \\\n",
       "1862                Keep the tip.  5swmk6     41   \n",
       "2826               The drug mule.  5se328      5   \n",
       "3047  and a table... and a chair.  5s9dyp     36   \n",
       "\n",
       "                                          title  \n",
       "1862  What did the leper say to the prostitute?  \n",
       "2826          What is Mexico's National Animal?  \n",
       "3047            A blind man walks into a bar...  "
      ]
     },
     "execution_count": 11,
     "metadata": {},
     "output_type": "execute_result"
    }
   ],
   "source": [
    "dup.head(3)"
   ]
  },
  {
   "cell_type": "code",
   "execution_count": 12,
   "metadata": {},
   "outputs": [
    {
     "data": {
      "text/html": [
       "<div>\n",
       "<style scoped>\n",
       "    .dataframe tbody tr th:only-of-type {\n",
       "        vertical-align: middle;\n",
       "    }\n",
       "\n",
       "    .dataframe tbody tr th {\n",
       "        vertical-align: top;\n",
       "    }\n",
       "\n",
       "    .dataframe thead th {\n",
       "        text-align: right;\n",
       "    }\n",
       "</style>\n",
       "<table border=\"1\" class=\"dataframe\">\n",
       "  <thead>\n",
       "    <tr style=\"text-align: right;\">\n",
       "      <th></th>\n",
       "      <th>body</th>\n",
       "      <th>id</th>\n",
       "      <th>score</th>\n",
       "      <th>title</th>\n",
       "    </tr>\n",
       "  </thead>\n",
       "  <tbody>\n",
       "    <tr>\n",
       "      <th>4895</th>\n",
       "      <td>Keep the tip</td>\n",
       "      <td>5rawy1</td>\n",
       "      <td>6</td>\n",
       "      <td>What did the leper say to the prostitute?</td>\n",
       "    </tr>\n",
       "    <tr>\n",
       "      <th>12265</th>\n",
       "      <td>Keep the tip</td>\n",
       "      <td>5179kb</td>\n",
       "      <td>5</td>\n",
       "      <td>What did the leper say to the hooker?</td>\n",
       "    </tr>\n",
       "    <tr>\n",
       "      <th>17586</th>\n",
       "      <td>Keep the tip</td>\n",
       "      <td>4yreum</td>\n",
       "      <td>27</td>\n",
       "      <td>What did the leper say the the prostitute?</td>\n",
       "    </tr>\n",
       "    <tr>\n",
       "      <th>42140</th>\n",
       "      <td>Keep the tip</td>\n",
       "      <td>4m8kye</td>\n",
       "      <td>21</td>\n",
       "      <td>What did the leper say to the prostitute?</td>\n",
       "    </tr>\n",
       "    <tr>\n",
       "      <th>55521</th>\n",
       "      <td>Keep the tip</td>\n",
       "      <td>4dw6y4</td>\n",
       "      <td>10</td>\n",
       "      <td>What did the guy with leprosy say to the prostitute?</td>\n",
       "    </tr>\n",
       "    <tr>\n",
       "      <th>59539</th>\n",
       "      <td>Keep the tip</td>\n",
       "      <td>4aqlbq</td>\n",
       "      <td>0</td>\n",
       "      <td>What did the baby Jew say to the Mohel hooker?</td>\n",
       "    </tr>\n",
       "    <tr>\n",
       "      <th>59548</th>\n",
       "      <td>Keep the tip</td>\n",
       "      <td>4aqf8r</td>\n",
       "      <td>0</td>\n",
       "      <td>[NSFW] what did the leper say to the hooker?</td>\n",
       "    </tr>\n",
       "    <tr>\n",
       "      <th>71918</th>\n",
       "      <td>Keep the tip</td>\n",
       "      <td>41wbhy</td>\n",
       "      <td>5</td>\n",
       "      <td>What did the leper say to the prostitute?</td>\n",
       "    </tr>\n",
       "    <tr>\n",
       "      <th>104220</th>\n",
       "      <td>Keep the tip</td>\n",
       "      <td>3in2j3</td>\n",
       "      <td>2</td>\n",
       "      <td>What did the leper say to the prostitute?</td>\n",
       "    </tr>\n",
       "    <tr>\n",
       "      <th>110027</th>\n",
       "      <td>Keep the tip</td>\n",
       "      <td>3f3mpa</td>\n",
       "      <td>8</td>\n",
       "      <td>What did the leper say to the prostitute?</td>\n",
       "    </tr>\n",
       "    <tr>\n",
       "      <th>124080</th>\n",
       "      <td>Keep the tip</td>\n",
       "      <td>364cl6</td>\n",
       "      <td>9</td>\n",
       "      <td>What did the leper say to the prostitute?</td>\n",
       "    </tr>\n",
       "    <tr>\n",
       "      <th>132442</th>\n",
       "      <td>Keep the tip</td>\n",
       "      <td>31ga6j</td>\n",
       "      <td>16</td>\n",
       "      <td>What did the leper say to the prostitute?</td>\n",
       "    </tr>\n",
       "    <tr>\n",
       "      <th>134251</th>\n",
       "      <td>Keep the tip</td>\n",
       "      <td>30ej6r</td>\n",
       "      <td>0</td>\n",
       "      <td>What did the leper say to the prostitute?</td>\n",
       "    </tr>\n",
       "    <tr>\n",
       "      <th>146212</th>\n",
       "      <td>Keep the tip</td>\n",
       "      <td>2tdvq8</td>\n",
       "      <td>58</td>\n",
       "      <td>What did the leper say to the prostitute?</td>\n",
       "    </tr>\n",
       "    <tr>\n",
       "      <th>176113</th>\n",
       "      <td>Keep the tip</td>\n",
       "      <td>260py7</td>\n",
       "      <td>0</td>\n",
       "      <td>What'd the leper say to the prostitute?</td>\n",
       "    </tr>\n",
       "    <tr>\n",
       "      <th>181571</th>\n",
       "      <td>Keep the tip</td>\n",
       "      <td>1vb1dy</td>\n",
       "      <td>12</td>\n",
       "      <td>What did the leper say to the prostitute?</td>\n",
       "    </tr>\n",
       "    <tr>\n",
       "      <th>182234</th>\n",
       "      <td>Keep the tip</td>\n",
       "      <td>1tt6vl</td>\n",
       "      <td>1</td>\n",
       "      <td>What did the leper say to the prostitute?</td>\n",
       "    </tr>\n",
       "    <tr>\n",
       "      <th>182661</th>\n",
       "      <td>Keep the tip</td>\n",
       "      <td>1sza7i</td>\n",
       "      <td>20</td>\n",
       "      <td>What did the leper say to the prostitute?</td>\n",
       "    </tr>\n",
       "    <tr>\n",
       "      <th>183104</th>\n",
       "      <td>Keep the tip</td>\n",
       "      <td>1s7l1g</td>\n",
       "      <td>3</td>\n",
       "      <td>What did the leper say to the prostitute?</td>\n",
       "    </tr>\n",
       "  </tbody>\n",
       "</table>\n",
       "</div>"
      ],
      "text/plain": [
       "                body      id  score  \\\n",
       "4895    Keep the tip  5rawy1      6   \n",
       "12265   Keep the tip  5179kb      5   \n",
       "17586   Keep the tip  4yreum     27   \n",
       "42140   Keep the tip  4m8kye     21   \n",
       "55521   Keep the tip  4dw6y4     10   \n",
       "59539   Keep the tip  4aqlbq      0   \n",
       "59548   Keep the tip  4aqf8r      0   \n",
       "71918   Keep the tip  41wbhy      5   \n",
       "104220  Keep the tip  3in2j3      2   \n",
       "110027  Keep the tip  3f3mpa      8   \n",
       "124080  Keep the tip  364cl6      9   \n",
       "132442  Keep the tip  31ga6j     16   \n",
       "134251  Keep the tip  30ej6r      0   \n",
       "146212  Keep the tip  2tdvq8     58   \n",
       "176113  Keep the tip  260py7      0   \n",
       "181571  Keep the tip  1vb1dy     12   \n",
       "182234  Keep the tip  1tt6vl      1   \n",
       "182661  Keep the tip  1sza7i     20   \n",
       "183104  Keep the tip  1s7l1g      3   \n",
       "\n",
       "                                                       title  \n",
       "4895               What did the leper say to the prostitute?  \n",
       "12265                  What did the leper say to the hooker?  \n",
       "17586             What did the leper say the the prostitute?  \n",
       "42140              What did the leper say to the prostitute?  \n",
       "55521   What did the guy with leprosy say to the prostitute?  \n",
       "59539         What did the baby Jew say to the Mohel hooker?  \n",
       "59548           [NSFW] what did the leper say to the hooker?  \n",
       "71918              What did the leper say to the prostitute?  \n",
       "104220             What did the leper say to the prostitute?  \n",
       "110027             What did the leper say to the prostitute?  \n",
       "124080             What did the leper say to the prostitute?  \n",
       "132442             What did the leper say to the prostitute?  \n",
       "134251             What did the leper say to the prostitute?  \n",
       "146212             What did the leper say to the prostitute?  \n",
       "176113               What'd the leper say to the prostitute?  \n",
       "181571             What did the leper say to the prostitute?  \n",
       "182234             What did the leper say to the prostitute?  \n",
       "182661             What did the leper say to the prostitute?  \n",
       "183104             What did the leper say to the prostitute?  "
      ]
     },
     "execution_count": 12,
     "metadata": {},
     "output_type": "execute_result"
    }
   ],
   "source": [
    "reddit[reddit['body'] == 'Keep the tip']"
   ]
  },
  {
   "cell_type": "code",
   "execution_count": 13,
   "metadata": {},
   "outputs": [],
   "source": [
    "# remove the duplicates (keep first occurrence only)\n",
    "reddit = reddit.drop(dup.index)"
   ]
  },
  {
   "cell_type": "code",
   "execution_count": 14,
   "metadata": {},
   "outputs": [
    {
     "data": {
      "text/plain": [
       "(191409, 4)"
      ]
     },
     "execution_count": 14,
     "metadata": {},
     "output_type": "execute_result"
    }
   ],
   "source": [
    "reddit.shape"
   ]
  },
  {
   "cell_type": "code",
   "execution_count": 15,
   "metadata": {},
   "outputs": [],
   "source": [
    "# prepend title to body for full joke text\n",
    "reddit['text'] = reddit['title'].str.cat(reddit['body'], sep=' ')"
   ]
  },
  {
   "cell_type": "code",
   "execution_count": 16,
   "metadata": {},
   "outputs": [
    {
     "data": {
      "text/html": [
       "<div>\n",
       "<style scoped>\n",
       "    .dataframe tbody tr th:only-of-type {\n",
       "        vertical-align: middle;\n",
       "    }\n",
       "\n",
       "    .dataframe tbody tr th {\n",
       "        vertical-align: top;\n",
       "    }\n",
       "\n",
       "    .dataframe thead th {\n",
       "        text-align: right;\n",
       "    }\n",
       "</style>\n",
       "<table border=\"1\" class=\"dataframe\">\n",
       "  <thead>\n",
       "    <tr style=\"text-align: right;\">\n",
       "      <th></th>\n",
       "      <th>body</th>\n",
       "      <th>id</th>\n",
       "      <th>score</th>\n",
       "      <th>title</th>\n",
       "      <th>text</th>\n",
       "    </tr>\n",
       "  </thead>\n",
       "  <tbody>\n",
       "    <tr>\n",
       "      <th>129144</th>\n",
       "      <td>Because Red Blue Green.</td>\n",
       "      <td>336nl3</td>\n",
       "      <td>23</td>\n",
       "      <td>So Yellow and Green are dating. Why does Yellow hate Red?</td>\n",
       "      <td>So Yellow and Green are dating. Why does Yellow hate Red? Because Red Blue Green.</td>\n",
       "    </tr>\n",
       "    <tr>\n",
       "      <th>111663</th>\n",
       "      <td>really, really bad.</td>\n",
       "      <td>3e373o</td>\n",
       "      <td>0</td>\n",
       "      <td>I have to poop like the Joker...</td>\n",
       "      <td>I have to poop like the Joker... really, really bad.</td>\n",
       "    </tr>\n",
       "    <tr>\n",
       "      <th>189401</th>\n",
       "      <td>The other day, I was purchasing a television antenna in a major electronics store and was asked by the cashier for my name. \\n\\n“Why,” I asked. ‘I don’t need a warranty.”\\n\\n “I have to have it for our records,” explained the cashier.\\n\\n Fed up with practice of companies gathering as much personal information as possible about their customers, I said, \"Maxine Meriwether Pasquadibisceglie-Jones.”\\n\\nShe looked at me in utter confusion. “Exucse me?” \\n\\n\"Maxine Meriwether Pasquadibisceglie-Jones.”\\n\\nThe cashier entered “Maxine M.” into the computer database. “What is your last name?”\\n\\n “Pasquadibisceglie-Jones'” I pulled out my cell phone and began reading emails.\\n\\n The cashier asked, “How do you spell that?”\\n\\n\"With a hyphen,\" I said absently\\n\\n \"Once more?\" she asked.\\n\\n \"Pasq...</td>\n",
       "      <td>1hi2oh</td>\n",
       "      <td>12</td>\n",
       "      <td>Dealing with Corporate Information Gathering</td>\n",
       "      <td>Dealing with Corporate Information Gathering The other day, I was purchasing a television antenna in a major electronics store and was asked by the cashier for my name. \\n\\n“Why,” I asked. ‘I don’t need a warranty.”\\n\\n “I have to have it for our records,” explained the cashier.\\n\\n Fed up with practice of companies gathering as much personal information as possible about their customers, I said, \"Maxine Meriwether Pasquadibisceglie-Jones.”\\n\\nShe looked at me in utter confusion. “Exucse me?” \\n\\n\"Maxine Meriwether Pasquadibisceglie-Jones.”\\n\\nThe cashier entered “Maxine M.” into the computer database. “What is your last name?”\\n\\n “Pasquadibisceglie-Jones'” I pulled out my cell phone and began reading emails.\\n\\n The cashier asked, “How do you spell that?”\\n\\n\"With a hyphen,\" I said a...</td>\n",
       "    </tr>\n",
       "  </tbody>\n",
       "</table>\n",
       "</div>"
      ],
      "text/plain": [
       "                                                                                                                                                                                                                                                                                                                                                                                                                                                                                                                                                                                                                                                                                                                                                                                                                                   body  \\\n",
       "129144                                                                                                                                                                                                                                                                                                                                                                                                                                                                                                                                                                                                                                                                                                                                                                                                          Because Red Blue Green.   \n",
       "111663                                                                                                                                                                                                                                                                                                                                                                                                                                                                                                                                                                                                                                                                                                                                                                                                             really, really bad.    \n",
       "189401  The other day, I was purchasing a television antenna in a major electronics store and was asked by the cashier for my name. \\n\\n“Why,” I asked. ‘I don’t need a warranty.”\\n\\n “I have to have it for our records,” explained the cashier.\\n\\n Fed up with practice of companies gathering as much personal information as possible about their customers, I said, \"Maxine Meriwether Pasquadibisceglie-Jones.”\\n\\nShe looked at me in utter confusion. “Exucse me?” \\n\\n\"Maxine Meriwether Pasquadibisceglie-Jones.”\\n\\nThe cashier entered “Maxine M.” into the computer database. “What is your last name?”\\n\\n “Pasquadibisceglie-Jones'” I pulled out my cell phone and began reading emails.\\n\\n The cashier asked, “How do you spell that?”\\n\\n\"With a hyphen,\" I said absently\\n\\n \"Once more?\" she asked.\\n\\n \"Pasq...   \n",
       "\n",
       "            id  score  \\\n",
       "129144  336nl3     23   \n",
       "111663  3e373o      0   \n",
       "189401  1hi2oh     12   \n",
       "\n",
       "                                                            title  \\\n",
       "129144  So Yellow and Green are dating. Why does Yellow hate Red?   \n",
       "111663                           I have to poop like the Joker...   \n",
       "189401               Dealing with Corporate Information Gathering   \n",
       "\n",
       "                                                                                                                                                                                                                                                                                                                                                                                                                                                                                                                                                                                                                                                                                                                                                                                                                                   text  \n",
       "129144                                                                                                                                                                                                                                                                                                                                                                                                                                                                                                                                                                                                                                                                                                                                                So Yellow and Green are dating. Why does Yellow hate Red? Because Red Blue Green.  \n",
       "111663                                                                                                                                                                                                                                                                                                                                                                                                                                                                                                                                                                                                                                                                                                                                                                            I have to poop like the Joker... really, really bad.   \n",
       "189401  Dealing with Corporate Information Gathering The other day, I was purchasing a television antenna in a major electronics store and was asked by the cashier for my name. \\n\\n“Why,” I asked. ‘I don’t need a warranty.”\\n\\n “I have to have it for our records,” explained the cashier.\\n\\n Fed up with practice of companies gathering as much personal information as possible about their customers, I said, \"Maxine Meriwether Pasquadibisceglie-Jones.”\\n\\nShe looked at me in utter confusion. “Exucse me?” \\n\\n\"Maxine Meriwether Pasquadibisceglie-Jones.”\\n\\nThe cashier entered “Maxine M.” into the computer database. “What is your last name?”\\n\\n “Pasquadibisceglie-Jones'” I pulled out my cell phone and began reading emails.\\n\\n The cashier asked, “How do you spell that?”\\n\\n\"With a hyphen,\" I said a...  "
      ]
     },
     "execution_count": 16,
     "metadata": {},
     "output_type": "execute_result"
    }
   ],
   "source": [
    "reddit.sample(3)"
   ]
  },
  {
   "cell_type": "code",
   "execution_count": 17,
   "metadata": {},
   "outputs": [],
   "source": [
    "def standardize_characters(text):\n",
    "    \"\"\"\n",
    "    Standardizes characters\n",
    "    \"\"\"\n",
    "    text = re.sub('[\\n\\t\\r]|(&nbsp;)', ' ', text)\n",
    "    text = re.sub('[˗‐‑‒–—―─ー−]', '-', text)\n",
    "    text = re.sub('[«»”“„″ˮ]', '\"', text)\n",
    "    text = re.sub('[`´ʻ‘’′]', \"'\", text)\n",
    "    text = re.sub('[¸‚]', ',', text)\n",
    "    text = re.sub('…', '...', text)\n",
    "    text = re.sub('\\.{3,}\\s?\\.{1,}', '... ', text)\n",
    "    return text"
   ]
  },
  {
   "cell_type": "code",
   "execution_count": 18,
   "metadata": {},
   "outputs": [
    {
     "name": "stdout",
     "output_type": "stream",
     "text": [
      "Wall time: 14 s\n"
     ]
    }
   ],
   "source": [
    "%%time\n",
    "reddit['text'] = reddit.text.apply(standardize_characters)"
   ]
  },
  {
   "cell_type": "code",
   "execution_count": 19,
   "metadata": {},
   "outputs": [
    {
     "data": {
      "text/html": [
       "<div>\n",
       "<style scoped>\n",
       "    .dataframe tbody tr th:only-of-type {\n",
       "        vertical-align: middle;\n",
       "    }\n",
       "\n",
       "    .dataframe tbody tr th {\n",
       "        vertical-align: top;\n",
       "    }\n",
       "\n",
       "    .dataframe thead th {\n",
       "        text-align: right;\n",
       "    }\n",
       "</style>\n",
       "<table border=\"1\" class=\"dataframe\">\n",
       "  <thead>\n",
       "    <tr style=\"text-align: right;\">\n",
       "      <th></th>\n",
       "      <th>body</th>\n",
       "      <th>id</th>\n",
       "      <th>score</th>\n",
       "      <th>title</th>\n",
       "      <th>text</th>\n",
       "    </tr>\n",
       "  </thead>\n",
       "  <tbody>\n",
       "    <tr>\n",
       "      <th>52342</th>\n",
       "      <td>Reports confirm that the steaks have never been higher.</td>\n",
       "      <td>4ggnti</td>\n",
       "      <td>101</td>\n",
       "      <td>Rescue attempts are being made to save a bull stranded on Mt. Everest</td>\n",
       "      <td>Rescue attempts are being made to save a bull stranded on Mt. Everest Reports confirm that the steaks have never been higher.</td>\n",
       "    </tr>\n",
       "    <tr>\n",
       "      <th>142539</th>\n",
       "      <td>A fuckload.</td>\n",
       "      <td>2vmr4l</td>\n",
       "      <td>20</td>\n",
       "      <td>How much money do porn stars make?</td>\n",
       "      <td>How much money do porn stars make? A fuckload.</td>\n",
       "    </tr>\n",
       "    <tr>\n",
       "      <th>112977</th>\n",
       "      <td>Because she had no arms.</td>\n",
       "      <td>3d7y5x</td>\n",
       "      <td>0</td>\n",
       "      <td>Why did Sally fall off the swing?</td>\n",
       "      <td>Why did Sally fall off the swing? Because she had no arms.</td>\n",
       "    </tr>\n",
       "    <tr>\n",
       "      <th>15479</th>\n",
       "      <td>Usain Bolt can finish a race.\\n</td>\n",
       "      <td>4zmbd1</td>\n",
       "      <td>64</td>\n",
       "      <td>What's the difference between Hitler and Usain Bolt?</td>\n",
       "      <td>What's the difference between Hitler and Usain Bolt? Usain Bolt can finish a race.</td>\n",
       "    </tr>\n",
       "    <tr>\n",
       "      <th>82614</th>\n",
       "      <td>because I could ride your asymptote to infinity.</td>\n",
       "      <td>3v211z</td>\n",
       "      <td>7</td>\n",
       "      <td>Are you a rational function?</td>\n",
       "      <td>Are you a rational function? because I could ride your asymptote to infinity.</td>\n",
       "    </tr>\n",
       "  </tbody>\n",
       "</table>\n",
       "</div>"
      ],
      "text/plain": [
       "                                                            body      id  \\\n",
       "52342   Reports confirm that the steaks have never been higher.   4ggnti   \n",
       "142539                                               A fuckload.  2vmr4l   \n",
       "112977                                  Because she had no arms.  3d7y5x   \n",
       "15479                            Usain Bolt can finish a race.\\n  4zmbd1   \n",
       "82614           because I could ride your asymptote to infinity.  3v211z   \n",
       "\n",
       "        score  \\\n",
       "52342     101   \n",
       "142539     20   \n",
       "112977      0   \n",
       "15479      64   \n",
       "82614       7   \n",
       "\n",
       "                                                                        title  \\\n",
       "52342   Rescue attempts are being made to save a bull stranded on Mt. Everest   \n",
       "142539                                     How much money do porn stars make?   \n",
       "112977                                      Why did Sally fall off the swing?   \n",
       "15479                    What's the difference between Hitler and Usain Bolt?   \n",
       "82614                                            Are you a rational function?   \n",
       "\n",
       "                                                                                                                                  text  \n",
       "52342   Rescue attempts are being made to save a bull stranded on Mt. Everest Reports confirm that the steaks have never been higher.   \n",
       "142539                                                                                  How much money do porn stars make? A fuckload.  \n",
       "112977                                                                      Why did Sally fall off the swing? Because she had no arms.  \n",
       "15479                                              What's the difference between Hitler and Usain Bolt? Usain Bolt can finish a race.   \n",
       "82614                                                    Are you a rational function? because I could ride your asymptote to infinity.  "
      ]
     },
     "execution_count": 19,
     "metadata": {},
     "output_type": "execute_result"
    }
   ],
   "source": [
    "reddit.sample(5)"
   ]
  },
  {
   "cell_type": "code",
   "execution_count": 20,
   "metadata": {},
   "outputs": [],
   "source": [
    "stupid = pd.read_json('../data/stupidstuff.json', orient='records')"
   ]
  },
  {
   "cell_type": "code",
   "execution_count": 21,
   "metadata": {},
   "outputs": [
    {
     "data": {
      "text/html": [
       "<div>\n",
       "<style scoped>\n",
       "    .dataframe tbody tr th:only-of-type {\n",
       "        vertical-align: middle;\n",
       "    }\n",
       "\n",
       "    .dataframe tbody tr th {\n",
       "        vertical-align: top;\n",
       "    }\n",
       "\n",
       "    .dataframe thead th {\n",
       "        text-align: right;\n",
       "    }\n",
       "</style>\n",
       "<table border=\"1\" class=\"dataframe\">\n",
       "  <thead>\n",
       "    <tr style=\"text-align: right;\">\n",
       "      <th></th>\n",
       "      <th>body</th>\n",
       "      <th>category</th>\n",
       "      <th>id</th>\n",
       "      <th>rating</th>\n",
       "    </tr>\n",
       "  </thead>\n",
       "  <tbody>\n",
       "    <tr>\n",
       "      <th>0</th>\n",
       "      <td>A blackjack dealer and a player with a thirteen count in his hand\\nwere arguing about whether or not it was appropriate to tip the\\ndealer.\\n\\nThe player said, \"When I get bad cards, it's not the dealer's fault.\\nAccordingly, when I get good cards, the dealer obviously had nothing\\nto do with it so, why should I tip him?\"\\n\\nThe dealer said, \"When you eat out do you tip the waiter?\"\\n\\n\"Yes.\"\\n\\n\"Well then, he serves you food, I'm serving you cards, so you should\\ntip me.\"\\n\\n\"Okay, but, the waiter gives me what I ask for. I'll take an eight.\"</td>\n",
       "      <td>Children</td>\n",
       "      <td>1</td>\n",
       "      <td>2.63</td>\n",
       "    </tr>\n",
       "    <tr>\n",
       "      <th>1</th>\n",
       "      <td>At a dinner party, several of the guests were arguing whether men or women were more trustworthy. 'No woman,' said one man, scornfully, 'can keep a secret.' 'I don't know about that,' answered a blonde woman guest. 'I have kept my age a secret since I was twenty-one.' 'You'll let it out some day,' the man insisted. 'I hardly think so!' responded the blonde lady. 'When a woman has kept a secret for twenty-seven years, she can keep it forever.'</td>\n",
       "      <td>Blonde Jokes</td>\n",
       "      <td>2</td>\n",
       "      <td>2.57</td>\n",
       "    </tr>\n",
       "    <tr>\n",
       "      <th>2</th>\n",
       "      <td>One day this cop pulls over a blonde for speeding. The cop gets out of his car and asks the blonde for her license.''You cops should get it together. One day you take away my license and the next day you ask me to show it.''</td>\n",
       "      <td>Blonde Jokes</td>\n",
       "      <td>3</td>\n",
       "      <td>3.09</td>\n",
       "    </tr>\n",
       "    <tr>\n",
       "      <th>3</th>\n",
       "      <td>Three women are about to be executed for crimes. One's a brunette, one's a redhead, and one's a blonde.Two guards brings the brunette forward, and the executioner asks if she has any last requests. She says no, and the executioner shouts, \"Ready . . . Aim . . .\"Suddenly the brunette yells, \"earthquake!!\" Everyone is startled and looks around. She manages to escape.The angry guards then bring the redhead forward, and the executioner asks if she has any last requests. She says no, and the executioner shouts, \"Ready . . . Aim . . .\"The redhead then screams, \"tornado!!\" Yet again, everyone is startled and looks around. She too escapes execution.By this point, the blonde had figured out what the others did. The guards bring her forward, and the executioner asks if she has any last requests....</td>\n",
       "      <td>Blonde Jokes</td>\n",
       "      <td>4</td>\n",
       "      <td>4.10</td>\n",
       "    </tr>\n",
       "    <tr>\n",
       "      <th>4</th>\n",
       "      <td>A girl came skipping home FROM school one day. \"Mommy, Mommy,\" she yelled, \"we were counting today, and all the other kids could only count to four, but I counted to 10. See? 1, 2, 3, 4, 5, 6,7, 8, 9, 10!\" \"Very good,\" said her mother. \"Is it because I'm blonde, Mommy?\" \"Yes, Honey, it's because you're blonde.\" The next day the girl came skipping home FROM school. \"Mommy, Mommy,\" She yelled, \"we were saying the alphabet today, and all the other kids could only say it to D, but I said it to G. See? A,b, c, d, e, f, g!\" \"Very good,\" said her mother. \"Is it because I'm blonde, Mommy?\" \"Yes, Honey, it's because you're blonde.\" The next day the girl came skipping home FROM school. \"Mommy, Mommy,\" she yelled, \"we were in gym class today, and when we showered, all the other girls had flat che...</td>\n",
       "      <td>Blonde Jokes</td>\n",
       "      <td>5</td>\n",
       "      <td>4.30</td>\n",
       "    </tr>\n",
       "  </tbody>\n",
       "</table>\n",
       "</div>"
      ],
      "text/plain": [
       "                                                                                                                                                                                                                                                                                                                                                                                                                                                                                                                                                                                                                                                                                                                                                                                                                              body  \\\n",
       "0                                                                                                                                                                                                                                                            A blackjack dealer and a player with a thirteen count in his hand\\nwere arguing about whether or not it was appropriate to tip the\\ndealer.\\n\\nThe player said, \"When I get bad cards, it's not the dealer's fault.\\nAccordingly, when I get good cards, the dealer obviously had nothing\\nto do with it so, why should I tip him?\"\\n\\nThe dealer said, \"When you eat out do you tip the waiter?\"\\n\\n\"Yes.\"\\n\\n\"Well then, he serves you food, I'm serving you cards, so you should\\ntip me.\"\\n\\n\"Okay, but, the waiter gives me what I ask for. I'll take an eight.\"   \n",
       "1                                                                                                                                                                                                                                                                                                                                                                   At a dinner party, several of the guests were arguing whether men or women were more trustworthy. 'No woman,' said one man, scornfully, 'can keep a secret.' 'I don't know about that,' answered a blonde woman guest. 'I have kept my age a secret since I was twenty-one.' 'You'll let it out some day,' the man insisted. 'I hardly think so!' responded the blonde lady. 'When a woman has kept a secret for twenty-seven years, she can keep it forever.'   \n",
       "2                                                                                                                                                                                                                                                                                                                                                                                                                                                                                                                                                                                                 One day this cop pulls over a blonde for speeding. The cop gets out of his car and asks the blonde for her license.''You cops should get it together. One day you take away my license and the next day you ask me to show it.''   \n",
       "3  Three women are about to be executed for crimes. One's a brunette, one's a redhead, and one's a blonde.Two guards brings the brunette forward, and the executioner asks if she has any last requests. She says no, and the executioner shouts, \"Ready . . . Aim . . .\"Suddenly the brunette yells, \"earthquake!!\" Everyone is startled and looks around. She manages to escape.The angry guards then bring the redhead forward, and the executioner asks if she has any last requests. She says no, and the executioner shouts, \"Ready . . . Aim . . .\"The redhead then screams, \"tornado!!\" Yet again, everyone is startled and looks around. She too escapes execution.By this point, the blonde had figured out what the others did. The guards bring her forward, and the executioner asks if she has any last requests....   \n",
       "4  A girl came skipping home FROM school one day. \"Mommy, Mommy,\" she yelled, \"we were counting today, and all the other kids could only count to four, but I counted to 10. See? 1, 2, 3, 4, 5, 6,7, 8, 9, 10!\" \"Very good,\" said her mother. \"Is it because I'm blonde, Mommy?\" \"Yes, Honey, it's because you're blonde.\" The next day the girl came skipping home FROM school. \"Mommy, Mommy,\" She yelled, \"we were saying the alphabet today, and all the other kids could only say it to D, but I said it to G. See? A,b, c, d, e, f, g!\" \"Very good,\" said her mother. \"Is it because I'm blonde, Mommy?\" \"Yes, Honey, it's because you're blonde.\" The next day the girl came skipping home FROM school. \"Mommy, Mommy,\" she yelled, \"we were in gym class today, and when we showered, all the other girls had flat che...   \n",
       "\n",
       "       category  id  rating  \n",
       "0      Children   1    2.63  \n",
       "1  Blonde Jokes   2    2.57  \n",
       "2  Blonde Jokes   3    3.09  \n",
       "3  Blonde Jokes   4    4.10  \n",
       "4  Blonde Jokes   5    4.30  "
      ]
     },
     "execution_count": 21,
     "metadata": {},
     "output_type": "execute_result"
    }
   ],
   "source": [
    "stupid.head()"
   ]
  },
  {
   "cell_type": "code",
   "execution_count": 22,
   "metadata": {},
   "outputs": [],
   "source": [
    "dup = stupid[stupid.duplicated(subset='body')]"
   ]
  },
  {
   "cell_type": "code",
   "execution_count": 23,
   "metadata": {},
   "outputs": [
    {
     "data": {
      "text/plain": [
       "(650, 4)"
      ]
     },
     "execution_count": 23,
     "metadata": {},
     "output_type": "execute_result"
    }
   ],
   "source": [
    "dup.shape"
   ]
  },
  {
   "cell_type": "code",
   "execution_count": 24,
   "metadata": {},
   "outputs": [],
   "source": [
    "stupid = stupid.drop(dup.index)"
   ]
  },
  {
   "cell_type": "code",
   "execution_count": 25,
   "metadata": {},
   "outputs": [
    {
     "data": {
      "text/html": [
       "<div>\n",
       "<style scoped>\n",
       "    .dataframe tbody tr th:only-of-type {\n",
       "        vertical-align: middle;\n",
       "    }\n",
       "\n",
       "    .dataframe tbody tr th {\n",
       "        vertical-align: top;\n",
       "    }\n",
       "\n",
       "    .dataframe thead th {\n",
       "        text-align: right;\n",
       "    }\n",
       "</style>\n",
       "<table border=\"1\" class=\"dataframe\">\n",
       "  <thead>\n",
       "    <tr style=\"text-align: right;\">\n",
       "      <th></th>\n",
       "      <th>body</th>\n",
       "      <th>category</th>\n",
       "      <th>id</th>\n",
       "      <th>rating</th>\n",
       "    </tr>\n",
       "  </thead>\n",
       "  <tbody>\n",
       "    <tr>\n",
       "      <th>1728</th>\n",
       "      <td></td>\n",
       "      <td>Science</td>\n",
       "      <td>1729</td>\n",
       "      <td>4.5</td>\n",
       "    </tr>\n",
       "  </tbody>\n",
       "</table>\n",
       "</div>"
      ],
      "text/plain": [
       "     body category    id  rating\n",
       "1728       Science  1729     4.5"
      ]
     },
     "execution_count": 25,
     "metadata": {},
     "output_type": "execute_result"
    }
   ],
   "source": [
    "stupid[stupid['body'] == '']"
   ]
  },
  {
   "cell_type": "code",
   "execution_count": 26,
   "metadata": {},
   "outputs": [],
   "source": [
    "stupid = stupid.drop(1728)"
   ]
  },
  {
   "cell_type": "code",
   "execution_count": 27,
   "metadata": {},
   "outputs": [
    {
     "data": {
      "text/plain": [
       "(3122, 4)"
      ]
     },
     "execution_count": 27,
     "metadata": {},
     "output_type": "execute_result"
    }
   ],
   "source": [
    "stupid.shape"
   ]
  },
  {
   "cell_type": "code",
   "execution_count": 28,
   "metadata": {
    "scrolled": true
   },
   "outputs": [
    {
     "data": {
      "image/png": "[encoded data removed]",
      "text/plain": [
       "<Figure size 432x288 with 1 Axes>"
      ]
     },
     "metadata": {
      "needs_background": "light"
     },
     "output_type": "display_data"
    }
   ],
   "source": [
    "stupid.rating.plot.hist();"
   ]
  },
  {
   "cell_type": "code",
   "execution_count": 29,
   "metadata": {},
   "outputs": [
    {
     "name": "stdout",
     "output_type": "stream",
     "text": [
      "Wall time: 366 ms\n"
     ]
    }
   ],
   "source": [
    "%%time\n",
    "stupid['text'] = stupid.body.apply(standardize_characters)"
   ]
  },
  {
   "cell_type": "code",
   "execution_count": 30,
   "metadata": {},
   "outputs": [
    {
     "data": {
      "text/html": [
       "<div>\n",
       "<style scoped>\n",
       "    .dataframe tbody tr th:only-of-type {\n",
       "        vertical-align: middle;\n",
       "    }\n",
       "\n",
       "    .dataframe tbody tr th {\n",
       "        vertical-align: top;\n",
       "    }\n",
       "\n",
       "    .dataframe thead th {\n",
       "        text-align: right;\n",
       "    }\n",
       "</style>\n",
       "<table border=\"1\" class=\"dataframe\">\n",
       "  <thead>\n",
       "    <tr style=\"text-align: right;\">\n",
       "      <th></th>\n",
       "      <th>body</th>\n",
       "      <th>category</th>\n",
       "      <th>id</th>\n",
       "      <th>rating</th>\n",
       "      <th>text</th>\n",
       "    </tr>\n",
       "  </thead>\n",
       "  <tbody>\n",
       "    <tr>\n",
       "      <th>978</th>\n",
       "      <td>Three older ladies were discussing the travails of getting older. One said, \\n\"Sometimes I catch myself with a jar of mayonnaise in my hand in front of \\nthe refrigerator and can't remember whether I need to put it away, or start \\nmaking a sandwich.\"\\n \\nThe second lady chimed in, \"Yes, some times I find myself on the landing \\nof the stairs and can't remember whether I was on my way up or on my way \\ndown.\"\\n \\nThe third one responded, \" Well, I'm glad I don't have that problem; knock \\non wood,\" as she rapped her knuckles on the table, then told them \"That must \\nbe the door, I'll get it!\"</td>\n",
       "      <td>Miscellaneous</td>\n",
       "      <td>979</td>\n",
       "      <td>1.0</td>\n",
       "      <td>Three older ladies were discussing the travails of getting older. One said,  \"Sometimes I catch myself with a jar of mayonnaise in my hand in front of  the refrigerator and can't remember whether I need to put it away, or start  making a sandwich.\"   The second lady chimed in, \"Yes, some times I find myself on the landing  of the stairs and can't remember whether I was on my way up or on my way  down.\"   The third one responded, \" Well, I'm glad I don't have that problem; knock  on wood,\" as she rapped her knuckles on the table, then told them \"That must  be the door, I'll get it!\"</td>\n",
       "    </tr>\n",
       "    <tr>\n",
       "      <th>955</th>\n",
       "      <td>Three friends were backpacking through europe and found out about a magical mountain near the coast, so they decided to check it out.\\nWhen they finally reached the top of the mountain they saw a man jump straight off the edge and screamed that he wanted to be an eagle then poof he turned into an eagle and flew away.\\nAfter seeing that the three friends got really excited and decided to go for it.The first thought for a second and then dashed straight off and yelled \"I want to be a hawk\" then poof he turned into a hawk and flew away. The second friend thought for a second and finally decided and jumped off and yelled \"I want to be a a mountain goat\" then poof he turned into a mountain goat and ran away. The third friend thought about for a long while and then finally decided, he ran as...</td>\n",
       "      <td>Miscellaneous</td>\n",
       "      <td>956</td>\n",
       "      <td>1.0</td>\n",
       "      <td>Three friends were backpacking through europe and found out about a magical mountain near the coast, so they decided to check it out. When they finally reached the top of the mountain they saw a man jump straight off the edge and screamed that he wanted to be an eagle then poof he turned into an eagle and flew away. After seeing that the three friends got really excited and decided to go for it.The first thought for a second and then dashed straight off and yelled \"I want to be a hawk\" then poof he turned into a hawk and flew away. The second friend thought for a second and finally decided and jumped off and yelled \"I want to be a a mountain goat\" then poof he turned into a mountain goat and ran away. The third friend thought about for a long while and then finally decided, he ran as f...</td>\n",
       "    </tr>\n",
       "    <tr>\n",
       "      <th>3598</th>\n",
       "      <td>\"Excuse me, sir.\"\\n\"Is that you again, Moses?\"\\n\"I'm afraid it is, sir.\"\\n\"What is it this time, Moses. More computer problems?\"\\n\"How did you guess?\"\\n\"I don't have to guess, Moses. Remember?\"\\n\"Oh, yeah. I forgot.\"\\n\"Tell me what you want, Moses.\"\\n\"But you already know. Remember?\"\\n\"Moses!\"\\n\"Sorry, sir.\"\\n\"Well, go ahead, Moses. Spit it out!\"\\n\"Well, I have a question, Sir. You know those ten things you sent me?\"\\n\"You mean the Commandments, Moses?\"\\n\"That's it. I was wondering if they were important.\"\\n\"What do you mean 'were important, Moses? Of course, they are\\nimportant. Otherwise I wouldn't have sent them to you.\"\\n\"Well, sorry, but I lost them. I could say the dog ate them, but of\\ncourse you would see right through that.\"\\n\"What do you mean 'you lost them! Are you trying to...</td>\n",
       "      <td>Religious</td>\n",
       "      <td>3599</td>\n",
       "      <td>1.0</td>\n",
       "      <td>\"Excuse me, sir.\" \"Is that you again, Moses?\" \"I'm afraid it is, sir.\" \"What is it this time, Moses. More computer problems?\" \"How did you guess?\" \"I don't have to guess, Moses. Remember?\" \"Oh, yeah. I forgot.\" \"Tell me what you want, Moses.\" \"But you already know. Remember?\" \"Moses!\" \"Sorry, sir.\" \"Well, go ahead, Moses. Spit it out!\" \"Well, I have a question, Sir. You know those ten things you sent me?\" \"You mean the Commandments, Moses?\" \"That's it. I was wondering if they were important.\" \"What do you mean 'were important, Moses? Of course, they are important. Otherwise I wouldn't have sent them to you.\" \"Well, sorry, but I lost them. I could say the dog ate them, but of course you would see right through that.\" \"What do you mean 'you lost them! Are you trying to tell me you didn't...</td>\n",
       "    </tr>\n",
       "    <tr>\n",
       "      <th>1719</th>\n",
       "      <td>Sleeping Beauty, Tom Thumb and Quasimodo were walking through the forest when Sleeping Beauty turned and said, \"I must be the most beautiful girl in the world.\"To that, Tom Thumb said, \"I must be the smallest.\"And Quasimodo \"I must be the ugliest in the world.\"With that, Tom Thumb said, \"Why don't we go to Guinness and have them certify us in their book of World Records?\"So Sleeping Beauty went in and came out, \"I am, I am, I'm the most beautiful girl in the world.\"Next, Tom Thumb came out, \"It's official, I'm the smallest in the world.\"Finally, Quasimodo came out, \"Who the hell is Linda Tripp?\".</td>\n",
       "      <td>Heaven and Hell</td>\n",
       "      <td>1720</td>\n",
       "      <td>1.0</td>\n",
       "      <td>Sleeping Beauty, Tom Thumb and Quasimodo were walking through the forest when Sleeping Beauty turned and said, \"I must be the most beautiful girl in the world.\"To that, Tom Thumb said, \"I must be the smallest.\"And Quasimodo \"I must be the ugliest in the world.\"With that, Tom Thumb said, \"Why don't we go to Guinness and have them certify us in their book of World Records?\"So Sleeping Beauty went in and came out, \"I am, I am, I'm the most beautiful girl in the world.\"Next, Tom Thumb came out, \"It's official, I'm the smallest in the world.\"Finally, Quasimodo came out, \"Who the hell is Linda Tripp?\".</td>\n",
       "    </tr>\n",
       "    <tr>\n",
       "      <th>1088</th>\n",
       "      <td>Plez compleet this paper, best ya can. Last name: ________________ First name:[_] Billy-Bob        [_] Billy-Joe   [_] Billy-Ray      [_] Billy-Jack[_] Bubba   Age: ____ (if unsure, guess) Sex: [_]M   [_]F   [_]None Shoe Size: ____ Left ____ Right Occupation:[_] Farmer                    [_] Mechanic[_] Janitor                   [_] Still Operator[_] Un-employed    Spouse's Name:  ______________________________2nd Spouse's Name:  __________________________3rd Spouse's Name:  __________________________Lover's Name:  _______________________________2nd Lover's Name: ____________________________ Relationship with spouse:[_] Sister[_] Aunt[_] Mother    [_] Cousin   [_] Daughter[_] Pet Number of children living in household: ___Number of children living in shed:      ___Number of children th...</td>\n",
       "      <td>Love &amp; Romance</td>\n",
       "      <td>1089</td>\n",
       "      <td>1.5</td>\n",
       "      <td>Plez compleet this paper, best ya can. Last name: ________________ First name:[_] Billy-Bob        [_] Billy-Joe   [_] Billy-Ray      [_] Billy-Jack[_] Bubba   Age: ____ (if unsure, guess) Sex: [_]M   [_]F   [_]None Shoe Size: ____ Left ____ Right Occupation:[_] Farmer                    [_] Mechanic[_] Janitor                   [_] Still Operator[_] Un-employed    Spouse's Name:  ______________________________2nd Spouse's Name:  __________________________3rd Spouse's Name:  __________________________Lover's Name:  _______________________________2nd Lover's Name: ____________________________ Relationship with spouse:[_] Sister[_] Aunt[_] Mother    [_] Cousin   [_] Daughter[_] Pet Number of children living in household: ___Number of children living in shed:      ___Number of children th...</td>\n",
       "    </tr>\n",
       "  </tbody>\n",
       "</table>\n",
       "</div>"
      ],
      "text/plain": [
       "                                                                                                                                                                                                                                                                                                                                                                                                                                                                                                                                                                                                                                                                                                                                                                                                                                 body  \\\n",
       "978                                                                                                                                                                                                           Three older ladies were discussing the travails of getting older. One said, \\n\"Sometimes I catch myself with a jar of mayonnaise in my hand in front of \\nthe refrigerator and can't remember whether I need to put it away, or start \\nmaking a sandwich.\"\\n \\nThe second lady chimed in, \"Yes, some times I find myself on the landing \\nof the stairs and can't remember whether I was on my way up or on my way \\ndown.\"\\n \\nThe third one responded, \" Well, I'm glad I don't have that problem; knock \\non wood,\" as she rapped her knuckles on the table, then told them \"That must \\nbe the door, I'll get it!\"   \n",
       "955   Three friends were backpacking through europe and found out about a magical mountain near the coast, so they decided to check it out.\\nWhen they finally reached the top of the mountain they saw a man jump straight off the edge and screamed that he wanted to be an eagle then poof he turned into an eagle and flew away.\\nAfter seeing that the three friends got really excited and decided to go for it.The first thought for a second and then dashed straight off and yelled \"I want to be a hawk\" then poof he turned into a hawk and flew away. The second friend thought for a second and finally decided and jumped off and yelled \"I want to be a a mountain goat\" then poof he turned into a mountain goat and ran away. The third friend thought about for a long while and then finally decided, he ran as...   \n",
       "3598  \"Excuse me, sir.\"\\n\"Is that you again, Moses?\"\\n\"I'm afraid it is, sir.\"\\n\"What is it this time, Moses. More computer problems?\"\\n\"How did you guess?\"\\n\"I don't have to guess, Moses. Remember?\"\\n\"Oh, yeah. I forgot.\"\\n\"Tell me what you want, Moses.\"\\n\"But you already know. Remember?\"\\n\"Moses!\"\\n\"Sorry, sir.\"\\n\"Well, go ahead, Moses. Spit it out!\"\\n\"Well, I have a question, Sir. You know those ten things you sent me?\"\\n\"You mean the Commandments, Moses?\"\\n\"That's it. I was wondering if they were important.\"\\n\"What do you mean 'were important, Moses? Of course, they are\\nimportant. Otherwise I wouldn't have sent them to you.\"\\n\"Well, sorry, but I lost them. I could say the dog ate them, but of\\ncourse you would see right through that.\"\\n\"What do you mean 'you lost them! Are you trying to...   \n",
       "1719                                                                                                                                                                                                      Sleeping Beauty, Tom Thumb and Quasimodo were walking through the forest when Sleeping Beauty turned and said, \"I must be the most beautiful girl in the world.\"To that, Tom Thumb said, \"I must be the smallest.\"And Quasimodo \"I must be the ugliest in the world.\"With that, Tom Thumb said, \"Why don't we go to Guinness and have them certify us in their book of World Records?\"So Sleeping Beauty went in and came out, \"I am, I am, I'm the most beautiful girl in the world.\"Next, Tom Thumb came out, \"It's official, I'm the smallest in the world.\"Finally, Quasimodo came out, \"Who the hell is Linda Tripp?\".   \n",
       "1088  Plez compleet this paper, best ya can. Last name: ________________ First name:[_] Billy-Bob        [_] Billy-Joe   [_] Billy-Ray      [_] Billy-Jack[_] Bubba   Age: ____ (if unsure, guess) Sex: [_]M   [_]F   [_]None Shoe Size: ____ Left ____ Right Occupation:[_] Farmer                    [_] Mechanic[_] Janitor                   [_] Still Operator[_] Un-employed    Spouse's Name:  ______________________________2nd Spouse's Name:  __________________________3rd Spouse's Name:  __________________________Lover's Name:  _______________________________2nd Lover's Name: ____________________________ Relationship with spouse:[_] Sister[_] Aunt[_] Mother    [_] Cousin   [_] Daughter[_] Pet Number of children living in household: ___Number of children living in shed:      ___Number of children th...   \n",
       "\n",
       "             category    id  rating  \\\n",
       "978     Miscellaneous   979     1.0   \n",
       "955     Miscellaneous   956     1.0   \n",
       "3598        Religious  3599     1.0   \n",
       "1719  Heaven and Hell  1720     1.0   \n",
       "1088   Love & Romance  1089     1.5   \n",
       "\n",
       "                                                                                                                                                                                                                                                                                                                                                                                                                                                                                                                                                                                                                                                                                                                                                                                                                                 text  \n",
       "978                                                                                                                                                                                                                      Three older ladies were discussing the travails of getting older. One said,  \"Sometimes I catch myself with a jar of mayonnaise in my hand in front of  the refrigerator and can't remember whether I need to put it away, or start  making a sandwich.\"   The second lady chimed in, \"Yes, some times I find myself on the landing  of the stairs and can't remember whether I was on my way up or on my way  down.\"   The third one responded, \" Well, I'm glad I don't have that problem; knock  on wood,\" as she rapped her knuckles on the table, then told them \"That must  be the door, I'll get it!\"  \n",
       "955   Three friends were backpacking through europe and found out about a magical mountain near the coast, so they decided to check it out. When they finally reached the top of the mountain they saw a man jump straight off the edge and screamed that he wanted to be an eagle then poof he turned into an eagle and flew away. After seeing that the three friends got really excited and decided to go for it.The first thought for a second and then dashed straight off and yelled \"I want to be a hawk\" then poof he turned into a hawk and flew away. The second friend thought for a second and finally decided and jumped off and yelled \"I want to be a a mountain goat\" then poof he turned into a mountain goat and ran away. The third friend thought about for a long while and then finally decided, he ran as f...  \n",
       "3598  \"Excuse me, sir.\" \"Is that you again, Moses?\" \"I'm afraid it is, sir.\" \"What is it this time, Moses. More computer problems?\" \"How did you guess?\" \"I don't have to guess, Moses. Remember?\" \"Oh, yeah. I forgot.\" \"Tell me what you want, Moses.\" \"But you already know. Remember?\" \"Moses!\" \"Sorry, sir.\" \"Well, go ahead, Moses. Spit it out!\" \"Well, I have a question, Sir. You know those ten things you sent me?\" \"You mean the Commandments, Moses?\" \"That's it. I was wondering if they were important.\" \"What do you mean 'were important, Moses? Of course, they are important. Otherwise I wouldn't have sent them to you.\" \"Well, sorry, but I lost them. I could say the dog ate them, but of course you would see right through that.\" \"What do you mean 'you lost them! Are you trying to tell me you didn't...  \n",
       "1719                                                                                                                                                                                                      Sleeping Beauty, Tom Thumb and Quasimodo were walking through the forest when Sleeping Beauty turned and said, \"I must be the most beautiful girl in the world.\"To that, Tom Thumb said, \"I must be the smallest.\"And Quasimodo \"I must be the ugliest in the world.\"With that, Tom Thumb said, \"Why don't we go to Guinness and have them certify us in their book of World Records?\"So Sleeping Beauty went in and came out, \"I am, I am, I'm the most beautiful girl in the world.\"Next, Tom Thumb came out, \"It's official, I'm the smallest in the world.\"Finally, Quasimodo came out, \"Who the hell is Linda Tripp?\".  \n",
       "1088  Plez compleet this paper, best ya can. Last name: ________________ First name:[_] Billy-Bob        [_] Billy-Joe   [_] Billy-Ray      [_] Billy-Jack[_] Bubba   Age: ____ (if unsure, guess) Sex: [_]M   [_]F   [_]None Shoe Size: ____ Left ____ Right Occupation:[_] Farmer                    [_] Mechanic[_] Janitor                   [_] Still Operator[_] Un-employed    Spouse's Name:  ______________________________2nd Spouse's Name:  __________________________3rd Spouse's Name:  __________________________Lover's Name:  _______________________________2nd Lover's Name: ____________________________ Relationship with spouse:[_] Sister[_] Aunt[_] Mother    [_] Cousin   [_] Daughter[_] Pet Number of children living in household: ___Number of children living in shed:      ___Number of children th...  "
      ]
     },
     "execution_count": 30,
     "metadata": {},
     "output_type": "execute_result"
    }
   ],
   "source": [
    "stupid.query('rating < 2').sample(5)"
   ]
  },
  {
   "cell_type": "code",
   "execution_count": 31,
   "metadata": {},
   "outputs": [],
   "source": [
    "stupid = stupid.rename({'rating': 'score'}, axis=1)"
   ]
  },
  {
   "cell_type": "code",
   "execution_count": 32,
   "metadata": {},
   "outputs": [
    {
     "data": {
      "text/plain": [
       "Miscellaneous      701\n",
       "Men                190\n",
       "Insults            186\n",
       "Women              143\n",
       "Yo Mama            141\n",
       "Light Bulbs        119\n",
       "Religious          115\n",
       "Political          112\n",
       "Blonde Jokes       111\n",
       "Heaven and Hell     85\n",
       "Family, Parents     80\n",
       "Money               77\n",
       "Medical             77\n",
       "Animals             74\n",
       "Bar Jokes           66\n",
       "Children            65\n",
       "Computers           64\n",
       "Police Jokes        55\n",
       "Sex                 54\n",
       "Lawyers             50\n",
       "Love & Romance      48\n",
       "Military            47\n",
       "Crazy Jokes         43\n",
       "Business            41\n",
       "Marriage            37\n",
       "Sports              37\n",
       "Aviation            35\n",
       "Holidays            32\n",
       "Idiots              31\n",
       "Farmers             27\n",
       "Redneck             27\n",
       "School              26\n",
       "Old Age             22\n",
       "Office Jokes        18\n",
       "Science             17\n",
       "Deep Thoughts       14\n",
       "Food Jokes          13\n",
       "Blind Jokes         11\n",
       "State Jokes          9\n",
       "Ethnic Jokes         8\n",
       "Music                7\n",
       "One Liners           6\n",
       "English              1\n",
       "Name: category, dtype: int64"
      ]
     },
     "execution_count": 32,
     "metadata": {},
     "output_type": "execute_result"
    }
   ],
   "source": [
    "stupid.category.value_counts()"
   ]
  },
  {
   "cell_type": "code",
   "execution_count": 33,
   "metadata": {},
   "outputs": [],
   "source": [
    "wocka = pd.read_json('../data/wocka.json', orient='records')"
   ]
  },
  {
   "cell_type": "code",
   "execution_count": 34,
   "metadata": {},
   "outputs": [
    {
     "data": {
      "text/html": [
       "<div>\n",
       "<style scoped>\n",
       "    .dataframe tbody tr th:only-of-type {\n",
       "        vertical-align: middle;\n",
       "    }\n",
       "\n",
       "    .dataframe tbody tr th {\n",
       "        vertical-align: top;\n",
       "    }\n",
       "\n",
       "    .dataframe thead th {\n",
       "        text-align: right;\n",
       "    }\n",
       "</style>\n",
       "<table border=\"1\" class=\"dataframe\">\n",
       "  <thead>\n",
       "    <tr style=\"text-align: right;\">\n",
       "      <th></th>\n",
       "      <th>body</th>\n",
       "      <th>category</th>\n",
       "      <th>id</th>\n",
       "      <th>title</th>\n",
       "    </tr>\n",
       "  </thead>\n",
       "  <tbody>\n",
       "    <tr>\n",
       "      <th>0</th>\n",
       "      <td>What do you call a cow with no legs?\\r\\n\\r\\nGround Beef!</td>\n",
       "      <td>Animal</td>\n",
       "      <td>1</td>\n",
       "      <td>Cow With No Legs</td>\n",
       "    </tr>\n",
       "    <tr>\n",
       "      <th>1</th>\n",
       "      <td>What do you call a cow jumping over a barbed wire fence?\\r\\n\\r\\nUtter destruction.</td>\n",
       "      <td>Animal</td>\n",
       "      <td>2</td>\n",
       "      <td>Jumping Cow</td>\n",
       "    </tr>\n",
       "    <tr>\n",
       "      <th>2</th>\n",
       "      <td>What's black and white and red all over?\\r\\n\\r\\nA newspaper.</td>\n",
       "      <td>Other / Misc</td>\n",
       "      <td>4</td>\n",
       "      <td>Black, White and Red</td>\n",
       "    </tr>\n",
       "    <tr>\n",
       "      <th>3</th>\n",
       "      <td>So, this guy walks into a bar.\\r\\n\\r\\nAnd says, \"ouch\".</td>\n",
       "      <td>Bar</td>\n",
       "      <td>5</td>\n",
       "      <td>Guy in a Bar</td>\n",
       "    </tr>\n",
       "    <tr>\n",
       "      <th>4</th>\n",
       "      <td>If the opposite of pro is con, isn't the opposite of progress, congress?</td>\n",
       "      <td>One Liners</td>\n",
       "      <td>6</td>\n",
       "      <td>Progress</td>\n",
       "    </tr>\n",
       "  </tbody>\n",
       "</table>\n",
       "</div>"
      ],
      "text/plain": [
       "                                                                                 body  \\\n",
       "0                            What do you call a cow with no legs?\\r\\n\\r\\nGround Beef!   \n",
       "1  What do you call a cow jumping over a barbed wire fence?\\r\\n\\r\\nUtter destruction.   \n",
       "2                        What's black and white and red all over?\\r\\n\\r\\nA newspaper.   \n",
       "3                             So, this guy walks into a bar.\\r\\n\\r\\nAnd says, \"ouch\".   \n",
       "4            If the opposite of pro is con, isn't the opposite of progress, congress?   \n",
       "\n",
       "       category  id                 title  \n",
       "0        Animal   1      Cow With No Legs  \n",
       "1        Animal   2           Jumping Cow  \n",
       "2  Other / Misc   4  Black, White and Red  \n",
       "3           Bar   5          Guy in a Bar  \n",
       "4    One Liners   6              Progress  "
      ]
     },
     "execution_count": 34,
     "metadata": {},
     "output_type": "execute_result"
    }
   ],
   "source": [
    "wocka.head()"
   ]
  },
  {
   "cell_type": "code",
   "execution_count": 35,
   "metadata": {},
   "outputs": [],
   "source": [
    "dup = wocka[wocka.duplicated(subset='body')]"
   ]
  },
  {
   "cell_type": "code",
   "execution_count": 36,
   "metadata": {},
   "outputs": [
    {
     "data": {
      "text/plain": [
       "(8, 4)"
      ]
     },
     "execution_count": 36,
     "metadata": {},
     "output_type": "execute_result"
    }
   ],
   "source": [
    "dup.shape"
   ]
  },
  {
   "cell_type": "code",
   "execution_count": 37,
   "metadata": {},
   "outputs": [],
   "source": [
    "wocka = wocka.drop(dup.index)"
   ]
  },
  {
   "cell_type": "code",
   "execution_count": 38,
   "metadata": {},
   "outputs": [
    {
     "name": "stdout",
     "output_type": "stream",
     "text": [
      "Wall time: 1.52 s\n"
     ]
    }
   ],
   "source": [
    "%%time\n",
    "wocka['text'] = wocka.body.apply(standardize_characters)"
   ]
  },
  {
   "cell_type": "code",
   "execution_count": 39,
   "metadata": {},
   "outputs": [
    {
     "data": {
      "text/html": [
       "<div>\n",
       "<style scoped>\n",
       "    .dataframe tbody tr th:only-of-type {\n",
       "        vertical-align: middle;\n",
       "    }\n",
       "\n",
       "    .dataframe tbody tr th {\n",
       "        vertical-align: top;\n",
       "    }\n",
       "\n",
       "    .dataframe thead th {\n",
       "        text-align: right;\n",
       "    }\n",
       "</style>\n",
       "<table border=\"1\" class=\"dataframe\">\n",
       "  <thead>\n",
       "    <tr style=\"text-align: right;\">\n",
       "      <th></th>\n",
       "      <th>body</th>\n",
       "      <th>category</th>\n",
       "      <th>id</th>\n",
       "      <th>title</th>\n",
       "      <th>text</th>\n",
       "    </tr>\n",
       "  </thead>\n",
       "  <tbody>\n",
       "    <tr>\n",
       "      <th>2897</th>\n",
       "      <td>A man who lived in a block of apartments thought it was raining and put his head out the window to check. As he did so a glass eye fell into his hand. \\r\\n\\r\\nHe looked up to see where it came from in time to see a young woman looking down. \\r\\n\\r\\n\"Is this yours?\" he asked. \\r\\n\\r\\nShe said, \"Yes, could you bring it up?\" and the man agreed. \\r\\n\\r\\nOn arrival she was profuse in her thanks and offered the man a drink. As she was very attractive he agreed. Shortly afterwards she said, \"I'm about to have dinner. There's plenty. Would you like to join me?\" \\r\\n\\r\\nHe readily accepted her offer and both enjoyed a lovely meal. As the evening was drawing to a close the lady said, \"I've had a marvelous evening. Would you like to stay the night?\" \\r\\n\\r\\nThe man hesitated then said, \"Do you ac...</td>\n",
       "      <td>Puns</td>\n",
       "      <td>4562</td>\n",
       "      <td>Eye</td>\n",
       "      <td>A man who lived in a block of apartments thought it was raining and put his head out the window to check. As he did so a glass eye fell into his hand.     He looked up to see where it came from in time to see a young woman looking down.     \"Is this yours?\" he asked.     She said, \"Yes, could you bring it up?\" and the man agreed.     On arrival she was profuse in her thanks and offered the man a drink. As she was very attractive he agreed. Shortly afterwards she said, \"I'm about to have dinner. There's plenty. Would you like to join me?\"     He readily accepted her offer and both enjoyed a lovely meal. As the evening was drawing to a close the lady said, \"I've had a marvelous evening. Would you like to stay the night?\"     The man hesitated then said, \"Do you act like this with every m...</td>\n",
       "    </tr>\n",
       "    <tr>\n",
       "      <th>9634</th>\n",
       "      <td>Will there be KGB in communism? \\r\\n\\r\\nAs you know, in communism, the state will be abolished, together with its means of suppression. People will know how to arrest themselves.</td>\n",
       "      <td>News / Politics</td>\n",
       "      <td>17736</td>\n",
       "      <td>KGB in Communism</td>\n",
       "      <td>Will there be KGB in communism?     As you know, in communism, the state will be abolished, together with its means of suppression. People will know how to arrest themselves.</td>\n",
       "    </tr>\n",
       "    <tr>\n",
       "      <th>674</th>\n",
       "      <td>A Marine was coming home from the Pentagon one day. He noticed that there was a lot more traffic than normal. As he got further up the road all of the traffic had come to a halt. He saw a policeman coming towards his car, so he asked the cop what was wrong. The cop said, \"Man we are in a crisis situation. Mr. Clinton is in the road very upset. He does not have the $33.5 million that he owes his lawyers, and his family hates him. He is threatening to douse himself in gasoline and start a fire.\" The marine asked the cop exactly what he was doing there. The cop said, \"I feel sorry for the president so I am going car to car asking for donations.\" The marine asked, \"How much do you have so far?\" The cop replied, \"Well as of right now only 33 gallons, but many people are still siphoning as w...</td>\n",
       "      <td>News / Politics</td>\n",
       "      <td>771</td>\n",
       "      <td>Suicide</td>\n",
       "      <td>A Marine was coming home from the Pentagon one day. He noticed that there was a lot more traffic than normal. As he got further up the road all of the traffic had come to a halt. He saw a policeman coming towards his car, so he asked the cop what was wrong. The cop said, \"Man we are in a crisis situation. Mr. Clinton is in the road very upset. He does not have the $33.5 million that he owes his lawyers, and his family hates him. He is threatening to douse himself in gasoline and start a fire.\" The marine asked the cop exactly what he was doing there. The cop said, \"I feel sorry for the president so I am going car to car asking for donations.\" The marine asked, \"How much do you have so far?\" The cop replied, \"Well as of right now only 33 gallons, but many people are still siphoning as w...</td>\n",
       "    </tr>\n",
       "    <tr>\n",
       "      <th>2916</th>\n",
       "      <td>Most people assume WWJD is for \"What would Jesus do?\"  But the initials really stand for \"What would Jesus drive?\"\\r\\n\\r\\nOne theory is that Jesus would tool around in an old Plymouth because the Bible says \"God drove Adam and Eve out of the Garden of Eden in a Fury.\"\\r\\n\\r\\nBut in Psalm 83, the Almighty clearly owns a Pontiac and a Geo. The passage urges the Lord to \"pursue your enemies with your Tempest and terrify them with your Storm.\"\\r\\n\\r\\nPerhaps God favors Dodge pickup trucks, because Moses' followers are warned not to go up a mountain \"until the Ram's horn sounds a long blast.\"\\r\\n\\r\\nSome scholars insist that Jesus drove a Honda but didn't like to talk about it.  As proof, they cite a verse in St. John's gospel where Christ tells the crowd, \"For I did  not speak of my own Ac...</td>\n",
       "      <td>Religious</td>\n",
       "      <td>4605</td>\n",
       "      <td>WWJD?</td>\n",
       "      <td>Most people assume WWJD is for \"What would Jesus do?\"  But the initials really stand for \"What would Jesus drive?\"    One theory is that Jesus would tool around in an old Plymouth because the Bible says \"God drove Adam and Eve out of the Garden of Eden in a Fury.\"    But in Psalm 83, the Almighty clearly owns a Pontiac and a Geo. The passage urges the Lord to \"pursue your enemies with your Tempest and terrify them with your Storm.\"    Perhaps God favors Dodge pickup trucks, because Moses' followers are warned not to go up a mountain \"until the Ram's horn sounds a long blast.\"    Some scholars insist that Jesus drove a Honda but didn't like to talk about it.  As proof, they cite a verse in St. John's gospel where Christ tells the crowd, \"For I did  not speak of my own Accord...\"     Mea...</td>\n",
       "    </tr>\n",
       "    <tr>\n",
       "      <th>3770</th>\n",
       "      <td>One drunk to another:  \"Have you ever been so drunk you'd kiss a woman's stomach?\"  Second drunk:  \"I've been drunker than that!\"</td>\n",
       "      <td>Gross</td>\n",
       "      <td>6730</td>\n",
       "      <td>Two Drunks</td>\n",
       "      <td>One drunk to another:  \"Have you ever been so drunk you'd kiss a woman's stomach?\"  Second drunk:  \"I've been drunker than that!\"</td>\n",
       "    </tr>\n",
       "  </tbody>\n",
       "</table>\n",
       "</div>"
      ],
      "text/plain": [
       "                                                                                                                                                                                                                                                                                                                                                                                                                                                                                                                                                                                                                                                                                                                                                                                                                                 body  \\\n",
       "2897  A man who lived in a block of apartments thought it was raining and put his head out the window to check. As he did so a glass eye fell into his hand. \\r\\n\\r\\nHe looked up to see where it came from in time to see a young woman looking down. \\r\\n\\r\\n\"Is this yours?\" he asked. \\r\\n\\r\\nShe said, \"Yes, could you bring it up?\" and the man agreed. \\r\\n\\r\\nOn arrival she was profuse in her thanks and offered the man a drink. As she was very attractive he agreed. Shortly afterwards she said, \"I'm about to have dinner. There's plenty. Would you like to join me?\" \\r\\n\\r\\nHe readily accepted her offer and both enjoyed a lovely meal. As the evening was drawing to a close the lady said, \"I've had a marvelous evening. Would you like to stay the night?\" \\r\\n\\r\\nThe man hesitated then said, \"Do you ac...   \n",
       "9634                                                                                                                                                                                                                                                                                                                                                                                                                                                                                                                                                                                                                                               Will there be KGB in communism? \\r\\n\\r\\nAs you know, in communism, the state will be abolished, together with its means of suppression. People will know how to arrest themselves.   \n",
       "674   A Marine was coming home from the Pentagon one day. He noticed that there was a lot more traffic than normal. As he got further up the road all of the traffic had come to a halt. He saw a policeman coming towards his car, so he asked the cop what was wrong. The cop said, \"Man we are in a crisis situation. Mr. Clinton is in the road very upset. He does not have the $33.5 million that he owes his lawyers, and his family hates him. He is threatening to douse himself in gasoline and start a fire.\" The marine asked the cop exactly what he was doing there. The cop said, \"I feel sorry for the president so I am going car to car asking for donations.\" The marine asked, \"How much do you have so far?\" The cop replied, \"Well as of right now only 33 gallons, but many people are still siphoning as w...   \n",
       "2916  Most people assume WWJD is for \"What would Jesus do?\"  But the initials really stand for \"What would Jesus drive?\"\\r\\n\\r\\nOne theory is that Jesus would tool around in an old Plymouth because the Bible says \"God drove Adam and Eve out of the Garden of Eden in a Fury.\"\\r\\n\\r\\nBut in Psalm 83, the Almighty clearly owns a Pontiac and a Geo. The passage urges the Lord to \"pursue your enemies with your Tempest and terrify them with your Storm.\"\\r\\n\\r\\nPerhaps God favors Dodge pickup trucks, because Moses' followers are warned not to go up a mountain \"until the Ram's horn sounds a long blast.\"\\r\\n\\r\\nSome scholars insist that Jesus drove a Honda but didn't like to talk about it.  As proof, they cite a verse in St. John's gospel where Christ tells the crowd, \"For I did  not speak of my own Ac...   \n",
       "3770                                                                                                                                                                                                                                                                                                                                                                                                                                                                                                                                                                                                                                                                                                One drunk to another:  \"Have you ever been so drunk you'd kiss a woman's stomach?\"  Second drunk:  \"I've been drunker than that!\"   \n",
       "\n",
       "             category     id             title  \\\n",
       "2897             Puns   4562               Eye   \n",
       "9634  News / Politics  17736  KGB in Communism   \n",
       "674   News / Politics    771           Suicide   \n",
       "2916        Religious   4605             WWJD?   \n",
       "3770            Gross   6730        Two Drunks   \n",
       "\n",
       "                                                                                                                                                                                                                                                                                                                                                                                                                                                                                                                                                                                                                                                                                                                                                                                                                                 text  \n",
       "2897  A man who lived in a block of apartments thought it was raining and put his head out the window to check. As he did so a glass eye fell into his hand.     He looked up to see where it came from in time to see a young woman looking down.     \"Is this yours?\" he asked.     She said, \"Yes, could you bring it up?\" and the man agreed.     On arrival she was profuse in her thanks and offered the man a drink. As she was very attractive he agreed. Shortly afterwards she said, \"I'm about to have dinner. There's plenty. Would you like to join me?\"     He readily accepted her offer and both enjoyed a lovely meal. As the evening was drawing to a close the lady said, \"I've had a marvelous evening. Would you like to stay the night?\"     The man hesitated then said, \"Do you act like this with every m...  \n",
       "9634                                                                                                                                                                                                                                                                                                                                                                                                                                                                                                                                                                                                                                                   Will there be KGB in communism?     As you know, in communism, the state will be abolished, together with its means of suppression. People will know how to arrest themselves.  \n",
       "674   A Marine was coming home from the Pentagon one day. He noticed that there was a lot more traffic than normal. As he got further up the road all of the traffic had come to a halt. He saw a policeman coming towards his car, so he asked the cop what was wrong. The cop said, \"Man we are in a crisis situation. Mr. Clinton is in the road very upset. He does not have the $33.5 million that he owes his lawyers, and his family hates him. He is threatening to douse himself in gasoline and start a fire.\" The marine asked the cop exactly what he was doing there. The cop said, \"I feel sorry for the president so I am going car to car asking for donations.\" The marine asked, \"How much do you have so far?\" The cop replied, \"Well as of right now only 33 gallons, but many people are still siphoning as w...  \n",
       "2916  Most people assume WWJD is for \"What would Jesus do?\"  But the initials really stand for \"What would Jesus drive?\"    One theory is that Jesus would tool around in an old Plymouth because the Bible says \"God drove Adam and Eve out of the Garden of Eden in a Fury.\"    But in Psalm 83, the Almighty clearly owns a Pontiac and a Geo. The passage urges the Lord to \"pursue your enemies with your Tempest and terrify them with your Storm.\"    Perhaps God favors Dodge pickup trucks, because Moses' followers are warned not to go up a mountain \"until the Ram's horn sounds a long blast.\"    Some scholars insist that Jesus drove a Honda but didn't like to talk about it.  As proof, they cite a verse in St. John's gospel where Christ tells the crowd, \"For I did  not speak of my own Accord...\"     Mea...  \n",
       "3770                                                                                                                                                                                                                                                                                                                                                                                                                                                                                                                                                                                                                                                                                                One drunk to another:  \"Have you ever been so drunk you'd kiss a woman's stomach?\"  Second drunk:  \"I've been drunker than that!\"  "
      ]
     },
     "execution_count": 39,
     "metadata": {},
     "output_type": "execute_result"
    }
   ],
   "source": [
    "wocka.sample(5)"
   ]
  },
  {
   "cell_type": "code",
   "execution_count": 40,
   "metadata": {},
   "outputs": [
    {
     "data": {
      "text/plain": [
       "Other / Misc       2302\n",
       "Men / Women         924\n",
       "One Liners          917\n",
       "Animal              656\n",
       "Children            605\n",
       "Yo Momma            600\n",
       "Blond               598\n",
       "Puns                457\n",
       "Religious           401\n",
       "At Work             288\n",
       "News / Politics     279\n",
       "Insults             276\n",
       "Gross               253\n",
       "Redneck             240\n",
       "Medical             207\n",
       "Knock-Knock         167\n",
       "Lawyer              157\n",
       "Bar                 154\n",
       "Tech                151\n",
       "Sports              134\n",
       "College             131\n",
       "Lightbulb           110\n",
       "Yo Mama               3\n",
       "Blonde                1\n",
       "Name: category, dtype: int64"
      ]
     },
     "execution_count": 40,
     "metadata": {},
     "output_type": "execute_result"
    }
   ],
   "source": [
    "wocka.category.value_counts()"
   ]
  },
  {
   "cell_type": "code",
   "execution_count": 41,
   "metadata": {},
   "outputs": [
    {
     "data": {
      "text/html": [
       "<div>\n",
       "<style scoped>\n",
       "    .dataframe tbody tr th:only-of-type {\n",
       "        vertical-align: middle;\n",
       "    }\n",
       "\n",
       "    .dataframe tbody tr th {\n",
       "        vertical-align: top;\n",
       "    }\n",
       "\n",
       "    .dataframe thead th {\n",
       "        text-align: right;\n",
       "    }\n",
       "</style>\n",
       "<table border=\"1\" class=\"dataframe\">\n",
       "  <thead>\n",
       "    <tr style=\"text-align: right;\">\n",
       "      <th></th>\n",
       "      <th>body</th>\n",
       "      <th>category</th>\n",
       "      <th>id</th>\n",
       "      <th>title</th>\n",
       "      <th>text</th>\n",
       "    </tr>\n",
       "  </thead>\n",
       "  <tbody>\n",
       "    <tr>\n",
       "      <th>3771</th>\n",
       "      <td>A black female is having trouble with her menses.  She goes to the gynecologist and he asks: \"Mrs. Williams, what kind of flow do you have?\"  \"Linoleum\" she replies.</td>\n",
       "      <td>Insults</td>\n",
       "      <td>6731</td>\n",
       "      <td>OBGYN Visit</td>\n",
       "      <td>A black female is having trouble with her menses.  She goes to the gynecologist and he asks: \"Mrs. Williams, what kind of flow do you have?\"  \"Linoleum\" she replies.</td>\n",
       "    </tr>\n",
       "    <tr>\n",
       "      <th>3349</th>\n",
       "      <td>Roses are red, \\r\\nViolets are blue.\\r\\nYo momma is ugly,\\r\\nAnd she looks just like you.</td>\n",
       "      <td>Insults</td>\n",
       "      <td>5718</td>\n",
       "      <td>A Limerick From Me to You</td>\n",
       "      <td>Roses are red,   Violets are blue.  Yo momma is ugly,  And she looks just like you.</td>\n",
       "    </tr>\n",
       "    <tr>\n",
       "      <th>394</th>\n",
       "      <td>People say you are the perfect idiot. I say you are not perfect, but you are doing pretty good.</td>\n",
       "      <td>Insults</td>\n",
       "      <td>437</td>\n",
       "      <td>Perfect Idiot</td>\n",
       "      <td>People say you are the perfect idiot. I say you are not perfect, but you are doing pretty good.</td>\n",
       "    </tr>\n",
       "    <tr>\n",
       "      <th>3124</th>\n",
       "      <td>You're so ugly that you scared away a man-eating shark!</td>\n",
       "      <td>Insults</td>\n",
       "      <td>5129</td>\n",
       "      <td>Back Luck</td>\n",
       "      <td>You're so ugly that you scared away a man-eating shark!</td>\n",
       "    </tr>\n",
       "    <tr>\n",
       "      <th>1605</th>\n",
       "      <td>Roses are red,\\r\\nGrass is green.\\r\\nYou have the shape\\r\\nOf a washing machine.</td>\n",
       "      <td>Insults</td>\n",
       "      <td>2312</td>\n",
       "      <td>Rhyme</td>\n",
       "      <td>Roses are red,  Grass is green.  You have the shape  Of a washing machine.</td>\n",
       "    </tr>\n",
       "  </tbody>\n",
       "</table>\n",
       "</div>"
      ],
      "text/plain": [
       "                                                                                                                                                                       body  \\\n",
       "3771  A black female is having trouble with her menses.  She goes to the gynecologist and he asks: \"Mrs. Williams, what kind of flow do you have?\"  \"Linoleum\" she replies.   \n",
       "3349                                                                              Roses are red, \\r\\nViolets are blue.\\r\\nYo momma is ugly,\\r\\nAnd she looks just like you.   \n",
       "394                                                                         People say you are the perfect idiot. I say you are not perfect, but you are doing pretty good.   \n",
       "3124                                                                                                                You're so ugly that you scared away a man-eating shark!   \n",
       "1605                                                                                       Roses are red,\\r\\nGrass is green.\\r\\nYou have the shape\\r\\nOf a washing machine.   \n",
       "\n",
       "     category    id                      title  \\\n",
       "3771  Insults  6731                OBGYN Visit   \n",
       "3349  Insults  5718  A Limerick From Me to You   \n",
       "394   Insults   437              Perfect Idiot   \n",
       "3124  Insults  5129                  Back Luck   \n",
       "1605  Insults  2312                      Rhyme   \n",
       "\n",
       "                                                                                                                                                                       text  \n",
       "3771  A black female is having trouble with her menses.  She goes to the gynecologist and he asks: \"Mrs. Williams, what kind of flow do you have?\"  \"Linoleum\" she replies.  \n",
       "3349                                                                                    Roses are red,   Violets are blue.  Yo momma is ugly,  And she looks just like you.  \n",
       "394                                                                         People say you are the perfect idiot. I say you are not perfect, but you are doing pretty good.  \n",
       "3124                                                                                                                You're so ugly that you scared away a man-eating shark!  \n",
       "1605                                                                                             Roses are red,  Grass is green.  You have the shape  Of a washing machine.  "
      ]
     },
     "execution_count": 41,
     "metadata": {},
     "output_type": "execute_result"
    }
   ],
   "source": [
    "wocka[wocka['category'] == 'Insults'].sample(5)"
   ]
  },
  {
   "cell_type": "code",
   "execution_count": 42,
   "metadata": {},
   "outputs": [],
   "source": [
    "# reorder columns\n",
    "reddit = reddit[['text', 'score']]\n",
    "stupid = stupid[['text', 'score', 'category']]\n",
    "wocka = wocka[['text', 'category']]"
   ]
  },
  {
   "cell_type": "code",
   "execution_count": 43,
   "metadata": {},
   "outputs": [],
   "source": [
    "# combine df-s\n",
    "combined = pd.concat([reddit, stupid, wocka])"
   ]
  },
  {
   "cell_type": "code",
   "execution_count": 44,
   "metadata": {},
   "outputs": [
    {
     "data": {
      "text/plain": [
       "(204542, 3)"
      ]
     },
     "execution_count": 44,
     "metadata": {},
     "output_type": "execute_result"
    }
   ],
   "source": [
    "combined.shape"
   ]
  },
  {
   "cell_type": "code",
   "execution_count": 45,
   "metadata": {},
   "outputs": [],
   "source": [
    "combined.to_csv('../data/jokes_combined.csv', index=False, encoding='utf-8')"
   ]
  }
 ],
 "metadata": {
  "kernelspec": {
   "display_name": "Python 3",
   "language": "python",
   "name": "python3"
  },
  "language_info": {
   "codemirror_mode": {
    "name": "ipython",
    "version": 3
   },
   "file_extension": ".py",
   "mimetype": "text/x-python",
   "name": "python",
   "nbconvert_exporter": "python",
   "pygments_lexer": "ipython3",
   "version": "3.7.8"
  }
 },
 "nbformat": 4,
 "nbformat_minor": 4
}
