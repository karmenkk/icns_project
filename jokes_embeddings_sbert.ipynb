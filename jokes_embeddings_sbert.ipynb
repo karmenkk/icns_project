{
  "nbformat": 4,
  "nbformat_minor": 0,
  "metadata": {
    "colab": {
      "name": "jokes_embeddings_sbert.ipynb",
      "provenance": [],
      "collapsed_sections": []
    },
    "kernelspec": {
      "name": "python3",
      "display_name": "Python 3"
    },
    "accelerator": "GPU"
  },
  "cells": [
    {
      "cell_type": "code",
      "metadata": {
        "colab": {
          "base_uri": "https://localhost:8080/"
        },
        "id": "5TC_CmTvpmLD",
        "outputId": "f023b613-2bbb-45eb-a83a-a2aa477110f4"
      },
      "source": [
        "!pip install -U sentence-transformers\r\n",
        "!pip install plotly==4.14.1\r\n",
        "!pip install torch"
      ],
      "execution_count": 6,
      "outputs": [
        {
          "output_type": "stream",
          "text": [
            "Requirement already up-to-date: sentence-transformers in /usr/local/lib/python3.6/dist-packages (0.4.1.2)\n",
            "Requirement already satisfied, skipping upgrade: nltk in /usr/local/lib/python3.6/dist-packages (from sentence-transformers) (3.2.5)\n",
            "Requirement already satisfied, skipping upgrade: sentencepiece in /usr/local/lib/python3.6/dist-packages (from sentence-transformers) (0.1.94)\n",
            "Requirement already satisfied, skipping upgrade: numpy in /usr/local/lib/python3.6/dist-packages (from sentence-transformers) (1.19.4)\n",
            "Requirement already satisfied, skipping upgrade: tqdm in /usr/local/lib/python3.6/dist-packages (from sentence-transformers) (4.41.1)\n",
            "Requirement already satisfied, skipping upgrade: transformers<5.0.0,>=3.1.0 in /usr/local/lib/python3.6/dist-packages (from sentence-transformers) (4.1.1)\n",
            "Requirement already satisfied, skipping upgrade: torch>=1.6.0 in /usr/local/lib/python3.6/dist-packages (from sentence-transformers) (1.7.0+cu101)\n",
            "Requirement already satisfied, skipping upgrade: scikit-learn in /usr/local/lib/python3.6/dist-packages (from sentence-transformers) (0.22.2.post1)\n",
            "Requirement already satisfied, skipping upgrade: scipy in /usr/local/lib/python3.6/dist-packages (from sentence-transformers) (1.4.1)\n",
            "Requirement already satisfied, skipping upgrade: six in /usr/local/lib/python3.6/dist-packages (from nltk->sentence-transformers) (1.15.0)\n",
            "Requirement already satisfied, skipping upgrade: regex!=2019.12.17 in /usr/local/lib/python3.6/dist-packages (from transformers<5.0.0,>=3.1.0->sentence-transformers) (2019.12.20)\n",
            "Requirement already satisfied, skipping upgrade: filelock in /usr/local/lib/python3.6/dist-packages (from transformers<5.0.0,>=3.1.0->sentence-transformers) (3.0.12)\n",
            "Requirement already satisfied, skipping upgrade: sacremoses in /usr/local/lib/python3.6/dist-packages (from transformers<5.0.0,>=3.1.0->sentence-transformers) (0.0.43)\n",
            "Requirement already satisfied, skipping upgrade: dataclasses; python_version < \"3.7\" in /usr/local/lib/python3.6/dist-packages (from transformers<5.0.0,>=3.1.0->sentence-transformers) (0.8)\n",
            "Requirement already satisfied, skipping upgrade: tokenizers==0.9.4 in /usr/local/lib/python3.6/dist-packages (from transformers<5.0.0,>=3.1.0->sentence-transformers) (0.9.4)\n",
            "Requirement already satisfied, skipping upgrade: requests in /usr/local/lib/python3.6/dist-packages (from transformers<5.0.0,>=3.1.0->sentence-transformers) (2.23.0)\n",
            "Requirement already satisfied, skipping upgrade: packaging in /usr/local/lib/python3.6/dist-packages (from transformers<5.0.0,>=3.1.0->sentence-transformers) (20.8)\n",
            "Requirement already satisfied, skipping upgrade: future in /usr/local/lib/python3.6/dist-packages (from torch>=1.6.0->sentence-transformers) (0.16.0)\n",
            "Requirement already satisfied, skipping upgrade: typing-extensions in /usr/local/lib/python3.6/dist-packages (from torch>=1.6.0->sentence-transformers) (3.7.4.3)\n",
            "Requirement already satisfied, skipping upgrade: joblib>=0.11 in /usr/local/lib/python3.6/dist-packages (from scikit-learn->sentence-transformers) (1.0.0)\n",
            "Requirement already satisfied, skipping upgrade: click in /usr/local/lib/python3.6/dist-packages (from sacremoses->transformers<5.0.0,>=3.1.0->sentence-transformers) (7.1.2)\n",
            "Requirement already satisfied, skipping upgrade: chardet<4,>=3.0.2 in /usr/local/lib/python3.6/dist-packages (from requests->transformers<5.0.0,>=3.1.0->sentence-transformers) (3.0.4)\n",
            "Requirement already satisfied, skipping upgrade: idna<3,>=2.5 in /usr/local/lib/python3.6/dist-packages (from requests->transformers<5.0.0,>=3.1.0->sentence-transformers) (2.10)\n",
            "Requirement already satisfied, skipping upgrade: urllib3!=1.25.0,!=1.25.1,<1.26,>=1.21.1 in /usr/local/lib/python3.6/dist-packages (from requests->transformers<5.0.0,>=3.1.0->sentence-transformers) (1.24.3)\n",
            "Requirement already satisfied, skipping upgrade: certifi>=2017.4.17 in /usr/local/lib/python3.6/dist-packages (from requests->transformers<5.0.0,>=3.1.0->sentence-transformers) (2020.12.5)\n",
            "Requirement already satisfied, skipping upgrade: pyparsing>=2.0.2 in /usr/local/lib/python3.6/dist-packages (from packaging->transformers<5.0.0,>=3.1.0->sentence-transformers) (2.4.7)\n",
            "Requirement already satisfied: plotly==4.14.1 in /usr/local/lib/python3.6/dist-packages (4.14.1)\n",
            "Requirement already satisfied: retrying>=1.3.3 in /usr/local/lib/python3.6/dist-packages (from plotly==4.14.1) (1.3.3)\n",
            "Requirement already satisfied: six in /usr/local/lib/python3.6/dist-packages (from plotly==4.14.1) (1.15.0)\n",
            "Requirement already satisfied: torch in /usr/local/lib/python3.6/dist-packages (1.7.0+cu101)\n",
            "Requirement already satisfied: typing-extensions in /usr/local/lib/python3.6/dist-packages (from torch) (3.7.4.3)\n",
            "Requirement already satisfied: future in /usr/local/lib/python3.6/dist-packages (from torch) (0.16.0)\n",
            "Requirement already satisfied: numpy in /usr/local/lib/python3.6/dist-packages (from torch) (1.19.4)\n",
            "Requirement already satisfied: dataclasses in /usr/local/lib/python3.6/dist-packages (from torch) (0.8)\n"
          ],
          "name": "stdout"
        }
      ]
    },
    {
      "cell_type": "code",
      "metadata": {
        "id": "MTFOUMjqvOKO"
      },
      "source": [
        "import torch\r\n",
        "import pandas as pd\r\n",
        "from sentence_transformers import SentenceTransformer, util\r\n",
        "\r\n",
        "from sklearn.metrics.pairwise import euclidean_distances, cosine_distances\r\n",
        "from scipy.spatial.distance import euclidean, pdist, squareform\r\n",
        "from sklearn import manifold          #use this for MDS computation\r\n",
        "\r\n",
        "#visualization libs\r\n",
        "import plotly.express as px\r\n",
        "import plotly.graph_objects as go\r\n",
        "import matplotlib.pyplot as plt\r\n",
        "% matplotlib inline"
      ],
      "execution_count": 55,
      "outputs": []
    },
    {
      "cell_type": "code",
      "metadata": {
        "id": "QUnYXmykyy-x"
      },
      "source": [
        "pd.set_option('max_colwidth', 800)"
      ],
      "execution_count": 8,
      "outputs": []
    },
    {
      "cell_type": "code",
      "metadata": {
        "colab": {
          "base_uri": "https://localhost:8080/"
        },
        "id": "JnX4GRR0wnXe",
        "outputId": "201f0613-bada-45e8-86e4-cbc5030c2162"
      },
      "source": [
        "device = torch.device(\"cuda\" if torch.cuda.is_available() else \"cpu\")\r\n",
        "print('using device: ', torch.cuda.get_device_name(device), flush=True)"
      ],
      "execution_count": 9,
      "outputs": [
        {
          "output_type": "stream",
          "text": [
            "using device:  Tesla T4\n"
          ],
          "name": "stdout"
        }
      ]
    },
    {
      "cell_type": "code",
      "metadata": {
        "id": "h3SLiW1dvVPz"
      },
      "source": [
        "model = SentenceTransformer('paraphrase-distilroberta-base-v1')"
      ],
      "execution_count": 10,
      "outputs": []
    },
    {
      "cell_type": "code",
      "metadata": {
        "id": "hKDeSJ15v_wR"
      },
      "source": [
        "df = pd.read_csv('jokes_combined.csv', encoding='utf-8')"
      ],
      "execution_count": 11,
      "outputs": []
    },
    {
      "cell_type": "code",
      "metadata": {
        "colab": {
          "base_uri": "https://localhost:8080/"
        },
        "id": "EdEBBs6KM5h6",
        "outputId": "b953624c-777b-409d-a373-9a7442547255"
      },
      "source": [
        "df['category'].value_counts()"
      ],
      "execution_count": 12,
      "outputs": [
        {
          "output_type": "execute_result",
          "data": {
            "text/plain": [
              "Other / Misc       2302\n",
              "Men / Women         924\n",
              "One Liners          923\n",
              "Miscellaneous       701\n",
              "Children            670\n",
              "Animal              656\n",
              "Yo Momma            600\n",
              "Blond               598\n",
              "Religious           516\n",
              "Insults             462\n",
              "Puns                457\n",
              "At Work             288\n",
              "Medical             284\n",
              "News / Politics     279\n",
              "Redneck             267\n",
              "Gross               253\n",
              "Men                 190\n",
              "Sports              171\n",
              "Knock-Knock         167\n",
              "Lawyer              157\n",
              "Bar                 154\n",
              "Tech                151\n",
              "Yo Mama             144\n",
              "Women               143\n",
              "College             131\n",
              "Light Bulbs         119\n",
              "Political           112\n",
              "Blonde Jokes        111\n",
              "Lightbulb           110\n",
              "Heaven and Hell      85\n",
              "Family, Parents      80\n",
              "Money                77\n",
              "Animals              74\n",
              "Bar Jokes            66\n",
              "Computers            64\n",
              "Police Jokes         55\n",
              "Sex                  54\n",
              "Lawyers              50\n",
              "Love & Romance       48\n",
              "Military             47\n",
              "Crazy Jokes          43\n",
              "Business             41\n",
              "Marriage             37\n",
              "Aviation             35\n",
              "Holidays             32\n",
              "Idiots               31\n",
              "Farmers              27\n",
              "School               26\n",
              "Old Age              22\n",
              "Office Jokes         18\n",
              "Science              17\n",
              "Deep Thoughts        14\n",
              "Food Jokes           13\n",
              "Blind Jokes          11\n",
              "State Jokes           9\n",
              "Ethnic Jokes          8\n",
              "Music                 7\n",
              "English               1\n",
              "Blonde                1\n",
              "Name: category, dtype: int64"
            ]
          },
          "metadata": {
            "tags": []
          },
          "execution_count": 12
        }
      ]
    },
    {
      "cell_type": "code",
      "metadata": {
        "id": "b8bgojQiyDZO"
      },
      "source": [
        "# take a sample with 2 sentences from one category and 2 from another\r\n",
        "sample_a = df[df['category'] == 'Sports']\r\n",
        "sample_b = df[df['category'] == 'Religious']\r\n",
        "sample = pd.concat([sample_a, sample_b])"
      ],
      "execution_count": 13,
      "outputs": []
    },
    {
      "cell_type": "code",
      "metadata": {
        "colab": {
          "base_uri": "https://localhost:8080/",
          "height": 691
        },
        "id": "LuTlbYf4ygBu",
        "outputId": "53834ce7-84fe-455a-d3b6-e902fac63d64"
      },
      "source": [
        "sample"
      ],
      "execution_count": 14,
      "outputs": [
        {
          "output_type": "execute_result",
          "data": {
            "text/html": [
              "<div>\n",
              "<style scoped>\n",
              "    .dataframe tbody tr th:only-of-type {\n",
              "        vertical-align: middle;\n",
              "    }\n",
              "\n",
              "    .dataframe tbody tr th {\n",
              "        vertical-align: top;\n",
              "    }\n",
              "\n",
              "    .dataframe thead th {\n",
              "        text-align: right;\n",
              "    }\n",
              "</style>\n",
              "<table border=\"1\" class=\"dataframe\">\n",
              "  <thead>\n",
              "    <tr style=\"text-align: right;\">\n",
              "      <th></th>\n",
              "      <th>text</th>\n",
              "      <th>score</th>\n",
              "      <th>category</th>\n",
              "    </tr>\n",
              "  </thead>\n",
              "  <tbody>\n",
              "    <tr>\n",
              "      <th>191905</th>\n",
              "      <td>Two men are approaching each other on a sidewalk. Both are dragging their right foot as they walk. As they meet, one man looks at the other knowingly, points to his foot and says, \"Vietnam, 1969.\"  The other points his thumb behind him and says, \"Dog crap, 20 feet back.\"</td>\n",
              "      <td>4.25</td>\n",
              "      <td>Sports</td>\n",
              "    </tr>\n",
              "    <tr>\n",
              "      <th>192073</th>\n",
              "      <td>A man went to visit his 90 year old grandfather in a very secluded rural area of the state he lived in.After spending the night, his grandfather prepared breakfast for him consisting of eggs and bacon. He noticed a film like substance on his plate and he questioned his grandfather, \"are these plates clean?\"His grandfather replied, \"Those plates are as clean as cold water can get them, so go on and finish your meal\".That afternoon, while eating the hamburgers his grandfather made for lunch, he noticed tiny specks around the edge of his plate and a substance that looked like dried egg yokes, so he ask again, \"Are you sure these plates are clean\"?Without looking up from his hamburger, the grandfather says, \"I told you before; those dishes are as clean as cold water can get them. Now don't...</td>\n",
              "      <td>3.67</td>\n",
              "      <td>Sports</td>\n",
              "    </tr>\n",
              "    <tr>\n",
              "      <th>192088</th>\n",
              "      <td>A man is walking down the street when he sees a sign in the window of a travel agency that says CRUISES - $100. He goes into the agency and hands the guy $100. The travel agent then whacks him over the head with a baseball bat and throws him in the river.Another man is walking down the street a half hour later, sees the sign and pays the guy $100. The travel agent then whacks him with the baseball bat and throws him in the river.Sometime later, the two men are floating down the river together and the first man asks, \"Do you think they'll serve any food on this cruise?\"The second man says, \"I don't think so. They didn't do it last year.\"</td>\n",
              "      <td>3.00</td>\n",
              "      <td>Sports</td>\n",
              "    </tr>\n",
              "    <tr>\n",
              "      <th>192111</th>\n",
              "      <td>\"How was your golf game, dear?\" asked Jack's wife Tracy.\"Well, I was hitting pretty well, but my eyesight's gotten so bad Icouldn't see where the ball went.\"\"But you're seventy-five years old, Jack!\" admonished his wife,\"Why don't you take my brother Scott along?\"\"But he's eighty-five and doesn't even play golf anymore,\"protested Jack.\"But he's got perfect eyesight. He could watch your ball,\"Tracy pointed out.The next day Jack teed off with Scott looking on. Jack swung,and the ball disappeared down the middle of the fairway.\"Do you see it?\" asked Jack.\"Yup,\" Scott answered.\"Well, where is it?\" yelled Jack, peering off into the distance.\"I forgot.\"</td>\n",
              "      <td>2.83</td>\n",
              "      <td>Sports</td>\n",
              "    </tr>\n",
              "    <tr>\n",
              "      <th>192155</th>\n",
              "      <td>It is the Olympic men's figure skating. Out comes the Russian competitor, he skates around to some classical music in a slightly dull costume, performs some excellent leaps but without any great artistic feel for the music.   The Judges' scores read: Britain 5.8: Russia 5.9: United States 5.5: Ireland 6.0   Next comes the American competitor in a sparkling stars and stripes costume, skating to some rock and roll music. He gets the crowd clapping, but is not technically as good as the Russian. He slightly misses landing a triple Salchow and loses the center during a spin. But, artistically, it is a more satisfying performance.   The Judges' scores read: Britain 5.8: Russia 5.5: United States 5.9: Ireland 6.0   Finally out comes the Irish competitor wearing a tatty old donkey jacket, wit...</td>\n",
              "      <td>1.50</td>\n",
              "      <td>Sports</td>\n",
              "    </tr>\n",
              "    <tr>\n",
              "      <th>...</th>\n",
              "      <td>...</td>\n",
              "      <td>...</td>\n",
              "      <td>...</td>\n",
              "    </tr>\n",
              "    <tr>\n",
              "      <th>204481</th>\n",
              "      <td>Mik:Darn it! There's only 2 chips in my bowl.Damn you,chips!  Mak: Aargh! you made me so angry I am gonna punch them!    Mak punches the chips.    Mik: WHOAH! you made 2 big chips into 20 small ones!  Mak: I AM JESUS OF THE DORITOS!!</td>\n",
              "      <td>NaN</td>\n",
              "      <td>Religious</td>\n",
              "    </tr>\n",
              "    <tr>\n",
              "      <th>204489</th>\n",
              "      <td>Little Katie was at Sunday school one day. The teacher asked the class \"Who is someone in your life that worships God by always speaking His name?\"      Little Katie raised her hand and said \"The fifth grade teacher at my school! Every time we pass by her room on the way to art I hear her say \"I swear to God I have the worst behaved class in the world!\"</td>\n",
              "      <td>NaN</td>\n",
              "      <td>Religious</td>\n",
              "    </tr>\n",
              "    <tr>\n",
              "      <th>204491</th>\n",
              "      <td>Billy was walking in a shopping center with his mom, and suddenly she stopped to pick up a penny. When she reached out for it, he saw armpit hair. Frightened, he said, \"You're not my mom! I'm calling the police.\" The man pulled off his mask and said, \"Okay, you got me. But tell me one thing. How did you know I wasn't your mom?\"    \"Because my mom's not Jewish.\"</td>\n",
              "      <td>NaN</td>\n",
              "      <td>Religious</td>\n",
              "    </tr>\n",
              "    <tr>\n",
              "      <th>204494</th>\n",
              "      <td>So I asked a religious truck driver what his CB handle is.   His answer: \"My handle's 'Messiah'.\"   (Get it? Sounds like \"Handel's Messiah.\")</td>\n",
              "      <td>NaN</td>\n",
              "      <td>Religious</td>\n",
              "    </tr>\n",
              "    <tr>\n",
              "      <th>204539</th>\n",
              "      <td>Me: \"That will be 17.50, please.\"    Customer: \"Are you a Christian, dear?\"    Me: \"Why do you ask?\"    Customer: \"Are you?\"    Me: \"Well, no. Why do you want to know?\"    Customer: \"Oh. I would like to be helped by someone else, please.\"    Manager: \"Good morning ma'am, I hear you've been having a problem with the clerk?\"    Customer: \"Oh, she didn't make any trouble, it's just that I don't want my money to be handled by someone not of the faith. You should be careful, she'll probably nick from the till when you're not looking.\"    Manager: \"You're right, ma'am, I shall definitely have to reprimand her.\"    Me: *surprised* \"What for?\"    Manager: \"For failing to notice that the lady was not planning on paying for the three Mars bars and the map of Europe she must have put in her bag w...</td>\n",
              "      <td>NaN</td>\n",
              "      <td>Religious</td>\n",
              "    </tr>\n",
              "  </tbody>\n",
              "</table>\n",
              "<p>687 rows × 3 columns</p>\n",
              "</div>"
            ],
            "text/plain": [
              "                                                                                                                                                                                                                                                                                                                                                                                                                                                                                                                                                                                                                                                                                                                                                                                                                                   text  ...   category\n",
              "191905                                                                                                                                                                                                                                                                                                                                                                                                                                                                                                                                                  Two men are approaching each other on a sidewalk. Both are dragging their right foot as they walk. As they meet, one man looks at the other knowingly, points to his foot and says, \"Vietnam, 1969.\"  The other points his thumb behind him and says, \"Dog crap, 20 feet back.\"  ...     Sports\n",
              "192073  A man went to visit his 90 year old grandfather in a very secluded rural area of the state he lived in.After spending the night, his grandfather prepared breakfast for him consisting of eggs and bacon. He noticed a film like substance on his plate and he questioned his grandfather, \"are these plates clean?\"His grandfather replied, \"Those plates are as clean as cold water can get them, so go on and finish your meal\".That afternoon, while eating the hamburgers his grandfather made for lunch, he noticed tiny specks around the edge of his plate and a substance that looked like dried egg yokes, so he ask again, \"Are you sure these plates are clean\"?Without looking up from his hamburger, the grandfather says, \"I told you before; those dishes are as clean as cold water can get them. Now don't...  ...     Sports\n",
              "192088                                                                                                                                                             A man is walking down the street when he sees a sign in the window of a travel agency that says CRUISES - $100. He goes into the agency and hands the guy $100. The travel agent then whacks him over the head with a baseball bat and throws him in the river.Another man is walking down the street a half hour later, sees the sign and pays the guy $100. The travel agent then whacks him with the baseball bat and throws him in the river.Sometime later, the two men are floating down the river together and the first man asks, \"Do you think they'll serve any food on this cruise?\"The second man says, \"I don't think so. They didn't do it last year.\"  ...     Sports\n",
              "192111                                                                                                                                                  \"How was your golf game, dear?\" asked Jack's wife Tracy.\"Well, I was hitting pretty well, but my eyesight's gotten so bad Icouldn't see where the ball went.\"\"But you're seventy-five years old, Jack!\" admonished his wife,\"Why don't you take my brother Scott along?\"\"But he's eighty-five and doesn't even play golf anymore,\"protested Jack.\"But he's got perfect eyesight. He could watch your ball,\"Tracy pointed out.The next day Jack teed off with Scott looking on. Jack swung,and the ball disappeared down the middle of the fairway.\"Do you see it?\" asked Jack.\"Yup,\" Scott answered.\"Well, where is it?\" yelled Jack, peering off into the distance.\"I forgot.\"  ...     Sports\n",
              "192155  It is the Olympic men's figure skating. Out comes the Russian competitor, he skates around to some classical music in a slightly dull costume, performs some excellent leaps but without any great artistic feel for the music.   The Judges' scores read: Britain 5.8: Russia 5.9: United States 5.5: Ireland 6.0   Next comes the American competitor in a sparkling stars and stripes costume, skating to some rock and roll music. He gets the crowd clapping, but is not technically as good as the Russian. He slightly misses landing a triple Salchow and loses the center during a spin. But, artistically, it is a more satisfying performance.   The Judges' scores read: Britain 5.8: Russia 5.5: United States 5.9: Ireland 6.0   Finally out comes the Irish competitor wearing a tatty old donkey jacket, wit...  ...     Sports\n",
              "...                                                                                                                                                                                                                                                                                                                                                                                                                                                                                                                                                                                                                                                                                                                                                                                                                                 ...  ...        ...\n",
              "204481                                                                                                                                                                                                                                                                                                                                                                                                                                                                                                                                                                                        Mik:Darn it! There's only 2 chips in my bowl.Damn you,chips!  Mak: Aargh! you made me so angry I am gonna punch them!    Mak punches the chips.    Mik: WHOAH! you made 2 big chips into 20 small ones!  Mak: I AM JESUS OF THE DORITOS!!  ...  Religious\n",
              "204489                                                                                                                                                                                                                                                                                                                                                                                                                                                              Little Katie was at Sunday school one day. The teacher asked the class \"Who is someone in your life that worships God by always speaking His name?\"      Little Katie raised her hand and said \"The fifth grade teacher at my school! Every time we pass by her room on the way to art I hear her say \"I swear to God I have the worst behaved class in the world!\"  ...  Religious\n",
              "204491                                                                                                                                                                                                                                                                                                                                                                                                                                                      Billy was walking in a shopping center with his mom, and suddenly she stopped to pick up a penny. When she reached out for it, he saw armpit hair. Frightened, he said, \"You're not my mom! I'm calling the police.\" The man pulled off his mask and said, \"Okay, you got me. But tell me one thing. How did you know I wasn't your mom?\"    \"Because my mom's not Jewish.\"  ...  Religious\n",
              "204494                                                                                                                                                                                                                                                                                                                                                                                                                                                                                                                                                                                                                                                                                    So I asked a religious truck driver what his CB handle is.   His answer: \"My handle's 'Messiah'.\"   (Get it? Sounds like \"Handel's Messiah.\")  ...  Religious\n",
              "204539  Me: \"That will be 17.50, please.\"    Customer: \"Are you a Christian, dear?\"    Me: \"Why do you ask?\"    Customer: \"Are you?\"    Me: \"Well, no. Why do you want to know?\"    Customer: \"Oh. I would like to be helped by someone else, please.\"    Manager: \"Good morning ma'am, I hear you've been having a problem with the clerk?\"    Customer: \"Oh, she didn't make any trouble, it's just that I don't want my money to be handled by someone not of the faith. You should be careful, she'll probably nick from the till when you're not looking.\"    Manager: \"You're right, ma'am, I shall definitely have to reprimand her.\"    Me: *surprised* \"What for?\"    Manager: \"For failing to notice that the lady was not planning on paying for the three Mars bars and the map of Europe she must have put in her bag w...  ...  Religious\n",
              "\n",
              "[687 rows x 3 columns]"
            ]
          },
          "metadata": {
            "tags": []
          },
          "execution_count": 14
        }
      ]
    },
    {
      "cell_type": "code",
      "metadata": {
        "colab": {
          "base_uri": "https://localhost:8080/"
        },
        "id": "Z2SZFn81zRID",
        "outputId": "abb8d4b9-f909-455e-bfe4-13e733f55682"
      },
      "source": [
        "sample.text.to_list()"
      ],
      "execution_count": null,
      "outputs": [
        {
          "output_type": "execute_result",
          "data": {
            "text/plain": [
              "['Yo mama so dumb she burnt down the house using a cd burner',\n",
              " '10 Yo Mama got so fat when she jump in the air, she got stuck.9 Yo Mama is soo  fat when she trip and fall she made the Grand Caryon.8 Yo Mama is soo fat when she step on the scale said \"Out of Order.\"7 Yo Mama is soo fat when she wore a red rain jacket, everyone yelled \"Hey Kool-Ade!\"6 Yo Mama is soo fat when she bungee jump she broke the bridge in half!5 Yo Mama is soo fat she wears a V.C.R. as a pager.4 Yo Mama is soo fat that the city gave her own zip code.3 Yo Mama is soo fat everyone at the baseball sadtium sat on her.2 Yo Mama is soo fat when she drop you off at school, she got a ticket for littering.1 Yo Mama is soo fat takes you a five mile walk around her.',\n",
              " 'A man went to a doctor, and said he wanted to be able to get a job at the local Post Office, but unfortunately he was too smart. The doctor asked him his IQ, and when he gave a three-digit reply, the doctor told him that the procedure would have to involve the removal of over half of his brain.  The man insisted, and since the doctor just happened to have a brand new laser device which could zap just the right portions of brain tissue, the operation was planned.  The laser was hooked up to a computer which could monitor the man\\'s declining IQ on a nice bright LED display.  The doctor threw the switch and the numbers began ticking off ... 95, 94, 93, ...  Suddenly the phone rang.  It was the doctor\\'s wife.  They gabbed for a few minutes, the doctor forgetting completely about his patient.  When he hung up, he suddenly realized, and ran into the operating room, only to see the meter tick down ...  6, 5, 4, ...  He ran to the machine and threw the on/off switch, just as the laser was about to wipe out the last remnant of brain.  \"Holy moley!\" exclaimed the doctor, \"What have I done?  Speak to me. Say anything!\"  The man looked at him and said, \"I, George W. Bush, announce my candidacy for President of the United States...\"',\n",
              " 'An engineer, an accountant, a chemist and a bureaucrat were bragging about how smart their dogs are.The engineer called to his dog, \"T-square, do your stuff\". The dog took out paper and pen, and drew a circle, a squareand a triangle. Everyone agreed he was smart.The accountant called, \"Sliderule, do your stuff\". The pooch went to the kitchen, got a dozen cookies and made four stacks of three. Everyone was impressed.The chemist called, \"Beaker, do your stuff.\" The dog went to the fridge for a quart of milk, got a ten ounce glass and poured exactly eight ounces without spilling a drop. Everyone agreed that was great.The bureaucrat called, \"Coffee Break,do your stuff!\". Coffe Break ate the cookies, drank the milk, chewed the paper, claimed he injured his mouth doing so, filed a grievance for unsafe working conditions, put in for workers\\' compensation and took extended sick leave.']"
            ]
          },
          "metadata": {
            "tags": []
          },
          "execution_count": 58
        }
      ]
    },
    {
      "cell_type": "code",
      "metadata": {
        "id": "-hTAvVI7y4h1"
      },
      "source": [
        "sample_embs = model.encode(sample.text.to_list())"
      ],
      "execution_count": 31,
      "outputs": []
    },
    {
      "cell_type": "code",
      "metadata": {
        "colab": {
          "base_uri": "https://localhost:8080/"
        },
        "id": "NpW_CMIXPGGf",
        "outputId": "bd6239d9-5d91-4bf3-e033-166820eea9bd"
      },
      "source": [
        "sample_embs"
      ],
      "execution_count": 32,
      "outputs": [
        {
          "output_type": "execute_result",
          "data": {
            "text/plain": [
              "array([[ 0.12699974, -0.00737525, -0.05100042, ...,  0.02139805,\n",
              "        -0.16290238, -0.11126881],\n",
              "       [-0.36798954, -0.37642103,  0.12126566, ...,  0.23382455,\n",
              "        -0.05552831,  0.24960634],\n",
              "       [-0.07327329,  0.15853071,  0.08581558, ..., -0.22744384,\n",
              "        -0.11506341,  0.05415363],\n",
              "       ...,\n",
              "       [ 0.03978144,  0.30997607, -0.06981759, ...,  0.16887568,\n",
              "        -0.26433602,  0.05298478],\n",
              "       [-0.2028626 ,  0.17286932, -0.3297061 , ...,  0.01709026,\n",
              "         0.10450532,  0.15073754],\n",
              "       [-0.28460032,  0.19522893, -0.02801261, ...,  0.18380442,\n",
              "        -0.11625353, -0.09927955]], dtype=float32)"
            ]
          },
          "metadata": {
            "tags": []
          },
          "execution_count": 32
        }
      ]
    },
    {
      "cell_type": "code",
      "metadata": {
        "id": "3-BMMRbuzgPu"
      },
      "source": [
        "sample_texts = sample.text.to_list()"
      ],
      "execution_count": 19,
      "outputs": []
    },
    {
      "cell_type": "code",
      "metadata": {
        "colab": {
          "base_uri": "https://localhost:8080/"
        },
        "id": "9ggbp5Oizv9c",
        "outputId": "70515359-640b-4ec1-92d8-ca010dfd554d"
      },
      "source": [
        "len(sample_embs[0])"
      ],
      "execution_count": 17,
      "outputs": [
        {
          "output_type": "execute_result",
          "data": {
            "text/plain": [
              "768"
            ]
          },
          "metadata": {
            "tags": []
          },
          "execution_count": 17
        }
      ]
    },
    {
      "cell_type": "code",
      "metadata": {
        "colab": {
          "base_uri": "https://localhost:8080/"
        },
        "id": "VW87bSYb1Qtj",
        "outputId": "0a26dc69-0dee-4529-f943-abc02aaaea7f"
      },
      "source": [
        "#Compute cosine-similarities for each sentence with each other sentence\r\n",
        "cosine_scores = util.pytorch_cos_sim(sample_embs, sample_embs)\r\n",
        "\r\n",
        "#Find the pairs with the highest cosine similarity scores\r\n",
        "pairs = []\r\n",
        "for i in range(len(cosine_scores)-1):\r\n",
        "    for j in range(i+1, len(cosine_scores)):\r\n",
        "        pairs.append({'index': [i, j], 'score': cosine_scores[i][j]})\r\n",
        "\r\n",
        "#Sort scores in decreasing order\r\n",
        "pairs = sorted(pairs, key=lambda x: x['score'], reverse=True)\r\n",
        "\r\n",
        "for pair in pairs[0:10]:\r\n",
        "    i, j = pair['index']\r\n",
        "    print(\"{} \\t\\t {} \\t\\t Score: {:.4f}\".format(sample_texts[i][:30], sample_texts[j][:30], pair['score']))"
      ],
      "execution_count": 20,
      "outputs": [
        {
          "output_type": "stream",
          "text": [
            "One Sunday a pastor asked his  \t\t One Sunday a pastor asked his  \t\t Score: 0.9983\n",
            "A pious man, who had reached t \t\t A pious man, who had reached t \t\t Score: 0.9888\n",
            "One morning a man came into th \t\t One morning a man came into th \t\t Score: 0.9887\n",
            "Two priests died at the same t \t\t Two priests died at the same t \t\t Score: 0.9846\n",
            "One day Jesus was out for a wa \t\t One day Jesus was out for a wa \t\t Score: 0.9842\n",
            "John Smith was the only Protes \t\t John Smith was the only Protes \t\t Score: 0.9820\n",
            "Three Pastors from the south w \t\t Three Pastors in the south wer \t\t Score: 0.9818\n",
            "It is the Olympic men's figure \t\t It is the Olympic men's figure \t\t Score: 0.9771\n",
            "A blonde was telling a priest  \t\t A blonde was telling her pries \t\t Score: 0.9740\n",
            "After a few days on the new Ea \t\t After a few days, the Lord cal \t\t Score: 0.9679\n"
          ],
          "name": "stdout"
        }
      ]
    },
    {
      "cell_type": "code",
      "metadata": {
        "colab": {
          "base_uri": "https://localhost:8080/"
        },
        "id": "cXrOEAD40Ltl",
        "outputId": "6a27493a-59a1-46f6-8d55-1f8a0fd966b6"
      },
      "source": [
        "df.info()"
      ],
      "execution_count": null,
      "outputs": [
        {
          "output_type": "stream",
          "text": [
            "<class 'pandas.core.frame.DataFrame'>\n",
            "RangeIndex: 204542 entries, 0 to 204541\n",
            "Data columns (total 3 columns):\n",
            " #   Column    Non-Null Count   Dtype  \n",
            "---  ------    --------------   -----  \n",
            " 0   text      204541 non-null  object \n",
            " 1   score     194531 non-null  float64\n",
            " 2   category  13133 non-null   object \n",
            "dtypes: float64(1), object(2)\n",
            "memory usage: 4.7+ MB\n"
          ],
          "name": "stdout"
        }
      ]
    },
    {
      "cell_type": "code",
      "metadata": {
        "id": "woxfG_7f0kO5"
      },
      "source": [
        "df = df.dropna(subset=['text'])"
      ],
      "execution_count": null,
      "outputs": []
    },
    {
      "cell_type": "code",
      "metadata": {
        "colab": {
          "base_uri": "https://localhost:8080/"
        },
        "id": "WN060mlw0yfH",
        "outputId": "a2091f78-44e2-4143-e23c-296a6e96cf3f"
      },
      "source": [
        "df.shape"
      ],
      "execution_count": null,
      "outputs": [
        {
          "output_type": "execute_result",
          "data": {
            "text/plain": [
              "(204541, 3)"
            ]
          },
          "metadata": {
            "tags": []
          },
          "execution_count": 28
        }
      ]
    },
    {
      "cell_type": "code",
      "metadata": {
        "id": "mVY3PCpdzy9j"
      },
      "source": [
        "texts = df.text.to_list()"
      ],
      "execution_count": null,
      "outputs": []
    },
    {
      "cell_type": "code",
      "metadata": {
        "colab": {
          "base_uri": "https://localhost:8080/"
        },
        "id": "fL_XoRPJ0CQ-",
        "outputId": "f70cf48e-6225-4f82-fdf2-86a1f16e6a75"
      },
      "source": [
        "%%time\r\n",
        "embs = model.encode(texts)"
      ],
      "execution_count": null,
      "outputs": [
        {
          "output_type": "stream",
          "text": [
            "Token indices sequence length is longer than the specified maximum sequence length for this model (569 > 512). Running this sequence through the model will result in indexing errors\n"
          ],
          "name": "stderr"
        },
        {
          "output_type": "stream",
          "text": [
            "CPU times: user 4min 36s, sys: 2min 19s, total: 6min 56s\n",
            "Wall time: 6min 56s\n"
          ],
          "name": "stdout"
        }
      ]
    },
    {
      "cell_type": "code",
      "metadata": {
        "id": "OXDS10j84t6u"
      },
      "source": [
        "def plt_dists(dists, labels, dims=2, title=\"\"):\r\n",
        "  '''\r\n",
        "  Plot distances using MDS in 2D/3D \r\n",
        "  dists: precomputed distance matrix\r\n",
        "  labels: labels to display on the plot\r\n",
        "  dims: 2/3 for 2 or 3 dimensional plot, defaults to 2 for any other value passed\r\n",
        "  words_of_interest: list of words to highlight with a different color\r\n",
        "  title: title for the plot\r\n",
        "  '''\r\n",
        "  cnt_dict = dict()\r\n",
        "  color = list()\r\n",
        "\r\n",
        "  labels_dict = {label: idx for idx, label in enumerate(labels.unique())}\r\n",
        "  # TODO: increase limit and add new colors if needed\r\n",
        "  if len(labels_dict.keys()) > 10:\r\n",
        "    return\r\n",
        "\r\n",
        "  #separate colors for words that are in words_of_interest vs other\r\n",
        "  for label in labels:     \r\n",
        "      color.append(labels_dict[label])\r\n",
        "\r\n",
        "  #https://community.plotly.com/t/plotly-colours-list/11730/6\r\n",
        "  #colorscale = [[0, 'darkcyan'], [1, 'white']]\r\n",
        "  colorscale = ['#636EFA', '#EF553B', '#00CC96', '#AB63FA', '#FFA15A', '#19D3F3', '#FF6692', '#B6E880', '#FF97FF', '#FECB52']\r\n",
        "\r\n",
        "  #dists is precomputed using cosine similarity and passed\r\n",
        "  #calculate MDS with number of dims passed\r\n",
        "  mds = manifold.MDS(n_components=dims, dissimilarity=\"precomputed\", random_state=60, max_iter=90000)\r\n",
        "  results = mds.fit(dists)\r\n",
        "\r\n",
        "  #get coodinates for each point\r\n",
        "  coords = results.embedding_\r\n",
        "\r\n",
        "  #plot\r\n",
        "  if dims == 3:\r\n",
        "    fig = go.Figure(data=[go.Scatter3d(\r\n",
        "        x=coords[:, 0],\r\n",
        "        y=coords[:, 1],\r\n",
        "        z=coords[:, 2],\r\n",
        "        mode='markers',\r\n",
        "        textposition=\"top center\",\r\n",
        "        text=labels,\r\n",
        "        marker=dict(\r\n",
        "            size=10,\r\n",
        "            color=color,\r\n",
        "            colorscale=colorscale,\r\n",
        "            opacity=0.8,\r\n",
        "            \r\n",
        "        )\r\n",
        "    )])\r\n",
        "  else:\r\n",
        "    fig = go.Figure(data=[go.Scatter(\r\n",
        "        x=coords[:, 0],\r\n",
        "        y=coords[:, 1],\r\n",
        "        mode='markers', #'markers+text'\r\n",
        "        text=labels.values,\r\n",
        "        textposition=\"top center\",\r\n",
        "        marker=dict(\r\n",
        "            size=12,\r\n",
        "            color=color,\r\n",
        "            colorscale=colorscale,\r\n",
        "            opacity=0.8,\r\n",
        "            \r\n",
        "        )\r\n",
        "    )])\r\n",
        "\r\n",
        "  fig.update_layout(template=\"plotly_dark\")\r\n",
        "  if title!=\"\":\r\n",
        "    fig.update_layout(title_text=title)\r\n",
        "  fig.show()"
      ],
      "execution_count": 68,
      "outputs": []
    },
    {
      "cell_type": "code",
      "metadata": {
        "id": "AsQgdQZnKSxO"
      },
      "source": [
        "def eval_vecs(input_vectors, sent_labels, viz_dims=2):\r\n",
        "  '''\r\n",
        "  function to get a vectors for each word in each sentence, add the sentence number to the end of each word\r\n",
        "  calculate cosine distance between each pair of words and then pass it to the visualization function\r\n",
        "\r\n",
        "  inputs:\r\n",
        "  input_vectors: \r\n",
        "  sent_labels: \r\n",
        "  viz_dims: 2/3 for 2D or 3D plot\r\n",
        "  '''\r\n",
        "\r\n",
        "  #call the plot function on the cosine distance matrix\r\n",
        "  plt_dists(cosine_distances(input_vectors), labels=sent_labels, dims=viz_dims, title='Joke embeddings')"
      ],
      "execution_count": 48,
      "outputs": []
    },
    {
      "cell_type": "code",
      "metadata": {
        "colab": {
          "base_uri": "https://localhost:8080/",
          "height": 542
        },
        "id": "ZcVMOu12MySx",
        "outputId": "dc2ecbbc-7150-43ed-bf45-a501b64764f6"
      },
      "source": [
        "eval_vecs(sample_embs, sample['category'], viz_dims=2)"
      ],
      "execution_count": 69,
      "outputs": [
        {
          "output_type": "display_data",
          "data": {
            "text/html": [
              "<html>\n",
              "<head><meta charset=\"utf-8\" /></head>\n",
              "<body>\n",
              "    <div>            <script src=\"https://cdnjs.cloudflare.com/ajax/libs/mathjax/2.7.5/MathJax.js?config=TeX-AMS-MML_SVG\"></script><script type=\"text/javascript\">if (window.MathJax) {MathJax.Hub.Config({SVG: {font: \"STIX-Web\"}});}</script>                <script type=\"text/javascript\">window.PlotlyConfig = {MathJaxConfig: 'local'};</script>\n",
              "        <script src=\"https://cdn.plot.ly/plotly-latest.min.js\"></script>                <div id=\"744e29c5-8f02-4ae6-8114-7375c62283c7\" class=\"plotly-graph-div\" style=\"height:525px; width:100%;\"></div>            <script type=\"text/javascript\">                                    window.PLOTLYENV=window.PLOTLYENV || {};                                    if (document.getElementById(\"744e29c5-8f02-4ae6-8114-7375c62283c7\")) {                    Plotly.newPlot(                        \"744e29c5-8f02-4ae6-8114-7375c62283c7\",                        [{\"marker\": {\"color\": [0, 0, 0, 0, 0, 0, 0, 0, 0, 0, 0, 0, 0, 0, 0, 0, 0, 0, 0, 0, 0, 0, 0, 0, 0, 0, 0, 0, 0, 0, 0, 0, 0, 0, 0, 0, 0, 0, 0, 0, 0, 0, 0, 0, 0, 0, 0, 0, 0, 0, 0, 0, 0, 0, 0, 0, 0, 0, 0, 0, 0, 0, 0, 0, 0, 0, 0, 0, 0, 0, 0, 0, 0, 0, 0, 0, 0, 0, 0, 0, 0, 0, 0, 0, 0, 0, 0, 0, 0, 0, 0, 0, 0, 0, 0, 0, 0, 0, 0, 0, 0, 0, 0, 0, 0, 0, 0, 0, 0, 0, 0, 0, 0, 0, 0, 0, 0, 0, 0, 0, 0, 0, 0, 0, 0, 0, 0, 0, 0, 0, 0, 0, 0, 0, 0, 0, 0, 0, 0, 0, 0, 0, 0, 0, 0, 0, 0, 0, 0, 0, 0, 0, 0, 0, 0, 0, 0, 0, 0, 0, 0, 0, 0, 0, 0, 0, 0, 0, 0, 0, 0, 1, 1, 1, 1, 1, 1, 1, 1, 1, 1, 1, 1, 1, 1, 1, 1, 1, 1, 1, 1, 1, 1, 1, 1, 1, 1, 1, 1, 1, 1, 1, 1, 1, 1, 1, 1, 1, 1, 1, 1, 1, 1, 1, 1, 1, 1, 1, 1, 1, 1, 1, 1, 1, 1, 1, 1, 1, 1, 1, 1, 1, 1, 1, 1, 1, 1, 1, 1, 1, 1, 1, 1, 1, 1, 1, 1, 1, 1, 1, 1, 1, 1, 1, 1, 1, 1, 1, 1, 1, 1, 1, 1, 1, 1, 1, 1, 1, 1, 1, 1, 1, 1, 1, 1, 1, 1, 1, 1, 1, 1, 1, 1, 1, 1, 1, 1, 1, 1, 1, 1, 1, 1, 1, 1, 1, 1, 1, 1, 1, 1, 1, 1, 1, 1, 1, 1, 1, 1, 1, 1, 1, 1, 1, 1, 1, 1, 1, 1, 1, 1, 1, 1, 1, 1, 1, 1, 1, 1, 1, 1, 1, 1, 1, 1, 1, 1, 1, 1, 1, 1, 1, 1, 1, 1, 1, 1, 1, 1, 1, 1, 1, 1, 1, 1, 1, 1, 1, 1, 1, 1, 1, 1, 1, 1, 1, 1, 1, 1, 1, 1, 1, 1, 1, 1, 1, 1, 1, 1, 1, 1, 1, 1, 1, 1, 1, 1, 1, 1, 1, 1, 1, 1, 1, 1, 1, 1, 1, 1, 1, 1, 1, 1, 1, 1, 1, 1, 1, 1, 1, 1, 1, 1, 1, 1, 1, 1, 1, 1, 1, 1, 1, 1, 1, 1, 1, 1, 1, 1, 1, 1, 1, 1, 1, 1, 1, 1, 1, 1, 1, 1, 1, 1, 1, 1, 1, 1, 1, 1, 1, 1, 1, 1, 1, 1, 1, 1, 1, 1, 1, 1, 1, 1, 1, 1, 1, 1, 1, 1, 1, 1, 1, 1, 1, 1, 1, 1, 1, 1, 1, 1, 1, 1, 1, 1, 1, 1, 1, 1, 1, 1, 1, 1, 1, 1, 1, 1, 1, 1, 1, 1, 1, 1, 1, 1, 1, 1, 1, 1, 1, 1, 1, 1, 1, 1, 1, 1, 1, 1, 1, 1, 1, 1, 1, 1, 1, 1, 1, 1, 1, 1, 1, 1, 1, 1, 1, 1, 1, 1, 1, 1, 1, 1, 1, 1, 1, 1, 1, 1, 1, 1, 1, 1, 1, 1, 1, 1, 1, 1, 1, 1, 1, 1, 1, 1, 1, 1, 1, 1, 1, 1, 1, 1, 1, 1, 1, 1, 1, 1, 1, 1, 1, 1, 1, 1, 1, 1, 1, 1, 1, 1, 1, 1, 1, 1, 1, 1, 1, 1, 1, 1, 1, 1, 1, 1, 1, 1, 1, 1, 1, 1, 1, 1, 1, 1, 1, 1, 1, 1, 1, 1, 1, 1, 1, 1, 1, 1, 1, 1, 1, 1, 1, 1, 1, 1, 1, 1, 1, 1, 1, 1, 1, 1, 1, 1, 1, 1, 1, 1, 1, 1, 1, 1, 1, 1, 1, 1, 1, 1, 1, 1, 1, 1, 1, 1, 1, 1, 1, 1, 1, 1, 1, 1, 1, 1, 1, 1, 1, 1, 1, 1, 1, 1, 1, 1, 1, 1], \"colorscale\": [[0.0, \"#636EFA\"], [0.1111111111111111, \"#EF553B\"], [0.2222222222222222, \"#00CC96\"], [0.3333333333333333, \"#AB63FA\"], [0.4444444444444444, \"#FFA15A\"], [0.5555555555555556, \"#19D3F3\"], [0.6666666666666666, \"#FF6692\"], [0.7777777777777778, \"#B6E880\"], [0.8888888888888888, \"#FF97FF\"], [1.0, \"#FECB52\"]], \"opacity\": 0.8, \"size\": 12}, \"mode\": \"markers\", \"text\": [\"Sports\", \"Sports\", \"Sports\", \"Sports\", \"Sports\", \"Sports\", \"Sports\", \"Sports\", \"Sports\", \"Sports\", \"Sports\", \"Sports\", \"Sports\", \"Sports\", \"Sports\", \"Sports\", \"Sports\", \"Sports\", \"Sports\", \"Sports\", \"Sports\", \"Sports\", \"Sports\", \"Sports\", \"Sports\", \"Sports\", \"Sports\", \"Sports\", \"Sports\", \"Sports\", \"Sports\", \"Sports\", \"Sports\", \"Sports\", \"Sports\", \"Sports\", \"Sports\", \"Sports\", \"Sports\", \"Sports\", \"Sports\", \"Sports\", \"Sports\", \"Sports\", \"Sports\", \"Sports\", \"Sports\", \"Sports\", \"Sports\", \"Sports\", \"Sports\", \"Sports\", \"Sports\", \"Sports\", \"Sports\", \"Sports\", \"Sports\", \"Sports\", \"Sports\", \"Sports\", \"Sports\", \"Sports\", \"Sports\", \"Sports\", \"Sports\", \"Sports\", \"Sports\", \"Sports\", \"Sports\", \"Sports\", \"Sports\", \"Sports\", \"Sports\", \"Sports\", \"Sports\", \"Sports\", \"Sports\", \"Sports\", \"Sports\", \"Sports\", \"Sports\", \"Sports\", \"Sports\", \"Sports\", \"Sports\", \"Sports\", \"Sports\", \"Sports\", \"Sports\", \"Sports\", \"Sports\", \"Sports\", \"Sports\", \"Sports\", \"Sports\", \"Sports\", \"Sports\", \"Sports\", \"Sports\", \"Sports\", \"Sports\", \"Sports\", \"Sports\", \"Sports\", \"Sports\", \"Sports\", \"Sports\", \"Sports\", \"Sports\", \"Sports\", \"Sports\", \"Sports\", \"Sports\", \"Sports\", \"Sports\", \"Sports\", \"Sports\", \"Sports\", \"Sports\", \"Sports\", \"Sports\", \"Sports\", \"Sports\", \"Sports\", \"Sports\", \"Sports\", \"Sports\", \"Sports\", \"Sports\", \"Sports\", \"Sports\", \"Sports\", \"Sports\", \"Sports\", \"Sports\", \"Sports\", \"Sports\", \"Sports\", \"Sports\", \"Sports\", \"Sports\", \"Sports\", \"Sports\", \"Sports\", \"Sports\", \"Sports\", \"Sports\", \"Sports\", \"Sports\", \"Sports\", \"Sports\", \"Sports\", \"Sports\", \"Sports\", \"Sports\", \"Sports\", \"Sports\", \"Sports\", \"Sports\", \"Sports\", \"Sports\", \"Sports\", \"Sports\", \"Sports\", \"Sports\", \"Sports\", \"Sports\", \"Sports\", \"Sports\", \"Sports\", \"Sports\", \"Religious\", \"Religious\", \"Religious\", \"Religious\", \"Religious\", \"Religious\", \"Religious\", \"Religious\", \"Religious\", \"Religious\", \"Religious\", \"Religious\", \"Religious\", \"Religious\", \"Religious\", \"Religious\", \"Religious\", \"Religious\", \"Religious\", \"Religious\", \"Religious\", \"Religious\", \"Religious\", \"Religious\", \"Religious\", \"Religious\", \"Religious\", \"Religious\", \"Religious\", \"Religious\", \"Religious\", \"Religious\", \"Religious\", \"Religious\", \"Religious\", \"Religious\", \"Religious\", \"Religious\", \"Religious\", \"Religious\", \"Religious\", \"Religious\", \"Religious\", \"Religious\", \"Religious\", \"Religious\", \"Religious\", \"Religious\", \"Religious\", \"Religious\", \"Religious\", \"Religious\", \"Religious\", \"Religious\", \"Religious\", \"Religious\", \"Religious\", \"Religious\", \"Religious\", \"Religious\", \"Religious\", \"Religious\", \"Religious\", \"Religious\", \"Religious\", \"Religious\", \"Religious\", \"Religious\", \"Religious\", \"Religious\", \"Religious\", \"Religious\", \"Religious\", \"Religious\", \"Religious\", \"Religious\", \"Religious\", \"Religious\", \"Religious\", \"Religious\", \"Religious\", \"Religious\", \"Religious\", \"Religious\", \"Religious\", \"Religious\", \"Religious\", \"Religious\", \"Religious\", \"Religious\", \"Religious\", \"Religious\", \"Religious\", \"Religious\", \"Religious\", \"Religious\", \"Religious\", \"Religious\", \"Religious\", \"Religious\", \"Religious\", \"Religious\", \"Religious\", \"Religious\", \"Religious\", \"Religious\", \"Religious\", \"Religious\", \"Religious\", \"Religious\", \"Religious\", \"Religious\", \"Religious\", \"Religious\", \"Religious\", \"Religious\", \"Religious\", \"Religious\", \"Religious\", \"Religious\", \"Religious\", \"Religious\", \"Religious\", \"Religious\", \"Religious\", \"Religious\", \"Religious\", \"Religious\", \"Religious\", \"Religious\", \"Religious\", \"Religious\", \"Religious\", \"Religious\", \"Religious\", \"Religious\", \"Religious\", \"Religious\", \"Religious\", \"Religious\", \"Religious\", \"Religious\", \"Religious\", \"Religious\", \"Religious\", \"Religious\", \"Religious\", \"Religious\", \"Religious\", \"Religious\", \"Religious\", \"Religious\", \"Religious\", \"Religious\", \"Religious\", \"Religious\", \"Religious\", \"Religious\", \"Religious\", \"Religious\", \"Religious\", \"Religious\", \"Religious\", \"Religious\", \"Religious\", \"Religious\", \"Religious\", \"Religious\", \"Religious\", \"Religious\", \"Religious\", \"Religious\", \"Religious\", \"Religious\", \"Religious\", \"Religious\", \"Religious\", \"Religious\", \"Religious\", \"Religious\", \"Religious\", \"Religious\", \"Religious\", \"Religious\", \"Religious\", \"Religious\", \"Religious\", \"Religious\", \"Religious\", \"Religious\", \"Religious\", \"Religious\", \"Religious\", \"Religious\", \"Religious\", \"Religious\", \"Religious\", \"Religious\", \"Religious\", \"Religious\", \"Religious\", \"Religious\", \"Religious\", \"Religious\", \"Religious\", \"Religious\", \"Religious\", \"Religious\", \"Religious\", \"Religious\", \"Religious\", \"Religious\", \"Religious\", \"Religious\", \"Religious\", \"Religious\", \"Religious\", \"Religious\", \"Religious\", \"Religious\", \"Religious\", \"Religious\", \"Religious\", \"Religious\", \"Religious\", \"Religious\", \"Religious\", \"Religious\", \"Religious\", \"Religious\", \"Religious\", \"Religious\", \"Religious\", \"Religious\", \"Religious\", \"Religious\", \"Religious\", \"Religious\", \"Religious\", \"Religious\", \"Religious\", \"Religious\", \"Religious\", \"Religious\", \"Religious\", \"Religious\", \"Religious\", \"Religious\", \"Religious\", \"Religious\", \"Religious\", \"Religious\", \"Religious\", \"Religious\", \"Religious\", \"Religious\", \"Religious\", \"Religious\", \"Religious\", \"Religious\", \"Religious\", \"Religious\", \"Religious\", \"Religious\", \"Religious\", \"Religious\", \"Religious\", \"Religious\", \"Religious\", \"Religious\", \"Religious\", \"Religious\", \"Religious\", \"Religious\", \"Religious\", \"Religious\", \"Religious\", \"Religious\", \"Religious\", \"Religious\", \"Religious\", \"Religious\", \"Religious\", \"Religious\", \"Religious\", \"Religious\", \"Religious\", \"Religious\", \"Religious\", \"Religious\", \"Religious\", \"Religious\", \"Religious\", \"Religious\", \"Religious\", \"Religious\", \"Religious\", \"Religious\", \"Religious\", \"Religious\", \"Religious\", \"Religious\", \"Religious\", \"Religious\", \"Religious\", \"Religious\", \"Religious\", \"Religious\", \"Religious\", \"Religious\", \"Religious\", \"Religious\", \"Religious\", \"Religious\", \"Religious\", \"Religious\", \"Religious\", \"Religious\", \"Religious\", \"Religious\", \"Religious\", \"Religious\", \"Religious\", \"Religious\", \"Religious\", \"Religious\", \"Religious\", \"Religious\", \"Religious\", \"Religious\", \"Religious\", \"Religious\", \"Religious\", \"Religious\", \"Religious\", \"Religious\", \"Religious\", \"Religious\", \"Religious\", \"Religious\", \"Religious\", \"Religious\", \"Religious\", \"Religious\", \"Religious\", \"Religious\", \"Religious\", \"Religious\", \"Religious\", \"Religious\", \"Religious\", \"Religious\", \"Religious\", \"Religious\", \"Religious\", \"Religious\", \"Religious\", \"Religious\", \"Religious\", \"Religious\", \"Religious\", \"Religious\", \"Religious\", \"Religious\", \"Religious\", \"Religious\", \"Religious\", \"Religious\", \"Religious\", \"Religious\", \"Religious\", \"Religious\", \"Religious\", \"Religious\", \"Religious\", \"Religious\", \"Religious\", \"Religious\", \"Religious\", \"Religious\", \"Religious\", \"Religious\", \"Religious\", \"Religious\", \"Religious\", \"Religious\", \"Religious\", \"Religious\", \"Religious\", \"Religious\", \"Religious\", \"Religious\", \"Religious\", \"Religious\", \"Religious\", \"Religious\", \"Religious\", \"Religious\", \"Religious\", \"Religious\", \"Religious\", \"Religious\", \"Religious\", \"Religious\", \"Religious\", \"Religious\", \"Religious\", \"Religious\", \"Religious\", \"Religious\", \"Religious\", \"Religious\", \"Religious\", \"Religious\", \"Religious\", \"Religious\", \"Religious\", \"Religious\", \"Religious\", \"Religious\", \"Religious\", \"Religious\", \"Religious\", \"Religious\", \"Religious\", \"Religious\", \"Religious\", \"Religious\", \"Religious\", \"Religious\", \"Religious\", \"Religious\", \"Religious\", \"Religious\", \"Religious\", \"Religious\", \"Religious\", \"Religious\", \"Religious\", \"Religious\", \"Religious\", \"Religious\", \"Religious\", \"Religious\", \"Religious\", \"Religious\", \"Religious\", \"Religious\", \"Religious\", \"Religious\", \"Religious\", \"Religious\", \"Religious\", \"Religious\", \"Religious\", \"Religious\", \"Religious\", \"Religious\", \"Religious\", \"Religious\", \"Religious\", \"Religious\", \"Religious\", \"Religious\", \"Religious\", \"Religious\", \"Religious\", \"Religious\", \"Religious\", \"Religious\", \"Religious\", \"Religious\", \"Religious\", \"Religious\", \"Religious\", \"Religious\", \"Religious\", \"Religious\", \"Religious\", \"Religious\", \"Religious\", \"Religious\", \"Religious\", \"Religious\", \"Religious\", \"Religious\", \"Religious\", \"Religious\", \"Religious\", \"Religious\", \"Religious\", \"Religious\", \"Religious\", \"Religious\", \"Religious\", \"Religious\", \"Religious\", \"Religious\", \"Religious\", \"Religious\", \"Religious\", \"Religious\", \"Religious\", \"Religious\", \"Religious\", \"Religious\", \"Religious\", \"Religious\", \"Religious\", \"Religious\", \"Religious\", \"Religious\", \"Religious\", \"Religious\", \"Religious\", \"Religious\"], \"textposition\": \"top center\", \"type\": \"scatter\", \"x\": [-0.6342630587761562, -0.09116855125667687, -0.5094776364084701, -0.5096304064597906, -0.5247711260810892, -0.6146006063594782, -0.4362080598351869, -0.6133142803360078, -0.373052619690037, -0.24185937599672286, -0.11677184603199757, -0.5498342359710631, -0.38270042301950435, -0.7117239765691675, -0.7315946033224586, -0.3383118870355848, -0.638086659950387, -0.15500328294313426, -0.5389169594656216, -0.2598787744819601, -0.5063489632113682, -0.17697392060886036, -0.4776313480830942, -0.5410421831342298, -0.6827317904485052, -0.2272559402107628, -0.4793715943166045, -0.5366067552162082, -0.44857256668701795, 0.06146249725631147, -0.5547880180388822, -0.29186101898679395, -0.5897565866978115, -0.5934214711710899, -0.52794286194921, -0.41620616328643434, -0.5827216047900783, -0.7604093751276443, -0.6940916570276126, -0.3491546922106306, 0.04849817639681884, -0.5313487500568024, -0.5143151557587797, -0.6366219622264487, -0.5425442319044582, -0.2188810978668794, -0.5221621282218114, -0.5084562523144911, -0.5776327156997776, -0.6454352306585792, -0.7551305603739813, -0.1734992305961584, -0.6066536202964585, -0.0074947593851708155, -0.46011424736900336, -0.6699479197686387, -0.5177291082370672, -0.3361001828600388, -0.1765132798322133, -0.1167262156725547, -0.4328551993576454, -0.4611038134843831, -0.5043939205759534, -0.5836787488767485, -0.3464306353438965, -0.4357664769095421, -0.5990481370313357, -0.37300906099849107, -0.580466438620206, -0.6533367907180322, -0.17761832077886014, -0.6102937484379273, -0.37123386303944855, -0.533222237903465, -0.5693836547009485, -0.5144342091088736, -0.683410814807119, -0.28266616803803, -0.4675912818988567, -0.287052209968752, -0.3634211039403518, -0.6073106072088095, -0.5596504314703126, -0.3432880116153304, -0.029947715388002543, -0.48108865325762823, -0.669482660771524, -0.3076532385369829, -0.6257055515378864, -0.40269897381178266, -0.6524779460502632, -0.7342032791517689, -0.6797858539462637, -0.7327745088988695, -0.7061602926186547, -0.8219639970208105, -0.757324342072684, -0.7022802993386309, -0.735007923349109, -0.6179593377367089, -0.6075770421912428, -0.42858593917197474, -0.09438110794444628, -0.7623852977677923, -0.24543975318488828, -0.39261833483436587, -0.43216292607524864, -0.32393313725331924, -0.47489270909103365, -0.34987831191917135, -0.46379447486416797, -0.625971563451521, -0.17418402255913312, -0.16992218603853718, -0.42439284150267526, -0.3807959983937157, -0.44460256043539487, -0.21610153751287695, -0.580099794179117, -0.36047041362045384, -0.453270273969941, -0.43658446213407787, 0.28884897436421136, -0.6086900140878946, -0.21160023258030844, -0.6963297635686866, -0.7153410242834266, -0.541425364346958, -0.673280536089845, -0.24106684784777274, -0.5033656580915934, -0.1757146902337944, -0.42926545267967386, -0.514083635439313, 0.1903033385036046, -0.6104290384830005, -0.5041262513202299, -0.31167726134551504, -0.20570869858590773, -0.5114704086280372, -0.3870866171605725, -0.323026348711784, -0.6243610816858773, -0.4212867072285617, -0.3524091444005884, -0.4776049817271269, -0.47317549994536623, -0.31317296742541295, 0.011045058589099072, -0.27504646156628787, -0.23250440302418757, -0.22581072468210253, -0.6471211713450967, -0.3202115060865166, -0.5545804677727856, -0.538876113908618, -0.0702736477190545, -0.31023371307574227, -0.3879279444149035, -0.6143531045724205, -0.31568322623978645, -0.19505822489783717, -0.2847001436426329, -0.39943927132371476, -0.6460578653020971, -0.5313277787455828, -0.4827325453672793, -0.5151127249066406, -0.6292289659251543, -0.40611586448352993, -0.6845917412253713, 0.00743926255416219, -0.0003192228617548845, 0.28507387263379264, 0.023542519818041646, -0.2259666067599084, 0.44547687010013587, 0.11458539703415364, 0.47292659731663156, 0.5941146545595375, -0.0707199017491317, 0.535407081093985, -0.2716712813880243, -0.02986485073372747, -0.1581085085657856, -0.41131211727346595, 0.2848939050161629, -0.004918751921673061, 0.458158923904307, -0.2042125289985453, 0.41786447628687096, -0.11388632388810287, -0.18509868904335813, 0.1590433653126332, 0.5587752129425932, 0.03196610823530351, -0.1019712477249662, -0.06411962689160612, -0.4587773875810487, -0.2322807996925306, 0.1122304002736485, -0.2189893412754022, 0.6183195923848915, 0.6317575554657907, 0.2587617940518917, 0.12526313339875478, 0.4309930054998124, -0.37649495835752195, 0.10932176979389344, 0.7023404894744955, -0.15335875437359256, -0.11479715573343786, 0.7220366259186423, 0.3056910372906756, 0.5975984054236325, 0.28850567300760627, 0.4214815281833798, -0.42456529310661634, 0.05375205299321198, 0.01492495938477758, 0.49539740384144715, 0.396468118580437, -0.021405304222593277, 0.568916660313493, -0.12657716523856044, -0.11734940515886842, 0.3380785163883732, 0.1394361123938727, 0.47233856366317895, -0.3503001868411994, -0.3559485640726918, 0.27059863161826114, 0.0010986790967459918, 0.2528541399244289, 0.25719919209434317, 0.44574167104313966, -0.11436964708104899, 0.5026388657910043, 0.30645923947522363, 0.35214821099928867, 0.174121937049928, 0.3670947364549769, 0.17379802138366032, 0.1820634971050454, 0.26901114813735205, 0.26385933209283374, 0.7555231259018849, -0.08377612688916516, 0.5025469696183463, -0.07261638612361736, 0.009835669228344225, 0.2667689999053761, 0.3131200445173786, 0.23909615243222032, 0.3562123888011796, 0.23814098431931582, 0.589338796972276, 0.0685803473094958, -0.28805331499299314, 0.10426002624074766, 0.2744465983861242, 0.1866994529579897, 0.5303833729168957, -0.09711128499355817, 0.4959896705730431, -0.20434118729595446, 0.319644400665036, 0.2982000671871439, 0.049411052558200774, 0.550519170958978, -0.16880837138172383, 0.1383075734820311, -0.04156240137408333, 0.14362467765054163, 0.11008994506898676, 0.6864918894885595, 0.7351409067589626, 0.6601345315787922, 0.00024806390444787426, 0.43497747036725937, 0.5078882929292557, 0.21070213068925098, 0.013070464330769506, -0.20312383864664343, 0.0688139898458281, 0.34602786337421776, 0.3650404250013174, 0.46640954000871443, -0.309743135192515, 0.6146799131401752, -0.12513397815160845, 0.2940763122883749, 0.22524792768669116, -0.3563803412717791, -0.24891811851020387, 0.3456657149945338, 0.4059228029363895, 0.20007571128812104, 0.06366109280657496, -0.22310872911346266, 0.19849662619824873, -0.29577365870079797, 0.15772970382452148, -0.10942894207440979, 0.15739366623389991, -0.048026088102059536, 0.2178364641892696, -0.35791955944871096, -0.2365773327553384, -0.28249257789940085, 0.05090677970765822, 0.39949048125784703, 0.590069162036701, -0.6028018694147949, 0.4036315703665613, -0.04652550267278384, 0.3399910568414383, 0.23053464391786932, 0.0009680227541458288, 0.11089861817394771, -0.21859850966147873, -0.08742151002236076, 0.26842922980633643, -0.20691100241204916, -0.2716062761002753, 0.14330917308270444, -0.06645835878141995, -0.5589570956264515, -0.24931184072128532, 0.00010985773901528343, 0.17801246518150246, -0.19955833457275118, 0.3308942809174626, -0.3079183862590463, -0.2742056153366559, -0.16511551742085223, -0.32110967049752126, 0.5408689581311311, -0.17577512877445686, 0.470787713334448, -0.030256329793145288, -0.05876565087234332, 0.3208155601591961, 0.340091368356651, 0.03866609031346618, -0.12381979787881837, -0.3638401545112182, 0.7605242998230604, -0.2287522587856688, 0.023580653752982593, 0.3214086131843929, -0.06505057148866493, -0.28377271508263113, 0.08303760033132727, 0.11517175137169221, 0.1177468938104082, -0.09895557872131737, 0.2762445103084256, 0.10558842648284326, 0.25453328700701544, 0.2838727020590175, -0.20784544798404128, 0.3809810303169584, 0.30203524092830175, 0.16015053880129046, -0.13369084829291672, -0.4901867867711471, 0.05527183313132027, 0.5086207756293573, -0.01769199802810119, 0.43165058439214277, -0.16508210204054471, 0.3724690885683802, 0.2976062214176099, 0.3593262761361724, 0.6974365115581918, 0.6519681953934113, 0.47351581992007663, 0.39035488006546465, 0.4342217293920643, -0.009759548124104627, -0.2819834948351727, 0.44783840026352, 0.5500888777857579, 0.3482981225200479, 0.5798976944365153, -0.30516310023027554, 0.5746474174834177, 0.29603808558403477, 0.12780971712179112, 0.19864701299124085, 0.3831975518521052, -0.0903418173598059, 0.1604814262310065, -0.3400120064163842, 0.1902169057966157, 0.31230528512492356, -0.02195612677910389, 0.04361691630651446, 0.45852288238823413, -0.3960190192421564, 0.31782900840427625, 0.008007296122147546, 0.14379384063088835, 0.4353338565304304, 0.43352909078577084, 0.14166155511865033, 0.23396487224466225, 0.09119137822322755, 0.1667173531611882, -0.5921527550045045, 0.46149644557248287, 0.08991706600540841, 0.025335094859136, 0.20124115095207698, 0.11071817817475862, 0.2735536183656948, 0.01744254043515134, 0.15878804891448386, 0.0017325855623678845, -0.19162997190771341, 0.33748521137096055, 0.38420886871244364, 0.17202210304513738, 0.06636002968949761, 0.06755033528117278, -0.31639771484030466, 0.15586690790926028, 0.43363179785448563, 0.548548965403962, -0.335160294955876, 0.43357929042126453, 0.5993252115961605, 0.42941869089717494, 0.25677537170434106, 0.47980166724041773, 0.2944432521291634, -0.20925400957006124, 0.13060314764666936, 0.33928937350597327, 0.06559337466384944, -0.007735671390122444, 0.05131305247525939, -0.31882207700239923, 0.26174001907465216, -0.4164054612197093, 0.26130408250762055, 0.12820617339037732, 0.36742509414868973, 0.28508155586458533, 0.19523482119874416, 0.19508540822438844, 0.26732448233015155, -0.509458317398677, -0.04259906948115413, -0.2200404774973595, 0.022783025417717772, 0.42804516227142986, 0.34837284831141085, 0.5244723497053138, 0.24172960429596124, -0.14285854782567003, 0.15173682910896502, -0.17501578300297102, -0.2636962089759398, 0.17445481374915303, 0.20363381592319083, 0.35406216999293477, -0.39100384895932166, 0.12745899383051662, 0.5049169829238163, -0.31467531622825046, -0.08588850828181471, 0.6180016757454937, -0.07368136661869146, 0.08210868577075923, 0.08008861101647027, -0.23416796892722563, 0.3889511891658454, 0.38977415664028714, -0.47663646601036247, 0.31156490462594844, 0.02511356202885172, 0.5523813213781045, 0.310825457226396, 0.21995674238253027, 0.3505840052353703, 0.1484651500443816, 0.5181845429156287, 0.14054807489720386, 0.17430597503470388, 0.00947415234719112, 0.3406035309633304, 0.08727524739752356, 0.5394302300828278, 0.1515730731920945, 0.5256855504183993, -0.09328840051016095, 0.7096428475550448, -0.1534855917534798, 0.28371647183658283, 0.3344964645173945, -0.08409110495051521, 0.6441356699504273, 0.35133243210222614, -0.10517420166540489, -0.01872000925675458, 0.3781101499691516, 0.5072418908032964, 0.5298681635857698, -0.5315171842360643, 0.5394454150865071, -0.12403315765545456, -0.09233566422073719, 0.21200618562324405, -0.12622543804523711, 0.5594140677936179, 0.4718726131519687, -0.18553722091324062, 0.2288827280085472, 0.5954792609676892, -0.13450947018941553, 0.3697751168658805, 0.2513352818963178, -0.22484567586928014, 0.5230952255405642, -0.282042167786949, 0.4970608284254875, 0.2515686786681415, -0.30962159201073086, 0.12620103090895488, 0.07723462083502637, 0.3037208066522027, -0.005508961063556814, 0.6422968913309274, 0.05243952901426852, 0.48459023559098247, 0.6050760642061711, 0.40339506255161706, -0.5296176673147294, 0.050746451010074335, 0.38501621898666194, 0.11657282907237572, 0.4955465116517575, 0.30445987631970706, 0.18361122776479696, 0.5844631811795784, 0.3923762782052511, 0.17831414266674322, 0.1451933762070457, 0.3061706135778617, -0.2247845158173003, 0.34125827772163214, -0.030391175783512282, -0.027593950427875873, 0.7175519821263642, 0.6575545209025957, 0.471165697082623, -0.44622849717746266, -0.26644376266791, -0.5856022550211473, 0.42741673732973284, 0.2044343793197518, -0.22741249856666945, 0.6462475385940238, 0.4726227351860114, -0.19337997180101069, 0.3802948968872409, 0.1972408427896018, -0.4135460805488731, 0.09707774433468223, -0.3065917666731312, 0.7108486717552907, 0.09843740214295839, 0.2698299217770726, 0.014089866120315332, 0.05100157075045184, 0.29783954744933855, 0.07381211304042896, -0.09710979769095396, 0.09215260165059955, -0.20802567255308788, 0.19321989303050274, -0.11102266407753954, 0.1070517174159489, 0.5179484466718808, -0.03832602732959647, 0.17576905731748396, 0.11515985881348151, 0.031773682698797136, 0.5897878054531547, -0.6022092212189033, 0.3737672716970772, 0.22805066913375097, 0.4525517814703775, 0.3181882225790013, 0.06132068557293911, 0.30545307134731026, -0.028308150417461105, 0.5584492593761693, 0.2446823759315534, 0.29698559100423816, 0.03842723425357746, 0.3904861035203407, 0.4616938873215346, -0.0408156565915935, 0.17787513981795192, -0.20734789368175427, 0.027147166975764594, 0.693749421789628, 0.22459188405651012, -0.12827362648003185, 0.3657083966424815, -0.5196470302187156, -0.17861480749910313, 0.5783928992155378, 0.39887715115917066, -0.02122889388823442, -0.43581011747889614, 0.10139933506567249, 0.15725247014703728, 0.444412485660496, 0.08537087589709427, 0.30445720075221633, -0.12590610102818423, 0.5401054210875285, 0.5054473779344214, -0.07679396489032328, 0.03545157441926985, 0.08172473381260541, 0.23723213578591087, -0.008094091575635922, 0.020385083924276022, 0.1916653457922045, 0.27730607825881654, -0.3809711992438052, 0.464293196922435, -0.10285611303406256, 0.6549171752199805, 0.44797404771501076, -0.007028911856133429, -0.09807375554047658, 0.29306644536397486, -0.4794874043467566, 0.2272411729029147, 0.5444346134573381, 0.5928938220274732, -0.41466076145793124, 0.2433830310086126, -0.08411831918967375, 0.39378968939180503, -0.02410419255624643, 0.5181622180003447, 0.06640615909364952, 0.43659892532543254, -0.22946535771461588, 0.46080928544364175, 0.40633317309228717, 0.6084990841351662, 0.42380670636614415, 0.03898104199875396, 0.09305485474591912, -0.13550951314772772, 0.5919783215072909, -0.0796924103535295, 0.21373906005324814, 0.16244662231139695, 0.18830778694161693, 0.3987445950668245, 0.39771768319127865, 0.14536528115337666, 0.08677656368698775, 0.2528616575493033, -0.06070789992908674, -0.5487626902232798, 0.22026115230130225, 0.15896895588768103, -0.1117568890981882, 0.41063837033303047, 0.2334065921050699, -0.23512778128649403, 0.26194606161785877, -0.5425642076957627, 0.35084792259532066, 0.14812866360123866, 0.47979368206747136, 0.18069804653033553], \"y\": [0.40171338628568665, -0.5442023498896774, 0.5190813158200138, -0.029608573678920783, -0.6509682851007268, -0.3364612198418902, -0.5144793152485653, -0.050063870118632704, 0.1766158397894587, 0.6846752557764268, -0.6796711181331477, 0.11416608160488378, -0.1119312759665192, 0.30325685659353624, 0.05118042767443214, 0.6514148985888806, 0.014189530098629588, -0.5495120140547528, -0.1625506605030422, -0.5750621796559929, -0.16357308015228653, -0.488148933503026, -0.3253374324115691, 0.2783241352450614, 0.11262949598703295, -0.49881639948061385, -0.17757242654055466, -0.05499659128120574, 0.035676287096671935, -0.17735361251979842, 0.31144014488256094, 0.3894342097958734, 0.4531823422475518, -0.3767046227896404, -0.6542072476781934, 0.42213386316865453, -0.5227326804542116, -0.2735365940479688, 0.10119885230215617, -0.43846804308367004, -0.6684924325635142, 0.26598872985148037, 0.11959000438917325, -0.18164101228210452, 0.033638893159039694, -0.798301012303183, 0.06164675454287253, 0.04751191321237951, -0.21312466440746622, -0.4037046054531298, 0.21597468878030845, -0.6117592543295557, -0.14989880643489567, -0.5577724991958498, -0.022699828640399575, 0.08712166769654714, 0.18492334455561027, 0.14955614134504552, -0.2836231999981402, -0.09342517655083346, -0.322152628986329, -0.2913323828871913, -0.07383094264975704, -0.03515414366007554, -0.19855490975028953, -0.37923526427681115, 0.04734342204225836, -0.14980531487383955, 0.1305421863241575, -0.010749145430188957, -0.24032763108184532, -0.018318115541940856, -0.19141102757303047, 0.0042691262000825484, -0.18742484033318424, 0.21144845797753395, 0.33901332204379575, -0.649566434552503, -0.03644948238070435, -0.016782001689910137, -0.574383715528008, 0.1513955735126197, -0.5054053196366094, -0.2930416297583664, 0.5860521462017643, -0.24601822780302376, 0.011161382839152112, -0.00532948684190256, -0.3024652900578139, -0.3313812328092787, -0.13423130992181773, -0.1782176586315448, 0.22597796778045756, -0.2102037885330136, -0.10959145739614036, 0.026238460257425343, -0.10978151117307322, -0.25695482245219187, -0.01893966829999733, -0.0006717078222668247, 0.07691551465788077, -0.4644454880040731, -0.07592491885342388, 0.15334668350888042, -0.4239879250138818, -0.49554727210892097, 0.27070930327060383, -0.11649361883993604, -0.2535855230167794, -0.6214136976101607, 0.17378540620363966, 0.15265267853073664, -0.8098913476346586, -0.11839047898111647, -0.14329797226569832, -0.4647356744934039, 0.32542509383765256, -0.395909522403577, 0.1705225400078022, -0.38443272984026644, 0.47342777468806074, -0.4566888223891626, -0.6992191958055942, -0.09889878139168623, -0.6649329720979924, -0.13371108617331914, 0.17171802196755473, -0.3980867397273682, -0.247679820360478, -0.47333358329118563, -0.4165065862973695, 0.7533869268789595, -0.5701638273006953, -0.49963912293279683, -0.681932377633913, 0.3663707249423306, 0.026739245874418466, -0.3054636252801661, -0.7102903585908787, -0.5724827969671014, -0.3725372484773133, -0.207059548626214, -0.12352772850544567, -0.6327755521658712, -0.7000424964740444, 0.09764697963489835, -0.12532622873844348, -0.5216958557300022, -0.6908952147371137, 0.6158737371284752, -0.7044129206263143, -0.6011354647887283, 0.27189328108133326, -0.4887819767348486, -0.3322275251247731, -0.3632135601356308, -0.7589791693048336, -0.7326416714436504, -0.5756782536734479, 0.23631729426774864, -0.43351182202902205, -0.4798338320066315, -0.5661535164328749, -0.0678095467055348, -0.06720610184011384, -0.22585460191678178, -0.40268390508045326, -0.29914993428018305, -0.44197553201584133, 0.1195211675694572, -0.3453367835843133, 0.3991293621877359, -0.09722364196320317, 0.1906316962101195, 0.05578765923700298, 0.5776536888222983, 0.23491223982922518, -0.15860666878081223, -0.4448015287636664, 0.03416114479991688, -0.22278465505735653, -0.18478249864975582, 0.520006638527915, 0.4523742302951989, 0.33299871406935716, 0.20311295079484717, 0.0764262245242106, 0.5338798465826471, 0.006116330282990908, 0.3472200725699912, -0.15525915100028526, -0.48046644513478864, 0.05410505711864229, 0.1146612697881236, 0.019073781128862866, -0.10407034229545944, 0.23005183734951754, 0.3576862766462327, 0.4051484218319263, 0.47463940801541527, 0.3164427881381135, 0.5556635580078814, 0.17897905481703438, -0.3806921850894293, 0.118359112008962, -0.36445408095062815, -0.11765447744308265, 0.03957658689063188, 0.39646262581358244, 0.04530146232585052, 0.5816219118295692, 0.2573063501009786, 0.3148094319322474, -0.04095542402844545, -0.22567059153776012, 0.018315392366092746, -0.3548096362167093, 0.6109546426084476, -0.005619680819321353, 0.4356232222437507, 0.03804779721293904, -0.1456626359475421, -0.27975884750116586, 0.004048421004817749, 0.009640434070482595, -0.7541195780095549, -0.23318214615822425, 0.056363032386209384, 0.11561108802941955, -0.4796552747074272, -0.2436420997751851, -0.13809890576911363, -0.24181208615497432, -0.4184173228656007, 0.5427820135538592, 0.12949694110876991, -0.3304191545636529, 0.23951681107063183, -0.2735324580153798, 0.041721545276887186, -0.19387789636224045, 0.4389758073923331, -0.16145618043254834, 0.5696035953685583, 0.332740610496579, 0.4255562738443308, 0.242515149874592, -0.23188457750437733, -0.3006181861250815, 0.5700457699671139, 0.09306661044300414, 0.1429425470410308, 0.014858223998165351, -0.03931429866703143, 0.3803488950269894, -0.24025636008927725, -0.27393954019328887, 0.37035918286586705, 0.29801554784936746, 0.5867556154409447, -0.1938067215260253, -0.2802550955293855, -0.13214209519441575, -0.8544576861007479, -0.03001055479664065, 0.07288795496189988, -0.5193556178003739, 0.3604258952298163, -0.598846700145059, 0.07251934122202562, 0.39302906078581257, -0.12039497622471808, 0.10397440485210044, 0.374643510362141, 0.27305312257735054, 0.10416353906609299, 0.05901093582017666, -0.06670115927545663, 0.04673477272148454, -0.48235905107164706, -0.008249524900981834, 0.3463233028078268, 0.48993171053974877, 0.02295130000609512, 0.010632878402682906, 0.6001034959845648, -0.5045336087317742, -0.11855502595264501, 0.4688358918192133, -0.029793296488003572, 0.3581545037814848, -0.06177197817395424, 0.017806772477443313, 0.24228854047770243, 0.24032961459476354, 0.5474323459616698, 0.33366775721684994, -0.08739455109792288, 0.06845836315695866, -0.061050183367127336, -0.15175399323552385, 0.2298631120225921, -0.012416047987631159, -0.02696331800818763, -0.4963029705501559, 0.3117324846068707, -0.051717647295766056, 0.5804748968451805, 0.05755492011551437, 0.028263053235344147, 0.5730556801791962, 0.36753162801979133, -0.15131199274875684, -0.2502601335226308, 0.06314845842586277, -0.42141958434874727, 0.14975316131429653, -0.15979414101040246, 0.6095478302864752, 0.024829536450675063, -0.26693636119859876, 0.12531602008669981, -0.3980587558803841, -0.009091560339481846, 0.4929685869408861, 0.19641364191297075, -0.3606026652742077, -0.09154979926006612, -0.063865760805906, -0.1746718483652644, 0.3846613468081267, -0.41346290031398486, -0.4569631818767377, 0.5194961357913991, 0.41998649942911714, 0.49345383596550413, 0.334605719060691, -0.24242094743828355, 0.2683546149479021, -0.3836349144239101, -0.015523407435267162, 0.48705160498096506, -0.5420486110174777, -0.3048587966669223, 0.2827707793928043, -0.2497332436034901, 0.48478758203784356, -0.15087110129892273, 0.3543125180700025, 0.559048807136564, 0.30652917028569815, 0.1793190620904906, 0.5168876759243897, 0.18645190911508616, 0.45336684382461045, -0.016623900931735013, -0.27547536599367267, 0.2802051206993385, 0.553377327171668, -0.38291957770478413, 0.24027424446160361, 0.19230888684391634, -0.4829839887362791, 0.3147825801828269, -0.5984961996415111, 0.5271509886695456, 0.07669866287105094, 0.3970542182129154, 0.17463898861869867, 0.3830824183448016, -0.23225155804039382, 0.42264013891216956, -0.004783457725531592, -0.020978917234740078, -0.059716094224845646, 0.0035205949768281654, -0.20124559548249882, -0.2157218518483051, -0.6307575800396875, -0.5906265168224789, 0.3396389847428054, 0.05176220777463867, 0.28874511118989793, 0.28523729655634433, -0.1365303602669601, 0.22042520571987828, 0.2618037219173514, 0.256390000334113, -0.1222528432345307, 0.010036137732604625, -0.06353285861981979, 0.5308063076223, -0.4183974176448935, -0.5460645935748067, 0.34221230856182716, -0.2541890531449941, 0.4078113681455245, 0.06463693894324592, -0.07458044932520158, -0.47942309096819324, 0.2716482682723686, -0.6434640075461834, 0.2517352914638022, -0.3057380248737268, 0.06981532704713825, -0.5281959870476456, -0.634474721202114, 0.20633092273432296, -0.6581524748168089, 0.42731110317633286, 0.3036502997389986, 0.16645400081991713, -0.34001720145330466, 0.16180680103426295, 0.44269830018562983, 0.29965636794572736, -0.5134211699238657, -0.3897825833027748, -0.289529444128402, -0.6228451580107597, 0.3824039278416147, 0.19663957604093793, 0.15314188832316314, 0.7858688966374874, 0.47921378078498433, 0.4144680744139147, 0.13963808719584325, 0.5855115356281245, 0.4778322602750062, 0.3517007814958338, 0.5020079404097636, 0.1181879917156715, -0.4405789314270878, -0.42501999132189244, 0.11208839938990138, -0.06092423138748022, 0.5667366977969316, 0.6859298620039255, 0.5312322118751036, -0.10177009544020788, 0.5530632121352557, 0.6234055413294511, -0.43386621188258095, 0.3148505750392153, 0.6038998397570353, 0.5200082618735723, 0.002132968810128834, -0.18031140363712078, -0.4163795084097656, -0.3264967824706682, 0.3478183109250983, 0.2585070844884698, -0.22945875707512733, 0.6439311877647563, 0.22572030462522585, 0.14576339040524877, 0.5089916485516316, 0.19896864522743432, -0.022453723367835694, -0.05043280320709281, -0.5993172147951046, 0.17261663925945828, 0.44505676623358115, 0.23307414691235318, 0.5632682222637417, 0.0055265842396393155, 0.18596174052294698, 0.28179871705410314, 0.10789339326242202, 0.1094313794662627, -0.3383667044863486, 0.43677007923601374, 0.26734368690381277, -0.11618504144103134, -0.080128110326333, -0.4821803654647676, 0.6232848204808534, 0.2784499156551536, -0.2430400760656669, 0.04092779569093421, 0.2796132290486559, 0.07560277430831719, -0.03779056532667746, 0.17555973071500153, -0.33615314040778754, 0.5370484957130813, -0.12940598997584002, -0.41654960421760023, -0.2775799859877423, -0.06899283056088783, -0.7745179576405447, 0.012355570070135964, 0.0796676904265308, -0.5979043235111106, -0.3137661881548675, -0.14230618409324597, -0.4546656250715822, -0.5207383748990722, -0.05548952656926307, 0.2085627420765825, -0.6200065595068328, 0.448602716757996, 0.4406402581488872, -0.12266168011809012, 0.2254792085098949, -0.6147065169574034, 0.769834093541288, -0.43533358142205103, 0.4699142955167773, 0.08890181455848974, 0.4543398930258832, -0.34325506802215455, -0.11736783471199971, 0.4977054138928286, 0.5026770366936099, -0.5417672470773953, 0.3088403459741973, 0.30495096773207303, 0.6097871184144267, 0.08220652797640404, 0.46659374745482474, 0.1310793716747061, -0.2899341886958512, 0.07386786248896766, -0.3302512803955582, 0.1471781969278567, -0.24891923036522243, -0.13126733498858417, 0.3282420149196267, -0.3477265676089854, -0.044650269859428604, -0.19252464721221843, -0.48451444387473946, 0.5652682682284605, 0.21695702292590494, 0.09631274647654305, -0.3136879570095516, 0.09865567549423693, 0.3068909442511003, 0.4183563374576398, -0.48533962366809436, 0.1889032848376426, 0.7968777536096324, -0.21249570375905927, 0.5331248322419241, 0.2264094483922138, -0.20220158457698406, -0.06349198333704471, 0.0668226039303353, 0.6635043598434308, 0.4760045508485225, -0.13359727435238147, 0.3210734011471818, 0.28354529351813973, 0.14436981577577976, 0.10895166804004877, -0.3364424104614897, 0.4440480922303678, -0.05076455870552932, 0.72179068431784, -0.2754552235116, -0.13031499301186972, 0.17267621878841577, 0.3841435166341524, -0.16389023515124457, 0.030448451417155423, -0.09925578747592108, 0.2124794694207565, -0.4576067651464282, 0.36793008995913157, 0.21578117737643984, 0.3593812365299059, -0.07513582526580159, -0.28037325522614087, -0.27441301007330493, 0.3434404207803009, -0.29486535009508436, -0.05840369124752296, 0.23172800775059016, -0.1325364953854252, -0.2126283628989664, 0.28907842703113207, -0.09710246917045523, 0.05543958546027782, -0.08516807757001646, 0.4193927834368857, -0.5576316314795047, 0.15646408324704486, -0.4482668020065421, 0.02028338366679052, -0.5287095409286293, -0.0658821082641793, -0.26925583683605797, 0.054327988196916956, -0.14575298309283022, -0.17477095427910128, 0.2006968405290505, -0.1580875109756406, -0.3002595249834989, -0.12343087317907271, -0.10362755413685225, 0.44159989211215755, 0.13676617804197086, 0.24841517852772102, 0.3198735135827368, -0.33791437993170526, 0.48391297174480347, -0.21466795014539136, -0.45172024562391405, -0.13415729623373923, -0.5259626340360988, -0.3414833439088264, -0.6493829658974578, 0.4855513669440751, 0.4351625722133906, 0.2867563739284562, -0.05082326903024403, -0.702928372063631, 0.3480839732723416, -0.7357322414146209, 0.27022190416757896, -0.27628985809439244, 0.15756227915027432, 0.1761803726143564, 0.4003842328531184, 0.15208390983503817, 0.10254893039697455, 0.4206088638476446, -0.17469685579372585, -0.7383442610802041, 0.43124716918712774, -0.38425963609189323, 0.19921244603512073, 0.2946343349262792, 0.6575949321671154, 0.7347826419137148, -0.3221802913415734, 0.6992274101375674, 0.052519753519017255, -0.19613813676657615, -0.8013567787863815, -0.7609642994200144, 0.7622957404989176, 0.5168877467616562, 0.273991135398656, 0.36016321398998824, 0.47072496497073546, 0.4834319068161457, 0.5408503122070549, 0.6418713184438473, 0.41776976064115, -0.4643947711085717, 0.3837135941744379, -0.3654429792516823, 0.6570311395533186, 0.11663105043899807, -0.4145665766227733, 0.49132349755144344, -0.3141643274850781, 0.3006116219437254, 0.6397676674114143, 0.6205462131616056, 0.5863169924045906, 0.058320319978907735, 0.5879542294569594, -0.41383341413375774, 0.6548285106284903, -0.22948875833329957, 0.009364432285522315, 0.1429059898567059, 0.32507911675304013, -0.5708706883355609, -0.676199858435102, 0.6818981915079595, 0.39906953547824, -0.4988664610909136, -0.6700327962201779, 0.5364232484082813, 0.5313428330531953, -0.32710492662434115, 0.20145423896905404, -0.5523421178428396, -0.4069507656387294, -0.37758538642476536, -0.460308305155806, 0.4156529878711519, -0.4065523339842057]}],                        {\"template\": {\"data\": {\"bar\": [{\"error_x\": {\"color\": \"#f2f5fa\"}, \"error_y\": {\"color\": \"#f2f5fa\"}, \"marker\": {\"line\": {\"color\": \"rgb(17,17,17)\", \"width\": 0.5}}, \"type\": \"bar\"}], \"barpolar\": [{\"marker\": {\"line\": {\"color\": \"rgb(17,17,17)\", \"width\": 0.5}}, \"type\": \"barpolar\"}], \"carpet\": [{\"aaxis\": {\"endlinecolor\": \"#A2B1C6\", \"gridcolor\": \"#506784\", \"linecolor\": \"#506784\", \"minorgridcolor\": \"#506784\", \"startlinecolor\": \"#A2B1C6\"}, \"baxis\": {\"endlinecolor\": \"#A2B1C6\", \"gridcolor\": \"#506784\", \"linecolor\": \"#506784\", \"minorgridcolor\": \"#506784\", \"startlinecolor\": \"#A2B1C6\"}, \"type\": \"carpet\"}], \"choropleth\": [{\"colorbar\": {\"outlinewidth\": 0, \"ticks\": \"\"}, \"type\": \"choropleth\"}], \"contour\": [{\"colorbar\": {\"outlinewidth\": 0, \"ticks\": \"\"}, \"colorscale\": [[0.0, \"#0d0887\"], [0.1111111111111111, \"#46039f\"], [0.2222222222222222, \"#7201a8\"], [0.3333333333333333, \"#9c179e\"], [0.4444444444444444, \"#bd3786\"], [0.5555555555555556, \"#d8576b\"], [0.6666666666666666, \"#ed7953\"], [0.7777777777777778, \"#fb9f3a\"], [0.8888888888888888, \"#fdca26\"], [1.0, \"#f0f921\"]], \"type\": \"contour\"}], \"contourcarpet\": [{\"colorbar\": {\"outlinewidth\": 0, \"ticks\": \"\"}, \"type\": \"contourcarpet\"}], \"heatmap\": [{\"colorbar\": {\"outlinewidth\": 0, \"ticks\": \"\"}, \"colorscale\": [[0.0, \"#0d0887\"], [0.1111111111111111, \"#46039f\"], [0.2222222222222222, \"#7201a8\"], [0.3333333333333333, \"#9c179e\"], [0.4444444444444444, \"#bd3786\"], [0.5555555555555556, \"#d8576b\"], [0.6666666666666666, \"#ed7953\"], [0.7777777777777778, \"#fb9f3a\"], [0.8888888888888888, \"#fdca26\"], [1.0, \"#f0f921\"]], \"type\": \"heatmap\"}], \"heatmapgl\": [{\"colorbar\": {\"outlinewidth\": 0, \"ticks\": \"\"}, \"colorscale\": [[0.0, \"#0d0887\"], [0.1111111111111111, \"#46039f\"], [0.2222222222222222, \"#7201a8\"], [0.3333333333333333, \"#9c179e\"], [0.4444444444444444, \"#bd3786\"], [0.5555555555555556, \"#d8576b\"], [0.6666666666666666, \"#ed7953\"], [0.7777777777777778, \"#fb9f3a\"], [0.8888888888888888, \"#fdca26\"], [1.0, \"#f0f921\"]], \"type\": \"heatmapgl\"}], \"histogram\": [{\"marker\": {\"colorbar\": {\"outlinewidth\": 0, \"ticks\": \"\"}}, \"type\": \"histogram\"}], \"histogram2d\": [{\"colorbar\": {\"outlinewidth\": 0, \"ticks\": \"\"}, \"colorscale\": [[0.0, \"#0d0887\"], [0.1111111111111111, \"#46039f\"], [0.2222222222222222, \"#7201a8\"], [0.3333333333333333, \"#9c179e\"], [0.4444444444444444, \"#bd3786\"], [0.5555555555555556, \"#d8576b\"], [0.6666666666666666, \"#ed7953\"], [0.7777777777777778, \"#fb9f3a\"], [0.8888888888888888, \"#fdca26\"], [1.0, \"#f0f921\"]], \"type\": \"histogram2d\"}], \"histogram2dcontour\": [{\"colorbar\": {\"outlinewidth\": 0, \"ticks\": \"\"}, \"colorscale\": [[0.0, \"#0d0887\"], [0.1111111111111111, \"#46039f\"], [0.2222222222222222, \"#7201a8\"], [0.3333333333333333, \"#9c179e\"], [0.4444444444444444, \"#bd3786\"], [0.5555555555555556, \"#d8576b\"], [0.6666666666666666, \"#ed7953\"], [0.7777777777777778, \"#fb9f3a\"], [0.8888888888888888, \"#fdca26\"], [1.0, \"#f0f921\"]], \"type\": \"histogram2dcontour\"}], \"mesh3d\": [{\"colorbar\": {\"outlinewidth\": 0, \"ticks\": \"\"}, \"type\": \"mesh3d\"}], \"parcoords\": [{\"line\": {\"colorbar\": {\"outlinewidth\": 0, \"ticks\": \"\"}}, \"type\": \"parcoords\"}], \"pie\": [{\"automargin\": true, \"type\": \"pie\"}], \"scatter\": [{\"marker\": {\"line\": {\"color\": \"#283442\"}}, \"type\": \"scatter\"}], \"scatter3d\": [{\"line\": {\"colorbar\": {\"outlinewidth\": 0, \"ticks\": \"\"}}, \"marker\": {\"colorbar\": {\"outlinewidth\": 0, \"ticks\": \"\"}}, \"type\": \"scatter3d\"}], \"scattercarpet\": [{\"marker\": {\"colorbar\": {\"outlinewidth\": 0, \"ticks\": \"\"}}, \"type\": \"scattercarpet\"}], \"scattergeo\": [{\"marker\": {\"colorbar\": {\"outlinewidth\": 0, \"ticks\": \"\"}}, \"type\": \"scattergeo\"}], \"scattergl\": [{\"marker\": {\"line\": {\"color\": \"#283442\"}}, \"type\": \"scattergl\"}], \"scattermapbox\": [{\"marker\": {\"colorbar\": {\"outlinewidth\": 0, \"ticks\": \"\"}}, \"type\": \"scattermapbox\"}], \"scatterpolar\": [{\"marker\": {\"colorbar\": {\"outlinewidth\": 0, \"ticks\": \"\"}}, \"type\": \"scatterpolar\"}], \"scatterpolargl\": [{\"marker\": {\"colorbar\": {\"outlinewidth\": 0, \"ticks\": \"\"}}, \"type\": \"scatterpolargl\"}], \"scatterternary\": [{\"marker\": {\"colorbar\": {\"outlinewidth\": 0, \"ticks\": \"\"}}, \"type\": \"scatterternary\"}], \"surface\": [{\"colorbar\": {\"outlinewidth\": 0, \"ticks\": \"\"}, \"colorscale\": [[0.0, \"#0d0887\"], [0.1111111111111111, \"#46039f\"], [0.2222222222222222, \"#7201a8\"], [0.3333333333333333, \"#9c179e\"], [0.4444444444444444, \"#bd3786\"], [0.5555555555555556, \"#d8576b\"], [0.6666666666666666, \"#ed7953\"], [0.7777777777777778, \"#fb9f3a\"], [0.8888888888888888, \"#fdca26\"], [1.0, \"#f0f921\"]], \"type\": \"surface\"}], \"table\": [{\"cells\": {\"fill\": {\"color\": \"#506784\"}, \"line\": {\"color\": \"rgb(17,17,17)\"}}, \"header\": {\"fill\": {\"color\": \"#2a3f5f\"}, \"line\": {\"color\": \"rgb(17,17,17)\"}}, \"type\": \"table\"}]}, \"layout\": {\"annotationdefaults\": {\"arrowcolor\": \"#f2f5fa\", \"arrowhead\": 0, \"arrowwidth\": 1}, \"autotypenumbers\": \"strict\", \"coloraxis\": {\"colorbar\": {\"outlinewidth\": 0, \"ticks\": \"\"}}, \"colorscale\": {\"diverging\": [[0, \"#8e0152\"], [0.1, \"#c51b7d\"], [0.2, \"#de77ae\"], [0.3, \"#f1b6da\"], [0.4, \"#fde0ef\"], [0.5, \"#f7f7f7\"], [0.6, \"#e6f5d0\"], [0.7, \"#b8e186\"], [0.8, \"#7fbc41\"], [0.9, \"#4d9221\"], [1, \"#276419\"]], \"sequential\": [[0.0, \"#0d0887\"], [0.1111111111111111, \"#46039f\"], [0.2222222222222222, \"#7201a8\"], [0.3333333333333333, \"#9c179e\"], [0.4444444444444444, \"#bd3786\"], [0.5555555555555556, \"#d8576b\"], [0.6666666666666666, \"#ed7953\"], [0.7777777777777778, \"#fb9f3a\"], [0.8888888888888888, \"#fdca26\"], [1.0, \"#f0f921\"]], \"sequentialminus\": [[0.0, \"#0d0887\"], [0.1111111111111111, \"#46039f\"], [0.2222222222222222, \"#7201a8\"], [0.3333333333333333, \"#9c179e\"], [0.4444444444444444, \"#bd3786\"], [0.5555555555555556, \"#d8576b\"], [0.6666666666666666, \"#ed7953\"], [0.7777777777777778, \"#fb9f3a\"], [0.8888888888888888, \"#fdca26\"], [1.0, \"#f0f921\"]]}, \"colorway\": [\"#636efa\", \"#EF553B\", \"#00cc96\", \"#ab63fa\", \"#FFA15A\", \"#19d3f3\", \"#FF6692\", \"#B6E880\", \"#FF97FF\", \"#FECB52\"], \"font\": {\"color\": \"#f2f5fa\"}, \"geo\": {\"bgcolor\": \"rgb(17,17,17)\", \"lakecolor\": \"rgb(17,17,17)\", \"landcolor\": \"rgb(17,17,17)\", \"showlakes\": true, \"showland\": true, \"subunitcolor\": \"#506784\"}, \"hoverlabel\": {\"align\": \"left\"}, \"hovermode\": \"closest\", \"mapbox\": {\"style\": \"dark\"}, \"paper_bgcolor\": \"rgb(17,17,17)\", \"plot_bgcolor\": \"rgb(17,17,17)\", \"polar\": {\"angularaxis\": {\"gridcolor\": \"#506784\", \"linecolor\": \"#506784\", \"ticks\": \"\"}, \"bgcolor\": \"rgb(17,17,17)\", \"radialaxis\": {\"gridcolor\": \"#506784\", \"linecolor\": \"#506784\", \"ticks\": \"\"}}, \"scene\": {\"xaxis\": {\"backgroundcolor\": \"rgb(17,17,17)\", \"gridcolor\": \"#506784\", \"gridwidth\": 2, \"linecolor\": \"#506784\", \"showbackground\": true, \"ticks\": \"\", \"zerolinecolor\": \"#C8D4E3\"}, \"yaxis\": {\"backgroundcolor\": \"rgb(17,17,17)\", \"gridcolor\": \"#506784\", \"gridwidth\": 2, \"linecolor\": \"#506784\", \"showbackground\": true, \"ticks\": \"\", \"zerolinecolor\": \"#C8D4E3\"}, \"zaxis\": {\"backgroundcolor\": \"rgb(17,17,17)\", \"gridcolor\": \"#506784\", \"gridwidth\": 2, \"linecolor\": \"#506784\", \"showbackground\": true, \"ticks\": \"\", \"zerolinecolor\": \"#C8D4E3\"}}, \"shapedefaults\": {\"line\": {\"color\": \"#f2f5fa\"}}, \"sliderdefaults\": {\"bgcolor\": \"#C8D4E3\", \"bordercolor\": \"rgb(17,17,17)\", \"borderwidth\": 1, \"tickwidth\": 0}, \"ternary\": {\"aaxis\": {\"gridcolor\": \"#506784\", \"linecolor\": \"#506784\", \"ticks\": \"\"}, \"baxis\": {\"gridcolor\": \"#506784\", \"linecolor\": \"#506784\", \"ticks\": \"\"}, \"bgcolor\": \"rgb(17,17,17)\", \"caxis\": {\"gridcolor\": \"#506784\", \"linecolor\": \"#506784\", \"ticks\": \"\"}}, \"title\": {\"x\": 0.05}, \"updatemenudefaults\": {\"bgcolor\": \"#506784\", \"borderwidth\": 0}, \"xaxis\": {\"automargin\": true, \"gridcolor\": \"#283442\", \"linecolor\": \"#506784\", \"ticks\": \"\", \"title\": {\"standoff\": 15}, \"zerolinecolor\": \"#283442\", \"zerolinewidth\": 2}, \"yaxis\": {\"automargin\": true, \"gridcolor\": \"#283442\", \"linecolor\": \"#506784\", \"ticks\": \"\", \"title\": {\"standoff\": 15}, \"zerolinecolor\": \"#283442\", \"zerolinewidth\": 2}}}, \"title\": {\"text\": \"Joke embeddings\"}},                        {\"responsive\": true}                    ).then(function(){\n",
              "                            \n",
              "var gd = document.getElementById('744e29c5-8f02-4ae6-8114-7375c62283c7');\n",
              "var x = new MutationObserver(function (mutations, observer) {{\n",
              "        var display = window.getComputedStyle(gd).display;\n",
              "        if (!display || display === 'none') {{\n",
              "            console.log([gd, 'removed!']);\n",
              "            Plotly.purge(gd);\n",
              "            observer.disconnect();\n",
              "        }}\n",
              "}});\n",
              "\n",
              "// Listen for the removal of the full notebook cells\n",
              "var notebookContainer = gd.closest('#notebook-container');\n",
              "if (notebookContainer) {{\n",
              "    x.observe(notebookContainer, {childList: true});\n",
              "}}\n",
              "\n",
              "// Listen for the clearing of the current output cell\n",
              "var outputEl = gd.closest('.output');\n",
              "if (outputEl) {{\n",
              "    x.observe(outputEl, {childList: true});\n",
              "}}\n",
              "\n",
              "                        })                };                            </script>        </div>\n",
              "</body>\n",
              "</html>"
            ]
          },
          "metadata": {
            "tags": []
          }
        }
      ]
    }
  ]
}